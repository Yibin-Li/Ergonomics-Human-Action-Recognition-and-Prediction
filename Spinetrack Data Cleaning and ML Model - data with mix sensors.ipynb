{
 "cells": [
  {
   "cell_type": "markdown",
   "metadata": {},
   "source": [
    "# Data cleaning and reformating"
   ]
  },
  {
   "cell_type": "code",
   "execution_count": 79,
   "metadata": {},
   "outputs": [],
   "source": [
    "import torch\n",
    "from torch import nn\n",
    "from torch import optim\n",
    "import torch.nn.functional as F\n",
    "from torchvision import datasets, transforms, models\n",
    "from torch.utils.data import DataLoader, Dataset\\\n",
    "\n",
    "\n",
    "import pandas as pd\n",
    "import numpy as np\n",
    "import os\n",
    "\n",
    "from random import shuffle, seed"
   ]
  },
  {
   "cell_type": "code",
   "execution_count": 80,
   "metadata": {},
   "outputs": [],
   "source": [
    "header = ['TimeSec', 'Sensor', 'Quatx', 'Quaty', 'Quatz', 'Quat0', 'Heading',\n",
    "       'Pitch', 'Roll', 'LinAccx', 'LinAccy', 'LinAccz', 'Vbat', 'Accx',\n",
    "       'Accy', 'Accz', 'Gyrox', 'Gyroy', 'Gyroz']"
   ]
  },
  {
   "cell_type": "code",
   "execution_count": 81,
   "metadata": {},
   "outputs": [],
   "source": [
    "### Take a look at one dataset\n",
    "# file_path = \"./spinetrack data/Task_Drilling_Stoop.csv\"\n",
    "# df = pd.read_csv(file_path, error_bad_lines=False)\n",
    "# df.columns = header\n",
    "\n",
    "# df[\"Activity\"] = [1 for i in range(len(df))]\n",
    "# df"
   ]
  },
  {
   "cell_type": "code",
   "execution_count": 82,
   "metadata": {},
   "outputs": [],
   "source": [
    "# index_lst = []\n",
    "# index_dict = {}\n",
    "# # for i in sorted(os.listdir('./Spinetrack Data/data/Alex_data/Processed_redone')):\n",
    "# for i in sorted(os.listdir('./Spinetrack Data/data/Alex_data/Processed')):\n",
    "#     if i.endswith(\".csv\") and i != 'super_features.csv': \n",
    "#         # should we combinme same activities together?\n",
    "#         act_lst = i.split('.')[0].split('_')\n",
    "#         if len(act_lst) > 1 and act_lst[1] == 'OneH':\n",
    "#             act = act_lst[0] + '_' + act_lst[1]\n",
    "#         else:\n",
    "#             act = act_lst[0]\n",
    "#         #act = i.split('.')[0]\n",
    "#         index_lst.append(act)\n",
    "\n",
    "# # delete multiple items\n",
    "# index_set = set(index_lst)\n",
    "# index_set.remove('Static')\n",
    "# index_set.remove('L')\n",
    "# index_set.remove('L_OneH')\n",
    "# index_set.add('Static_Stoop')\n",
    "# index_set.add('Lifting')\n",
    "# index_set.add('Lifting_OneH')\n",
    "\n",
    "# index_dict = {act:i for i, act in enumerate(index_set)}"
   ]
  },
  {
   "cell_type": "code",
   "execution_count": 83,
   "metadata": {},
   "outputs": [],
   "source": [
    "# print(index_dict)"
   ]
  },
  {
   "cell_type": "code",
   "execution_count": 84,
   "metadata": {},
   "outputs": [],
   "source": [
    "index_dict = {'Pulling_OneH': 0, 'Overhead': 1, 'Pulling': 2, 'Sitting': 3, \n",
    "              'Lifting': 4, 'Crawling': 5, 'Standing': 6, 'Carrying': 7, \n",
    "              'Walking': 8, 'Pushing': 9, 'Reaching': 10, 'Static_Stoop': 11, \n",
    "              'Kneeling': 12, 'Lifting_OneH': 13, 'Crouching': 14}"
   ]
  },
  {
   "cell_type": "code",
   "execution_count": 85,
   "metadata": {},
   "outputs": [
    {
     "name": "stdout",
     "output_type": "stream",
     "text": [
      "Alex_data number of activity: 44\n",
      "Alexander_data number of activity: 44\n",
      "Charlotte_data number of activity: 43\n",
      "Christian_data number of activity: 34\n",
      "Elias_data number of activity: 44\n",
      "Gerald_data number of activity: 44\n",
      "Jesse_data number of activity: 44\n",
      "Jiyoo_data number of activity: 43\n",
      "Jusef_data number of activity: 44\n",
      "Lian_data number of activity: 33\n",
      "Lori_data number of activity: 34\n",
      "Marc_data number of activity: 34\n",
      "Marie_data number of activity: 44\n"
     ]
    }
   ],
   "source": [
    "directory = \"./Spinetrack Data/data/\"\n",
    "file = []\n",
    "\n",
    "for d in sorted(os.listdir(directory)):\n",
    "    if d != '.DS_Store' and d != 'Niraj_data':\n",
    "        # files = directory + d + \"/Processed_redone\"\n",
    "        files = directory + d\n",
    "        name = []\n",
    "        try:\n",
    "            for f in sorted(os.listdir(files)):\n",
    "                if f.endswith(\".csv\") and f != 'super_features.csv': \n",
    "                    name.append(files + \"/\" + f)\n",
    "            file.append(name)\n",
    "            print(\"%s number of activity: %s\" %(d, len(name)))\n",
    "        except:\n",
    "            pass\n",
    "#file"
   ]
  },
  {
   "cell_type": "code",
   "execution_count": 86,
   "metadata": {},
   "outputs": [
    {
     "name": "stdout",
     "output_type": "stream",
     "text": [
      "processing:  ./Spinetrack Data/data/Alex_data/Carrying_10.csv\n",
      "processing:  ./Spinetrack Data/data/Alex_data/Carrying_20.csv\n",
      "processing:  ./Spinetrack Data/data/Alex_data/Carrying_5.csv\n",
      "processing:  ./Spinetrack Data/data/Alex_data/Crawling.csv\n"
     ]
    },
    {
     "name": "stderr",
     "output_type": "stream",
     "text": [
      "b'Skipping line 4429: expected 19 fields, saw 29\\n'\n"
     ]
    },
    {
     "name": "stdout",
     "output_type": "stream",
     "text": [
      "processing:  ./Spinetrack Data/data/Alex_data/Crouching.csv\n",
      "processing:  ./Spinetrack Data/data/Alex_data/Kneeling.csv\n",
      "processing:  ./Spinetrack Data/data/Alex_data/L_Floor_60in_10.csv\n",
      "processing:  ./Spinetrack Data/data/Alex_data/L_Floor_60in_20.csv\n",
      "processing:  ./Spinetrack Data/data/Alex_data/L_Floor_60in_5.csv\n",
      "processing:  ./Spinetrack Data/data/Alex_data/L_Floor_Shoulder_10.csv\n",
      "processing:  ./Spinetrack Data/data/Alex_data/L_Floor_Shoulder_20.csv\n"
     ]
    },
    {
     "name": "stderr",
     "output_type": "stream",
     "text": [
      "b'Skipping line 6187: expected 19 fields, saw 20\\n'\n"
     ]
    },
    {
     "name": "stdout",
     "output_type": "stream",
     "text": [
      "processing:  ./Spinetrack Data/data/Alex_data/L_Floor_Shoulder_5.csv\n",
      "processing:  ./Spinetrack Data/data/Alex_data/L_Floor_Waist_Squat_10.csv\n",
      "processing:  ./Spinetrack Data/data/Alex_data/L_Floor_Waist_Squat_20.csv\n",
      "processing:  ./Spinetrack Data/data/Alex_data/L_Floor_Waist_Squat_5.csv\n",
      "processing:  ./Spinetrack Data/data/Alex_data/L_Floor_Waist_Stoop_10.csv\n",
      "processing:  ./Spinetrack Data/data/Alex_data/L_Floor_Waist_Stoop_20.csv\n",
      "processing:  ./Spinetrack Data/data/Alex_data/L_Floor_Waist_Stoop_5.csv\n",
      "processing:  ./Spinetrack Data/data/Alex_data/L_OneH_L_10.csv\n"
     ]
    },
    {
     "name": "stderr",
     "output_type": "stream",
     "text": [
      "b'Skipping line 6803: expected 19 fields, saw 20\\n'\n"
     ]
    },
    {
     "name": "stdout",
     "output_type": "stream",
     "text": [
      "processing:  ./Spinetrack Data/data/Alex_data/L_OneH_L_15.csv\n",
      "processing:  ./Spinetrack Data/data/Alex_data/L_OneH_L_5.csv\n",
      "processing:  ./Spinetrack Data/data/Alex_data/L_OneH_R_10.csv\n",
      "processing:  ./Spinetrack Data/data/Alex_data/L_OneH_R_15.csv\n",
      "processing:  ./Spinetrack Data/data/Alex_data/L_OneH_R_5.csv\n",
      "processing:  ./Spinetrack Data/data/Alex_data/L_Shoulder_Waist_Twist_10.csv\n",
      "processing:  ./Spinetrack Data/data/Alex_data/L_Shoulder_Waist_Twist_20.csv\n",
      "processing:  ./Spinetrack Data/data/Alex_data/L_Shoulder_Waist_Twist_5.csv\n",
      "processing:  ./Spinetrack Data/data/Alex_data/L_Shoulder_Waist_wo_10.csv\n",
      "processing:  ./Spinetrack Data/data/Alex_data/L_Shoulder_Waist_wo_20.csv\n",
      "processing:  ./Spinetrack Data/data/Alex_data/L_Shoulder_Waist_wo_5.csv\n"
     ]
    },
    {
     "name": "stderr",
     "output_type": "stream",
     "text": [
      "b'Skipping line 7931: expected 19 fields, saw 24\\nSkipping line 7945: expected 19 fields, saw 22\\n'\n"
     ]
    },
    {
     "name": "stdout",
     "output_type": "stream",
     "text": [
      "processing:  ./Spinetrack Data/data/Alex_data/Overhead_Dynamic.csv\n",
      "processing:  ./Spinetrack Data/data/Alex_data/Overhead_Static.csv\n",
      "processing:  ./Spinetrack Data/data/Alex_data/Pulling_Clockwise.csv\n",
      "processing:  ./Spinetrack Data/data/Alex_data/Pulling_OneH_L.csv\n",
      "processing:  ./Spinetrack Data/data/Alex_data/Pulling_OneH_R.csv\n",
      "processing:  ./Spinetrack Data/data/Alex_data/Pushing_Clockwise.csv\n",
      "processing:  ./Spinetrack Data/data/Alex_data/Pushing_Counterclockwise.csv\n"
     ]
    },
    {
     "name": "stderr",
     "output_type": "stream",
     "text": [
      "b'Skipping line 5449: expected 19 fields, saw 24\\n'\n"
     ]
    },
    {
     "name": "stdout",
     "output_type": "stream",
     "text": [
      "processing:  ./Spinetrack Data/data/Alex_data/Reaching_Close.csv\n",
      "processing:  ./Spinetrack Data/data/Alex_data/Reaching_Far.csv\n",
      "processing:  ./Spinetrack Data/data/Alex_data/Reaching_High.csv\n",
      "processing:  ./Spinetrack Data/data/Alex_data/Sitting.csv\n",
      "processing:  ./Spinetrack Data/data/Alex_data/Standing.csv\n",
      "processing:  ./Spinetrack Data/data/Alex_data/Static_Stoop.csv\n",
      "processing:  ./Spinetrack Data/data/Alex_data/Walking.csv\n",
      "processing:  ./Spinetrack Data/data/Alexander_data/Carrying_10.csv\n",
      "processing:  ./Spinetrack Data/data/Alexander_data/Carrying_20.csv\n",
      "processing:  ./Spinetrack Data/data/Alexander_data/Carrying_5.csv\n",
      "processing:  ./Spinetrack Data/data/Alexander_data/Crawling.csv\n",
      "processing:  ./Spinetrack Data/data/Alexander_data/Crouching.csv\n",
      "processing:  ./Spinetrack Data/data/Alexander_data/L_Floor_60in_10.csv\n",
      "processing:  ./Spinetrack Data/data/Alexander_data/L_Floor_60in_20.csv\n",
      "processing:  ./Spinetrack Data/data/Alexander_data/L_Floor_60in_5.csv\n",
      "processing:  ./Spinetrack Data/data/Alexander_data/L_Floor_Shoulder_10.csv\n"
     ]
    },
    {
     "name": "stderr",
     "output_type": "stream",
     "text": [
      "b'Skipping line 6229: expected 19 fields, saw 23\\nSkipping line 6253: expected 19 fields, saw 21\\nSkipping line 6951: expected 19 fields, saw 20\\n'\n"
     ]
    },
    {
     "name": "stdout",
     "output_type": "stream",
     "text": [
      "processing:  ./Spinetrack Data/data/Alexander_data/L_Floor_Shoulder_20.csv\n",
      "processing:  ./Spinetrack Data/data/Alexander_data/L_Floor_Shoulder_5.csv\n"
     ]
    },
    {
     "name": "stderr",
     "output_type": "stream",
     "text": [
      "b'Skipping line 3661: expected 19 fields, saw 21\\nSkipping line 4001: expected 19 fields, saw 20\\nSkipping line 4031: expected 19 fields, saw 23\\nSkipping line 6095: expected 19 fields, saw 20\\nSkipping line 7329: expected 19 fields, saw 21\\nSkipping line 7359: expected 19 fields, saw 22\\n'\n"
     ]
    },
    {
     "name": "stdout",
     "output_type": "stream",
     "text": [
      "processing:  ./Spinetrack Data/data/Alexander_data/L_Floor_Waist_Squat_10.csv\n",
      "processing:  ./Spinetrack Data/data/Alexander_data/L_Floor_Waist_Squat_20.csv\n",
      "processing:  ./Spinetrack Data/data/Alexander_data/L_Floor_Waist_Squat_5.csv\n",
      "processing:  ./Spinetrack Data/data/Alexander_data/L_Floor_Waist_Stoop_10.csv\n",
      "processing:  ./Spinetrack Data/data/Alexander_data/L_Floor_Waist_Stoop_20.csv\n",
      "processing:  ./Spinetrack Data/data/Alexander_data/L_Floor_Waist_Stoop_5.csv\n",
      "processing:  ./Spinetrack Data/data/Alexander_data/L_OneH_L_10.csv\n",
      "processing:  ./Spinetrack Data/data/Alexander_data/L_OneH_L_15.csv\n",
      "processing:  ./Spinetrack Data/data/Alexander_data/L_OneH_L_5.csv\n",
      "processing:  ./Spinetrack Data/data/Alexander_data/L_OneH_R_10.csv\n",
      "processing:  ./Spinetrack Data/data/Alexander_data/L_OneH_R_15.csv\n",
      "processing:  ./Spinetrack Data/data/Alexander_data/L_OneH_R_5.csv\n",
      "processing:  ./Spinetrack Data/data/Alexander_data/L_Shoulder_Waist_Twist_10.csv\n",
      "processing:  ./Spinetrack Data/data/Alexander_data/L_Shoulder_Waist_Twist_20.csv\n",
      "processing:  ./Spinetrack Data/data/Alexander_data/L_Shoulder_Waist_Twist_5.csv\n",
      "processing:  ./Spinetrack Data/data/Alexander_data/L_Shoulder_Waist_wo_10.csv\n",
      "processing:  ./Spinetrack Data/data/Alexander_data/L_Shoulder_Waist_wo_20.csv\n",
      "processing:  ./Spinetrack Data/data/Alexander_data/L_Shoulder_Waist_wo_5.csv\n",
      "processing:  ./Spinetrack Data/data/Alexander_data/Overhead_Dynamic.csv\n",
      "processing:  ./Spinetrack Data/data/Alexander_data/Overhead_Static.csv\n",
      "processing:  ./Spinetrack Data/data/Alexander_data/Pulling_Clockwise.csv\n",
      "processing:  ./Spinetrack Data/data/Alexander_data/Pulling_OneH_L.csv\n",
      "processing:  ./Spinetrack Data/data/Alexander_data/Pulling_OneH_R.csv\n",
      "processing:  ./Spinetrack Data/data/Alexander_data/Pushing_Clockwise.csv\n",
      "processing:  ./Spinetrack Data/data/Alexander_data/Pushing_Counterclockwise.csv\n",
      "processing:  ./Spinetrack Data/data/Alexander_data/Reaching_Close.csv\n",
      "processing:  ./Spinetrack Data/data/Alexander_data/Reaching_Far.csv\n",
      "processing:  ./Spinetrack Data/data/Alexander_data/Reaching_High.csv\n",
      "processing:  ./Spinetrack Data/data/Alexander_data/Sitting.csv\n",
      "processing:  ./Spinetrack Data/data/Alexander_data/Standing.csv\n",
      "processing:  ./Spinetrack Data/data/Alexander_data/Static_Stoop.csv\n",
      "processing:  ./Spinetrack Data/data/Alexander_data/Walking.csv\n",
      "processing:  ./Spinetrack Data/data/Alexander_data/Walking_Max.csv\n",
      "processing:  ./Spinetrack Data/data/Charlotte_data/Carrying_10.csv\n",
      "processing:  ./Spinetrack Data/data/Charlotte_data/Carrying_20.csv\n",
      "processing:  ./Spinetrack Data/data/Charlotte_data/Carrying_5.csv\n",
      "processing:  ./Spinetrack Data/data/Charlotte_data/Crawling.csv\n"
     ]
    },
    {
     "name": "stderr",
     "output_type": "stream",
     "text": [
      "b'Skipping line 2625: expected 19 fields, saw 21\\nSkipping line 2639: expected 19 fields, saw 21\\nSkipping line 2961: expected 19 fields, saw 21\\nSkipping line 3083: expected 19 fields, saw 20\\nSkipping line 3459: expected 19 fields, saw 22\\nSkipping line 4155: expected 19 fields, saw 23\\nSkipping line 5247: expected 19 fields, saw 20\\n'\n"
     ]
    },
    {
     "name": "stdout",
     "output_type": "stream",
     "text": [
      "processing:  ./Spinetrack Data/data/Charlotte_data/Crouching.csv\n",
      "processing:  ./Spinetrack Data/data/Charlotte_data/Kneeling.csv\n",
      "processing:  ./Spinetrack Data/data/Charlotte_data/L_Floor_60in_10.csv\n",
      "processing:  ./Spinetrack Data/data/Charlotte_data/L_Floor_60in_20.csv\n",
      "processing:  ./Spinetrack Data/data/Charlotte_data/L_Floor_60in_5.csv\n",
      "processing:  ./Spinetrack Data/data/Charlotte_data/L_Floor_Shoulder_10.csv\n",
      "processing:  ./Spinetrack Data/data/Charlotte_data/L_Floor_Shoulder_20.csv\n",
      "processing:  ./Spinetrack Data/data/Charlotte_data/L_Floor_Shoulder_5.csv\n",
      "processing:  ./Spinetrack Data/data/Charlotte_data/L_Floor_Waist_Squat_10.csv\n",
      "processing:  ./Spinetrack Data/data/Charlotte_data/L_Floor_Waist_Squat_20.csv\n"
     ]
    },
    {
     "name": "stderr",
     "output_type": "stream",
     "text": [
      "b'Skipping line 4487: expected 19 fields, saw 24\\nSkipping line 4547: expected 19 fields, saw 22\\nSkipping line 4575: expected 19 fields, saw 20\\nSkipping line 4589: expected 19 fields, saw 23\\nSkipping line 4933: expected 19 fields, saw 21\\nSkipping line 6029: expected 19 fields, saw 24\\nSkipping line 6127: expected 19 fields, saw 21\\n'\n"
     ]
    },
    {
     "name": "stdout",
     "output_type": "stream",
     "text": [
      "processing:  ./Spinetrack Data/data/Charlotte_data/L_Floor_Waist_Squat_5.csv\n",
      "processing:  ./Spinetrack Data/data/Charlotte_data/L_Floor_Waist_Stoop_10.csv\n",
      "processing:  ./Spinetrack Data/data/Charlotte_data/L_Floor_Waist_Stoop_20.csv\n"
     ]
    },
    {
     "name": "stderr",
     "output_type": "stream",
     "text": [
      "b'Skipping line 6939: expected 19 fields, saw 23\\nSkipping line 7529: expected 19 fields, saw 20\\n'\n"
     ]
    },
    {
     "name": "stdout",
     "output_type": "stream",
     "text": [
      "processing:  ./Spinetrack Data/data/Charlotte_data/L_Floor_Waist_Stoop_5.csv\n",
      "processing:  ./Spinetrack Data/data/Charlotte_data/L_OneH_L_10.csv\n",
      "processing:  ./Spinetrack Data/data/Charlotte_data/L_OneH_L_15.csv\n",
      "processing:  ./Spinetrack Data/data/Charlotte_data/L_OneH_L_5.csv\n"
     ]
    },
    {
     "name": "stderr",
     "output_type": "stream",
     "text": [
      "b'Skipping line 7549: expected 19 fields, saw 24\\nSkipping line 8691: expected 19 fields, saw 20\\n'\n"
     ]
    },
    {
     "name": "stdout",
     "output_type": "stream",
     "text": [
      "processing:  ./Spinetrack Data/data/Charlotte_data/L_OneH_R_10.csv\n",
      "processing:  ./Spinetrack Data/data/Charlotte_data/L_OneH_R_15.csv\n"
     ]
    },
    {
     "name": "stderr",
     "output_type": "stream",
     "text": [
      "b'Skipping line 3437: expected 19 fields, saw 21\\nSkipping line 6807: expected 19 fields, saw 30\\n'\n"
     ]
    },
    {
     "name": "stdout",
     "output_type": "stream",
     "text": [
      "processing:  ./Spinetrack Data/data/Charlotte_data/L_OneH_R_5.csv\n",
      "processing:  ./Spinetrack Data/data/Charlotte_data/L_Shoulder_Waist_Twist_10.csv\n",
      "processing:  ./Spinetrack Data/data/Charlotte_data/L_Shoulder_Waist_Twist_5.csv\n",
      "processing:  ./Spinetrack Data/data/Charlotte_data/L_Shoulder_Waist_wo_10.csv\n",
      "processing:  ./Spinetrack Data/data/Charlotte_data/L_Shoulder_Waist_wo_20.csv\n",
      "processing:  ./Spinetrack Data/data/Charlotte_data/L_Shoulder_Waist_wo_5.csv\n",
      "processing:  ./Spinetrack Data/data/Charlotte_data/Overhead_Dynamic.csv\n",
      "processing:  ./Spinetrack Data/data/Charlotte_data/Overhead_Static.csv\n",
      "processing:  ./Spinetrack Data/data/Charlotte_data/Pulling_Clockwise.csv\n",
      "processing:  ./Spinetrack Data/data/Charlotte_data/Pulling_OneH_L.csv\n",
      "processing:  ./Spinetrack Data/data/Charlotte_data/Pulling_OneH_R.csv\n",
      "processing:  ./Spinetrack Data/data/Charlotte_data/Pushing_Clockwise.csv\n",
      "processing:  ./Spinetrack Data/data/Charlotte_data/Pushing_Counterclockwise.csv\n",
      "processing:  ./Spinetrack Data/data/Charlotte_data/Reaching_Close.csv\n",
      "processing:  ./Spinetrack Data/data/Charlotte_data/Reaching_Far.csv\n",
      "processing:  ./Spinetrack Data/data/Charlotte_data/Reaching_High.csv\n",
      "processing:  ./Spinetrack Data/data/Charlotte_data/Sitting.csv\n",
      "processing:  ./Spinetrack Data/data/Charlotte_data/Standing.csv\n",
      "processing:  ./Spinetrack Data/data/Charlotte_data/Static_Stoop.csv\n",
      "processing:  ./Spinetrack Data/data/Charlotte_data/Walking.csv\n",
      "processing:  ./Spinetrack Data/data/Christian_data/Carrying.csv\n"
     ]
    },
    {
     "name": "stderr",
     "output_type": "stream",
     "text": [
      "b'Skipping line 957: expected 19 fields, saw 23\\nSkipping line 1041: expected 19 fields, saw 21\\nSkipping line 1533: expected 19 fields, saw 24\\nSkipping line 1591: expected 19 fields, saw 22\\nSkipping line 1607: expected 19 fields, saw 24\\nSkipping line 1647: expected 19 fields, saw 25\\nSkipping line 1841: expected 19 fields, saw 21\\nSkipping line 1937: expected 19 fields, saw 20\\nSkipping line 2225: expected 19 fields, saw 23\\nSkipping line 2337: expected 19 fields, saw 21\\nSkipping line 2921: expected 19 fields, saw 24\\nSkipping line 2985: expected 19 fields, saw 22\\nSkipping line 3039: expected 19 fields, saw 27\\nSkipping line 3237: expected 19 fields, saw 22\\nSkipping line 3521: expected 19 fields, saw 20\\nSkipping line 3535: expected 19 fields, saw 24\\nSkipping line 4091: expected 19 fields, saw 26\\nSkipping line 4119: expected 19 fields, saw 22\\nSkipping line 4133: expected 19 fields, saw 22\\nSkipping line 4221: expected 19 fields, saw 20\\nSkipping line 4407: expected 19 fields, saw 25\\nSkipping line 4457: expected 19 fields, saw 25\\nSkipping line 4509: expected 19 fields, saw 20\\nSkipping line 4557: expected 19 fields, saw 23\\nSkipping line 4593: expected 19 fields, saw 20\\n'\n"
     ]
    },
    {
     "name": "stdout",
     "output_type": "stream",
     "text": [
      "processing:  ./Spinetrack Data/data/Christian_data/Crawling.csv\n"
     ]
    },
    {
     "name": "stderr",
     "output_type": "stream",
     "text": [
      "b'Skipping line 1685: expected 19 fields, saw 22\\nSkipping line 1877: expected 19 fields, saw 31\\nSkipping line 1931: expected 19 fields, saw 29\\nSkipping line 2547: expected 19 fields, saw 20\\nSkipping line 2561: expected 19 fields, saw 24\\nSkipping line 2631: expected 19 fields, saw 20\\nSkipping line 3451: expected 19 fields, saw 24\\nSkipping line 3493: expected 19 fields, saw 21\\nSkipping line 3645: expected 19 fields, saw 23\\nSkipping line 3747: expected 19 fields, saw 29\\nSkipping line 3941: expected 19 fields, saw 20\\nSkipping line 4095: expected 19 fields, saw 21\\nSkipping line 4229: expected 19 fields, saw 22\\nSkipping line 4399: expected 19 fields, saw 21\\nSkipping line 4413: expected 19 fields, saw 23\\nSkipping line 4529: expected 19 fields, saw 22\\nSkipping line 4623: expected 19 fields, saw 24\\nSkipping line 4791: expected 19 fields, saw 22\\nSkipping line 4861: expected 19 fields, saw 20\\nSkipping line 5251: expected 19 fields, saw 20\\nSkipping line 5469: expected 19 fields, saw 24\\n'\n"
     ]
    },
    {
     "name": "stdout",
     "output_type": "stream",
     "text": [
      "processing:  ./Spinetrack Data/data/Christian_data/Crouching.csv\n"
     ]
    },
    {
     "name": "stderr",
     "output_type": "stream",
     "text": [
      "b'Skipping line 489: expected 19 fields, saw 25\\nSkipping line 547: expected 19 fields, saw 23\\nSkipping line 631: expected 19 fields, saw 24\\nSkipping line 643: expected 19 fields, saw 22\\nSkipping line 799: expected 19 fields, saw 24\\nSkipping line 1033: expected 19 fields, saw 22\\nSkipping line 1137: expected 19 fields, saw 25\\nSkipping line 1165: expected 19 fields, saw 25\\nSkipping line 1237: expected 19 fields, saw 22\\nSkipping line 1299: expected 19 fields, saw 24\\nSkipping line 1361: expected 19 fields, saw 21\\nSkipping line 1463: expected 19 fields, saw 25\\nSkipping line 1501: expected 19 fields, saw 24\\nSkipping line 1711: expected 19 fields, saw 23\\nSkipping line 2093: expected 19 fields, saw 20\\nSkipping line 2341: expected 19 fields, saw 25\\nSkipping line 2369: expected 19 fields, saw 21\\nSkipping line 2431: expected 19 fields, saw 20\\nSkipping line 2555: expected 19 fields, saw 21\\nSkipping line 2615: expected 19 fields, saw 20\\nSkipping line 2913: expected 19 fields, saw 23\\nSkipping line 2927: expected 19 fields, saw 22\\nSkipping line 3051: expected 19 fields, saw 21\\nSkipping line 3107: expected 19 fields, saw 22\\nSkipping line 3247: expected 19 fields, saw 20\\nSkipping line 3287: expected 19 fields, saw 22\\nSkipping line 3313: expected 19 fields, saw 23\\nSkipping line 3343: expected 19 fields, saw 22\\nSkipping line 3437: expected 19 fields, saw 24\\nSkipping line 3713: expected 19 fields, saw 21\\nSkipping line 3745: expected 19 fields, saw 20\\nSkipping line 3759: expected 19 fields, saw 26\\nSkipping line 3921: expected 19 fields, saw 23\\nSkipping line 4057: expected 19 fields, saw 23\\nSkipping line 4165: expected 19 fields, saw 23\\nSkipping line 4211: expected 19 fields, saw 23\\nSkipping line 4229: expected 19 fields, saw 24\\nSkipping line 4245: expected 19 fields, saw 20\\n'\n"
     ]
    },
    {
     "name": "stdout",
     "output_type": "stream",
     "text": [
      "processing:  ./Spinetrack Data/data/Christian_data/Kneeling.csv\n",
      "processing:  ./Spinetrack Data/data/Christian_data/L_Floor_60in_1.csv\n"
     ]
    },
    {
     "name": "stderr",
     "output_type": "stream",
     "text": [
      "b'Skipping line 383: expected 19 fields, saw 29\\nSkipping line 517: expected 19 fields, saw 20\\nSkipping line 617: expected 19 fields, saw 25\\nSkipping line 629: expected 19 fields, saw 24\\nSkipping line 657: expected 19 fields, saw 23\\nSkipping line 811: expected 19 fields, saw 23\\nSkipping line 849: expected 19 fields, saw 23\\nSkipping line 913: expected 19 fields, saw 23\\nSkipping line 953: expected 19 fields, saw 21\\nSkipping line 1033: expected 19 fields, saw 25\\nSkipping line 1059: expected 19 fields, saw 21\\nSkipping line 1101: expected 19 fields, saw 20\\nSkipping line 1165: expected 19 fields, saw 21\\nSkipping line 1409: expected 19 fields, saw 25\\nSkipping line 1449: expected 19 fields, saw 22\\nSkipping line 1525: expected 19 fields, saw 20\\nSkipping line 1539: expected 19 fields, saw 25\\nSkipping line 1551: expected 19 fields, saw 25\\nSkipping line 1659: expected 19 fields, saw 26\\nSkipping line 1671: expected 19 fields, saw 20\\nSkipping line 1811: expected 19 fields, saw 22\\nSkipping line 1837: expected 19 fields, saw 20\\nSkipping line 2057: expected 19 fields, saw 28\\nSkipping line 2137: expected 19 fields, saw 29\\nSkipping line 2149: expected 19 fields, saw 28\\nSkipping line 2393: expected 19 fields, saw 26\\nSkipping line 2457: expected 19 fields, saw 22\\nSkipping line 2481: expected 19 fields, saw 24\\nSkipping line 2507: expected 19 fields, saw 27\\nSkipping line 2519: expected 19 fields, saw 22\\nSkipping line 2561: expected 19 fields, saw 27\\nSkipping line 2775: expected 19 fields, saw 21\\nSkipping line 2895: expected 19 fields, saw 26\\nSkipping line 3083: expected 19 fields, saw 24\\nSkipping line 3107: expected 19 fields, saw 23\\nSkipping line 3187: expected 19 fields, saw 21\\nSkipping line 3363: expected 19 fields, saw 22\\nSkipping line 3463: expected 19 fields, saw 24\\nSkipping line 3655: expected 19 fields, saw 26\\nSkipping line 3969: expected 19 fields, saw 25\\nSkipping line 3997: expected 19 fields, saw 28\\nSkipping line 4009: expected 19 fields, saw 20\\nSkipping line 4047: expected 19 fields, saw 28\\nSkipping line 4059: expected 19 fields, saw 27\\nSkipping line 4259: expected 19 fields, saw 23\\nSkipping line 4409: expected 19 fields, saw 24\\nSkipping line 4503: expected 19 fields, saw 23\\nSkipping line 4593: expected 19 fields, saw 27\\nSkipping line 4617: expected 19 fields, saw 24\\nSkipping line 4793: expected 19 fields, saw 23\\nSkipping line 4947: expected 19 fields, saw 26\\nSkipping line 5021: expected 19 fields, saw 21\\nSkipping line 5167: expected 19 fields, saw 27\\nSkipping line 5191: expected 19 fields, saw 29\\nSkipping line 5203: expected 19 fields, saw 32\\nSkipping line 5793: expected 19 fields, saw 26\\nSkipping line 6019: expected 19 fields, saw 20\\nSkipping line 6031: expected 19 fields, saw 26\\nSkipping line 6077: expected 19 fields, saw 23\\nSkipping line 6403: expected 19 fields, saw 23\\nSkipping line 6443: expected 19 fields, saw 22\\nSkipping line 6501: expected 19 fields, saw 21\\nSkipping line 6513: expected 19 fields, saw 24\\nSkipping line 6617: expected 19 fields, saw 30\\nSkipping line 7071: expected 19 fields, saw 22\\nSkipping line 7105: expected 19 fields, saw 20\\nSkipping line 7331: expected 19 fields, saw 23\\nSkipping line 7355: expected 19 fields, saw 21\\nSkipping line 7521: expected 19 fields, saw 21\\nSkipping line 7735: expected 19 fields, saw 22\\nSkipping line 8085: expected 19 fields, saw 28\\nSkipping line 8267: expected 19 fields, saw 22\\nSkipping line 8361: expected 19 fields, saw 20\\nSkipping line 8377: expected 19 fields, saw 21\\nSkipping line 8431: expected 19 fields, saw 23\\nSkipping line 8621: expected 19 fields, saw 25\\nSkipping line 8709: expected 19 fields, saw 26\\nSkipping line 8807: expected 19 fields, saw 24\\nSkipping line 8847: expected 19 fields, saw 24\\nSkipping line 8863: expected 19 fields, saw 23\\nSkipping line 8891: expected 19 fields, saw 25\\nSkipping line 9079: expected 19 fields, saw 22\\nSkipping line 9405: expected 19 fields, saw 24\\nSkipping line 9511: expected 19 fields, saw 24\\nSkipping line 9537: expected 19 fields, saw 24\\nSkipping line 9577: expected 19 fields, saw 24\\nSkipping line 9871: expected 19 fields, saw 20\\nSkipping line 9983: expected 19 fields, saw 25\\nSkipping line 10029: expected 19 fields, saw 21\\nSkipping line 10455: expected 19 fields, saw 21\\nSkipping line 10599: expected 19 fields, saw 25\\nSkipping line 10637: expected 19 fields, saw 20\\nSkipping line 10679: expected 19 fields, saw 26\\nSkipping line 10815: expected 19 fields, saw 22\\nSkipping line 10919: expected 19 fields, saw 34\\nSkipping line 11203: expected 19 fields, saw 27\\nSkipping line 11487: expected 19 fields, saw 23\\nSkipping line 11537: expected 19 fields, saw 26\\nSkipping line 11561: expected 19 fields, saw 27\\nSkipping line 11729: expected 19 fields, saw 22\\nSkipping line 11895: expected 19 fields, saw 20\\nSkipping line 11955: expected 19 fields, saw 21\\nSkipping line 12125: expected 19 fields, saw 24\\nSkipping line 12297: expected 19 fields, saw 29\\nSkipping line 12379: expected 19 fields, saw 23\\nSkipping line 12449: expected 19 fields, saw 20\\nSkipping line 12473: expected 19 fields, saw 26\\nSkipping line 12553: expected 19 fields, saw 25\\nSkipping line 12711: expected 19 fields, saw 26\\nSkipping line 12873: expected 19 fields, saw 34\\nSkipping line 13461: expected 19 fields, saw 22\\nSkipping line 13725: expected 19 fields, saw 28\\nSkipping line 13765: expected 19 fields, saw 25\\nSkipping line 13917: expected 19 fields, saw 25\\nSkipping line 13931: expected 19 fields, saw 26\\nSkipping line 14227: expected 19 fields, saw 22\\nSkipping line 14301: expected 19 fields, saw 21\\nSkipping line 14357: expected 19 fields, saw 23\\nSkipping line 14407: expected 19 fields, saw 24\\nSkipping line 14593: expected 19 fields, saw 24\\nSkipping line 14633: expected 19 fields, saw 24\\nSkipping line 14645: expected 19 fields, saw 30\\nSkipping line 14757: expected 19 fields, saw 26\\nSkipping line 14795: expected 19 fields, saw 26\\nSkipping line 14807: expected 19 fields, saw 21\\nSkipping line 15133: expected 19 fields, saw 25\\nSkipping line 15185: expected 19 fields, saw 27\\nSkipping line 15261: expected 19 fields, saw 23\\nSkipping line 15361: expected 19 fields, saw 31\\nSkipping line 15791: expected 19 fields, saw 21\\nSkipping line 15865: expected 19 fields, saw 23\\nSkipping line 16219: expected 19 fields, saw 23\\nSkipping line 16231: expected 19 fields, saw 26\\nSkipping line 16417: expected 19 fields, saw 32\\nSkipping line 16827: expected 19 fields, saw 27\\nSkipping line 16931: expected 19 fields, saw 21\\nSkipping line 17355: expected 19 fields, saw 27\\nSkipping line 17509: expected 19 fields, saw 21\\nSkipping line 17607: expected 19 fields, saw 25\\nSkipping line 17657: expected 19 fields, saw 33\\nSkipping line 17801: expected 19 fields, saw 26\\nSkipping line 17871: expected 19 fields, saw 22\\nSkipping line 19073: expected 19 fields, saw 25\\nSkipping line 19127: expected 19 fields, saw 25\\nSkipping line 19233: expected 19 fields, saw 27\\nSkipping line 19289: expected 19 fields, saw 22\\nSkipping line 19301: expected 19 fields, saw 27\\nSkipping line 19439: expected 19 fields, saw 30\\nSkipping line 19779: expected 19 fields, saw 26\\nSkipping line 19823: expected 19 fields, saw 29\\n'\n"
     ]
    },
    {
     "name": "stdout",
     "output_type": "stream",
     "text": [
      "processing:  ./Spinetrack Data/data/Christian_data/L_Floor_60in_2.csv\n"
     ]
    },
    {
     "name": "stderr",
     "output_type": "stream",
     "text": [
      "b'Skipping line 555: expected 19 fields, saw 22\\nSkipping line 681: expected 19 fields, saw 21\\nSkipping line 1031: expected 19 fields, saw 26\\nSkipping line 1245: expected 19 fields, saw 25\\nSkipping line 1269: expected 19 fields, saw 24\\nSkipping line 1381: expected 19 fields, saw 23\\nSkipping line 1483: expected 19 fields, saw 27\\nSkipping line 1871: expected 19 fields, saw 21\\nSkipping line 2151: expected 19 fields, saw 24\\nSkipping line 2233: expected 19 fields, saw 22\\nSkipping line 2245: expected 19 fields, saw 25\\nSkipping line 2319: expected 19 fields, saw 25\\nSkipping line 2427: expected 19 fields, saw 23\\nSkipping line 2827: expected 19 fields, saw 25\\nSkipping line 2969: expected 19 fields, saw 21\\nSkipping line 3035: expected 19 fields, saw 23\\nSkipping line 3129: expected 19 fields, saw 21\\nSkipping line 3247: expected 19 fields, saw 26\\nSkipping line 3345: expected 19 fields, saw 20\\nSkipping line 3437: expected 19 fields, saw 25\\nSkipping line 3505: expected 19 fields, saw 25\\nSkipping line 4015: expected 19 fields, saw 25\\nSkipping line 4027: expected 19 fields, saw 23\\nSkipping line 4719: expected 19 fields, saw 23\\nSkipping line 4767: expected 19 fields, saw 21\\nSkipping line 5423: expected 19 fields, saw 21\\nSkipping line 5467: expected 19 fields, saw 25\\nSkipping line 6025: expected 19 fields, saw 27\\nSkipping line 6173: expected 19 fields, saw 26\\nSkipping line 6351: expected 19 fields, saw 22\\nSkipping line 6377: expected 19 fields, saw 21\\nSkipping line 6627: expected 19 fields, saw 21\\nSkipping line 6747: expected 19 fields, saw 23\\nSkipping line 6761: expected 19 fields, saw 21\\nSkipping line 6787: expected 19 fields, saw 23\\nSkipping line 6851: expected 19 fields, saw 23\\nSkipping line 7083: expected 19 fields, saw 27\\nSkipping line 7199: expected 19 fields, saw 20\\nSkipping line 7679: expected 19 fields, saw 22\\nSkipping line 7971: expected 19 fields, saw 22\\nSkipping line 8107: expected 19 fields, saw 20\\nSkipping line 9101: expected 19 fields, saw 23\\nSkipping line 9373: expected 19 fields, saw 21\\nSkipping line 9467: expected 19 fields, saw 24\\nSkipping line 9509: expected 19 fields, saw 24\\nSkipping line 9699: expected 19 fields, saw 27\\nSkipping line 9745: expected 19 fields, saw 21\\nSkipping line 10195: expected 19 fields, saw 27\\nSkipping line 10237: expected 19 fields, saw 28\\nSkipping line 10659: expected 19 fields, saw 25\\nSkipping line 10993: expected 19 fields, saw 23\\nSkipping line 11269: expected 19 fields, saw 22\\nSkipping line 11345: expected 19 fields, saw 26\\nSkipping line 11809: expected 19 fields, saw 21\\nSkipping line 11865: expected 19 fields, saw 25\\nSkipping line 11899: expected 19 fields, saw 20\\nSkipping line 11953: expected 19 fields, saw 25\\nSkipping line 12427: expected 19 fields, saw 21\\nSkipping line 12809: expected 19 fields, saw 24\\nSkipping line 12827: expected 19 fields, saw 23\\nSkipping line 12851: expected 19 fields, saw 24\\nSkipping line 12877: expected 19 fields, saw 24\\nSkipping line 13143: expected 19 fields, saw 22\\nSkipping line 13167: expected 19 fields, saw 21\\nSkipping line 13231: expected 19 fields, saw 23\\nSkipping line 13255: expected 19 fields, saw 23\\nSkipping line 13337: expected 19 fields, saw 21\\nSkipping line 13383: expected 19 fields, saw 23\\nSkipping line 13523: expected 19 fields, saw 20\\nSkipping line 13839: expected 19 fields, saw 21\\nSkipping line 14049: expected 19 fields, saw 23\\nSkipping line 14245: expected 19 fields, saw 27\\nSkipping line 14343: expected 19 fields, saw 22\\nSkipping line 14571: expected 19 fields, saw 22\\nSkipping line 14719: expected 19 fields, saw 23\\nSkipping line 14767: expected 19 fields, saw 21\\nSkipping line 15063: expected 19 fields, saw 24\\nSkipping line 15159: expected 19 fields, saw 23\\nSkipping line 15315: expected 19 fields, saw 23\\nSkipping line 15361: expected 19 fields, saw 25\\nSkipping line 15647: expected 19 fields, saw 20\\nSkipping line 15735: expected 19 fields, saw 22\\nSkipping line 15775: expected 19 fields, saw 25\\nSkipping line 16187: expected 19 fields, saw 20\\nSkipping line 16539: expected 19 fields, saw 26\\nSkipping line 16683: expected 19 fields, saw 25\\nSkipping line 16931: expected 19 fields, saw 25\\nSkipping line 16943: expected 19 fields, saw 24\\nSkipping line 17133: expected 19 fields, saw 23\\nSkipping line 17227: expected 19 fields, saw 20\\nSkipping line 17269: expected 19 fields, saw 23\\nSkipping line 17489: expected 19 fields, saw 23\\nSkipping line 17651: expected 19 fields, saw 26\\nSkipping line 17725: expected 19 fields, saw 20\\n'\n"
     ]
    },
    {
     "name": "stdout",
     "output_type": "stream",
     "text": [
      "processing:  ./Spinetrack Data/data/Christian_data/L_Floor_Shoulder_1.csv\n",
      "processing:  ./Spinetrack Data/data/Christian_data/L_Floor_Shoulder_2.csv\n"
     ]
    },
    {
     "name": "stderr",
     "output_type": "stream",
     "text": [
      "b'Skipping line 21535: expected 19 fields, saw 22\\nSkipping line 23241: expected 19 fields, saw 22\\n'\n"
     ]
    },
    {
     "name": "stdout",
     "output_type": "stream",
     "text": [
      "processing:  ./Spinetrack Data/data/Christian_data/L_Floor_Waist_Squat_1.csv\n",
      "processing:  ./Spinetrack Data/data/Christian_data/L_Floor_Waist_Squat_2.csv\n"
     ]
    },
    {
     "name": "stderr",
     "output_type": "stream",
     "text": [
      "b'Skipping line 10769: expected 19 fields, saw 23\\nSkipping line 10901: expected 19 fields, saw 20\\nSkipping line 14043: expected 19 fields, saw 24\\nSkipping line 14853: expected 19 fields, saw 28\\nSkipping line 14907: expected 19 fields, saw 25\\nSkipping line 15193: expected 19 fields, saw 24\\nSkipping line 15559: expected 19 fields, saw 23\\nSkipping line 21081: expected 19 fields, saw 21\\nSkipping line 21875: expected 19 fields, saw 20\\nSkipping line 23579: expected 19 fields, saw 24\\nSkipping line 23617: expected 19 fields, saw 25\\nSkipping line 23963: expected 19 fields, saw 21\\n'\n"
     ]
    },
    {
     "name": "stdout",
     "output_type": "stream",
     "text": [
      "processing:  ./Spinetrack Data/data/Christian_data/L_Floor_Waist_Stoop_1.csv\n"
     ]
    },
    {
     "name": "stderr",
     "output_type": "stream",
     "text": [
      "b'Skipping line 7890: expected 19 fields, saw 24\\nSkipping line 13740: expected 19 fields, saw 20\\nSkipping line 16404: expected 19 fields, saw 21\\nSkipping line 16722: expected 19 fields, saw 25\\nSkipping line 16736: expected 19 fields, saw 22\\nSkipping line 16856: expected 19 fields, saw 23\\nSkipping line 16916: expected 19 fields, saw 29\\nSkipping line 17950: expected 19 fields, saw 24\\nSkipping line 18316: expected 19 fields, saw 22\\n'\n"
     ]
    },
    {
     "name": "stdout",
     "output_type": "stream",
     "text": [
      "processing:  ./Spinetrack Data/data/Christian_data/L_Floor_Waist_Stoop_2.csv\n",
      "processing:  ./Spinetrack Data/data/Christian_data/L_OneH_L_1.csv\n"
     ]
    },
    {
     "name": "stderr",
     "output_type": "stream",
     "text": [
      "b'Skipping line 785: expected 19 fields, saw 28\\nSkipping line 821: expected 19 fields, saw 25\\nSkipping line 861: expected 19 fields, saw 22\\nSkipping line 1115: expected 19 fields, saw 21\\nSkipping line 1295: expected 19 fields, saw 23\\nSkipping line 1367: expected 19 fields, saw 23\\nSkipping line 1681: expected 19 fields, saw 23\\nSkipping line 1881: expected 19 fields, saw 26\\nSkipping line 2087: expected 19 fields, saw 23\\nSkipping line 2447: expected 19 fields, saw 23\\nSkipping line 2593: expected 19 fields, saw 29\\nSkipping line 2679: expected 19 fields, saw 25\\nSkipping line 3417: expected 19 fields, saw 20\\nSkipping line 4241: expected 19 fields, saw 25\\nSkipping line 5049: expected 19 fields, saw 20\\nSkipping line 5791: expected 19 fields, saw 26\\nSkipping line 5839: expected 19 fields, saw 21\\nSkipping line 5965: expected 19 fields, saw 20\\nSkipping line 6177: expected 19 fields, saw 21\\nSkipping line 6603: expected 19 fields, saw 21\\nSkipping line 6653: expected 19 fields, saw 20\\nSkipping line 6977: expected 19 fields, saw 21\\nSkipping line 7101: expected 19 fields, saw 24\\nSkipping line 7195: expected 19 fields, saw 28\\nSkipping line 7329: expected 19 fields, saw 22\\nSkipping line 7371: expected 19 fields, saw 24\\nSkipping line 7589: expected 19 fields, saw 21\\nSkipping line 8289: expected 19 fields, saw 23\\nSkipping line 8317: expected 19 fields, saw 24\\nSkipping line 8527: expected 19 fields, saw 25\\nSkipping line 8679: expected 19 fields, saw 22\\nSkipping line 9025: expected 19 fields, saw 26\\nSkipping line 9119: expected 19 fields, saw 24\\nSkipping line 9191: expected 19 fields, saw 31\\nSkipping line 9721: expected 19 fields, saw 26\\nSkipping line 9963: expected 19 fields, saw 21\\nSkipping line 10095: expected 19 fields, saw 27\\nSkipping line 10107: expected 19 fields, saw 21\\nSkipping line 10621: expected 19 fields, saw 23\\nSkipping line 10915: expected 19 fields, saw 23\\nSkipping line 11015: expected 19 fields, saw 23\\nSkipping line 11115: expected 19 fields, saw 24\\nSkipping line 11181: expected 19 fields, saw 23\\nSkipping line 11355: expected 19 fields, saw 27\\nSkipping line 11367: expected 19 fields, saw 25\\nSkipping line 11379: expected 19 fields, saw 24\\nSkipping line 11465: expected 19 fields, saw 24\\nSkipping line 11529: expected 19 fields, saw 21\\nSkipping line 12153: expected 19 fields, saw 24\\nSkipping line 12705: expected 19 fields, saw 24\\nSkipping line 12779: expected 19 fields, saw 21\\nSkipping line 12853: expected 19 fields, saw 22\\nSkipping line 12941: expected 19 fields, saw 20\\nSkipping line 13017: expected 19 fields, saw 23\\nSkipping line 13053: expected 19 fields, saw 24\\nSkipping line 13253: expected 19 fields, saw 20\\nSkipping line 13657: expected 19 fields, saw 26\\nSkipping line 13713: expected 19 fields, saw 28\\nSkipping line 13725: expected 19 fields, saw 26\\nSkipping line 13737: expected 19 fields, saw 31\\nSkipping line 13779: expected 19 fields, saw 25\\nSkipping line 13803: expected 19 fields, saw 23\\nSkipping line 13815: expected 19 fields, saw 27\\nSkipping line 14701: expected 19 fields, saw 22\\nSkipping line 14759: expected 19 fields, saw 27\\nSkipping line 15033: expected 19 fields, saw 24\\nSkipping line 15285: expected 19 fields, saw 21\\nSkipping line 15389: expected 19 fields, saw 25\\nSkipping line 15563: expected 19 fields, saw 24\\nSkipping line 15785: expected 19 fields, saw 26\\nSkipping line 16269: expected 19 fields, saw 21\\nSkipping line 16359: expected 19 fields, saw 22\\nSkipping line 16743: expected 19 fields, saw 24\\nSkipping line 17037: expected 19 fields, saw 21\\nSkipping line 17149: expected 19 fields, saw 27\\nSkipping line 17259: expected 19 fields, saw 24\\nSkipping line 17427: expected 19 fields, saw 22\\nSkipping line 17685: expected 19 fields, saw 28\\nSkipping line 17737: expected 19 fields, saw 29\\n'\n"
     ]
    },
    {
     "name": "stdout",
     "output_type": "stream",
     "text": [
      "processing:  ./Spinetrack Data/data/Christian_data/L_OneH_L_2.csv\n"
     ]
    },
    {
     "name": "stderr",
     "output_type": "stream",
     "text": [
      "b'Skipping line 399: expected 19 fields, saw 22\\nSkipping line 573: expected 19 fields, saw 21\\nSkipping line 847: expected 19 fields, saw 28\\nSkipping line 901: expected 19 fields, saw 24\\nSkipping line 939: expected 19 fields, saw 24\\nSkipping line 1245: expected 19 fields, saw 21\\nSkipping line 1269: expected 19 fields, saw 21\\nSkipping line 1283: expected 19 fields, saw 25\\nSkipping line 1319: expected 19 fields, saw 23\\nSkipping line 1331: expected 19 fields, saw 22\\nSkipping line 1495: expected 19 fields, saw 25\\nSkipping line 1519: expected 19 fields, saw 21\\nSkipping line 1809: expected 19 fields, saw 27\\nSkipping line 1859: expected 19 fields, saw 20\\nSkipping line 2173: expected 19 fields, saw 27\\nSkipping line 2199: expected 19 fields, saw 26\\nSkipping line 2273: expected 19 fields, saw 24\\nSkipping line 2791: expected 19 fields, saw 28\\nSkipping line 3445: expected 19 fields, saw 20\\nSkipping line 4079: expected 19 fields, saw 27\\nSkipping line 4253: expected 19 fields, saw 25\\nSkipping line 4361: expected 19 fields, saw 30\\nSkipping line 4421: expected 19 fields, saw 20\\nSkipping line 4703: expected 19 fields, saw 27\\nSkipping line 5471: expected 19 fields, saw 23\\nSkipping line 5689: expected 19 fields, saw 28\\nSkipping line 5785: expected 19 fields, saw 20\\nSkipping line 5815: expected 19 fields, saw 24\\nSkipping line 6237: expected 19 fields, saw 25\\nSkipping line 6317: expected 19 fields, saw 24\\nSkipping line 6721: expected 19 fields, saw 20\\nSkipping line 6855: expected 19 fields, saw 23\\nSkipping line 6939: expected 19 fields, saw 22\\nSkipping line 7019: expected 19 fields, saw 23\\nSkipping line 7155: expected 19 fields, saw 30\\nSkipping line 7297: expected 19 fields, saw 25\\nSkipping line 7581: expected 19 fields, saw 21\\nSkipping line 7607: expected 19 fields, saw 21\\nSkipping line 7725: expected 19 fields, saw 26\\nSkipping line 7823: expected 19 fields, saw 24\\nSkipping line 7915: expected 19 fields, saw 26\\nSkipping line 8399: expected 19 fields, saw 25\\nSkipping line 8467: expected 19 fields, saw 26\\nSkipping line 8575: expected 19 fields, saw 27\\nSkipping line 8657: expected 19 fields, saw 27\\nSkipping line 8757: expected 19 fields, saw 22\\nSkipping line 9093: expected 19 fields, saw 21\\nSkipping line 9221: expected 19 fields, saw 27\\nSkipping line 9287: expected 19 fields, saw 25\\nSkipping line 9817: expected 19 fields, saw 24\\nSkipping line 9853: expected 19 fields, saw 23\\nSkipping line 9965: expected 19 fields, saw 21\\nSkipping line 9989: expected 19 fields, saw 26\\nSkipping line 10425: expected 19 fields, saw 25\\nSkipping line 10539: expected 19 fields, saw 22\\nSkipping line 10551: expected 19 fields, saw 28\\nSkipping line 10563: expected 19 fields, saw 27\\nSkipping line 10601: expected 19 fields, saw 20\\nSkipping line 10651: expected 19 fields, saw 23\\nSkipping line 10813: expected 19 fields, saw 22\\nSkipping line 10825: expected 19 fields, saw 26\\nSkipping line 10849: expected 19 fields, saw 22\\nSkipping line 10921: expected 19 fields, saw 25\\nSkipping line 10933: expected 19 fields, saw 25\\nSkipping line 10997: expected 19 fields, saw 20\\nSkipping line 11387: expected 19 fields, saw 23\\nSkipping line 11423: expected 19 fields, saw 23\\nSkipping line 11477: expected 19 fields, saw 21\\nSkipping line 11509: expected 19 fields, saw 22\\nSkipping line 11575: expected 19 fields, saw 21\\nSkipping line 11637: expected 19 fields, saw 26\\nSkipping line 11737: expected 19 fields, saw 23\\nSkipping line 12061: expected 19 fields, saw 21\\nSkipping line 12195: expected 19 fields, saw 25\\nSkipping line 12319: expected 19 fields, saw 20\\nSkipping line 12331: expected 19 fields, saw 23\\nSkipping line 12343: expected 19 fields, saw 20\\nSkipping line 12539: expected 19 fields, saw 20\\nSkipping line 13145: expected 19 fields, saw 21\\nSkipping line 13423: expected 19 fields, saw 27\\nSkipping line 13873: expected 19 fields, saw 25\\nSkipping line 14281: expected 19 fields, saw 27\\nSkipping line 14633: expected 19 fields, saw 28\\nSkipping line 15371: expected 19 fields, saw 23\\nSkipping line 18157: expected 19 fields, saw 22\\nSkipping line 18169: expected 19 fields, saw 20\\nSkipping line 18183: expected 19 fields, saw 28\\nSkipping line 18763: expected 19 fields, saw 26\\nSkipping line 18797: expected 19 fields, saw 26\\n'\n"
     ]
    },
    {
     "name": "stdout",
     "output_type": "stream",
     "text": [
      "processing:  ./Spinetrack Data/data/Christian_data/L_OneH_R_1.csv\n"
     ]
    },
    {
     "name": "stderr",
     "output_type": "stream",
     "text": [
      "b'Skipping line 7867: expected 19 fields, saw 25\\nSkipping line 8355: expected 19 fields, saw 20\\nSkipping line 8383: expected 19 fields, saw 21\\nSkipping line 8569: expected 19 fields, saw 22\\nSkipping line 8943: expected 19 fields, saw 26\\nSkipping line 8959: expected 19 fields, saw 26\\nSkipping line 9023: expected 19 fields, saw 22\\nSkipping line 9113: expected 19 fields, saw 24\\nSkipping line 9129: expected 19 fields, saw 24\\nSkipping line 9871: expected 19 fields, saw 20\\nSkipping line 10041: expected 19 fields, saw 21\\nSkipping line 10091: expected 19 fields, saw 27\\nSkipping line 10147: expected 19 fields, saw 23\\nSkipping line 10303: expected 19 fields, saw 24\\nSkipping line 10393: expected 19 fields, saw 20\\nSkipping line 10471: expected 19 fields, saw 24\\nSkipping line 10485: expected 19 fields, saw 22\\nSkipping line 10599: expected 19 fields, saw 27\\nSkipping line 11741: expected 19 fields, saw 20\\nSkipping line 12009: expected 19 fields, saw 27\\nSkipping line 12089: expected 19 fields, saw 24\\nSkipping line 12171: expected 19 fields, saw 27\\nSkipping line 12183: expected 19 fields, saw 21\\nSkipping line 12567: expected 19 fields, saw 25\\nSkipping line 12637: expected 19 fields, saw 26\\nSkipping line 12679: expected 19 fields, saw 20\\nSkipping line 12747: expected 19 fields, saw 21\\nSkipping line 12821: expected 19 fields, saw 20\\nSkipping line 12847: expected 19 fields, saw 24\\nSkipping line 12859: expected 19 fields, saw 23\\nSkipping line 12947: expected 19 fields, saw 31\\nSkipping line 13045: expected 19 fields, saw 23\\nSkipping line 13143: expected 19 fields, saw 30\\nSkipping line 13181: expected 19 fields, saw 27\\nSkipping line 13343: expected 19 fields, saw 24\\nSkipping line 13819: expected 19 fields, saw 24\\nSkipping line 13977: expected 19 fields, saw 32\\nSkipping line 14057: expected 19 fields, saw 24\\nSkipping line 14289: expected 19 fields, saw 20\\nSkipping line 14435: expected 19 fields, saw 26\\nSkipping line 14557: expected 19 fields, saw 23\\nSkipping line 14827: expected 19 fields, saw 25\\nSkipping line 14897: expected 19 fields, saw 23\\nSkipping line 14911: expected 19 fields, saw 27\\nSkipping line 15013: expected 19 fields, saw 31\\nSkipping line 15297: expected 19 fields, saw 21\\nSkipping line 15539: expected 19 fields, saw 22\\nSkipping line 15563: expected 19 fields, saw 28\\nSkipping line 15587: expected 19 fields, saw 25\\nSkipping line 15637: expected 19 fields, saw 20\\nSkipping line 15743: expected 19 fields, saw 27\\nSkipping line 16081: expected 19 fields, saw 23\\nSkipping line 16119: expected 19 fields, saw 21\\nSkipping line 16211: expected 19 fields, saw 29\\nSkipping line 16511: expected 19 fields, saw 27\\nSkipping line 16589: expected 19 fields, saw 25\\nSkipping line 16721: expected 19 fields, saw 25\\nSkipping line 17061: expected 19 fields, saw 26\\nSkipping line 17241: expected 19 fields, saw 20\\nSkipping line 17253: expected 19 fields, saw 23\\nSkipping line 17351: expected 19 fields, saw 25\\nSkipping line 17365: expected 19 fields, saw 27\\nSkipping line 17467: expected 19 fields, saw 27\\nSkipping line 17479: expected 19 fields, saw 22\\nSkipping line 17757: expected 19 fields, saw 26\\nSkipping line 17877: expected 19 fields, saw 26\\nSkipping line 17889: expected 19 fields, saw 22\\nSkipping line 17915: expected 19 fields, saw 24\\nSkipping line 17927: expected 19 fields, saw 22\\nSkipping line 18041: expected 19 fields, saw 24\\nSkipping line 18107: expected 19 fields, saw 25\\nSkipping line 18245: expected 19 fields, saw 26\\nSkipping line 18283: expected 19 fields, saw 23\\nSkipping line 18481: expected 19 fields, saw 22\\nSkipping line 18605: expected 19 fields, saw 22\\nSkipping line 18617: expected 19 fields, saw 24\\nSkipping line 18749: expected 19 fields, saw 26\\nSkipping line 18863: expected 19 fields, saw 23\\nSkipping line 18901: expected 19 fields, saw 25\\nSkipping line 19785: expected 19 fields, saw 23\\nSkipping line 19875: expected 19 fields, saw 29\\nSkipping line 19957: expected 19 fields, saw 29\\nSkipping line 20025: expected 19 fields, saw 21\\nSkipping line 20107: expected 19 fields, saw 24\\nSkipping line 20163: expected 19 fields, saw 26\\nSkipping line 20193: expected 19 fields, saw 26\\nSkipping line 20219: expected 19 fields, saw 31\\nSkipping line 20231: expected 19 fields, saw 33\\nSkipping line 20273: expected 19 fields, saw 20\\nSkipping line 20313: expected 19 fields, saw 22\\nSkipping line 20615: expected 19 fields, saw 21\\nSkipping line 20629: expected 19 fields, saw 22\\nSkipping line 20643: expected 19 fields, saw 22\\nSkipping line 20673: expected 19 fields, saw 20\\nSkipping line 20743: expected 19 fields, saw 24\\nSkipping line 21109: expected 19 fields, saw 25\\nSkipping line 21303: expected 19 fields, saw 21\\nSkipping line 21343: expected 19 fields, saw 25\\n'\n"
     ]
    },
    {
     "name": "stdout",
     "output_type": "stream",
     "text": [
      "processing:  ./Spinetrack Data/data/Christian_data/L_OneH_R_2.csv\n"
     ]
    },
    {
     "name": "stderr",
     "output_type": "stream",
     "text": [
      "b'Skipping line 557: expected 19 fields, saw 25\\nSkipping line 571: expected 19 fields, saw 25\\nSkipping line 713: expected 19 fields, saw 27\\nSkipping line 755: expected 19 fields, saw 20\\nSkipping line 797: expected 19 fields, saw 30\\nSkipping line 879: expected 19 fields, saw 26\\nSkipping line 1075: expected 19 fields, saw 20\\nSkipping line 1201: expected 19 fields, saw 23\\nSkipping line 1213: expected 19 fields, saw 27\\nSkipping line 1419: expected 19 fields, saw 25\\nSkipping line 1431: expected 19 fields, saw 27\\nSkipping line 1621: expected 19 fields, saw 24\\nSkipping line 1649: expected 19 fields, saw 21\\nSkipping line 1663: expected 19 fields, saw 22\\nSkipping line 1693: expected 19 fields, saw 22\\nSkipping line 1707: expected 19 fields, saw 24\\nSkipping line 1761: expected 19 fields, saw 23\\nSkipping line 1909: expected 19 fields, saw 32\\nSkipping line 2355: expected 19 fields, saw 22\\nSkipping line 2521: expected 19 fields, saw 25\\nSkipping line 2641: expected 19 fields, saw 26\\nSkipping line 2801: expected 19 fields, saw 22\\nSkipping line 2909: expected 19 fields, saw 23\\nSkipping line 2935: expected 19 fields, saw 25\\nSkipping line 2973: expected 19 fields, saw 30\\nSkipping line 3109: expected 19 fields, saw 28\\nSkipping line 3279: expected 19 fields, saw 22\\nSkipping line 3475: expected 19 fields, saw 24\\nSkipping line 3555: expected 19 fields, saw 23\\nSkipping line 4071: expected 19 fields, saw 22\\nSkipping line 4137: expected 19 fields, saw 26\\nSkipping line 4271: expected 19 fields, saw 23\\nSkipping line 4373: expected 19 fields, saw 25\\nSkipping line 4413: expected 19 fields, saw 28\\nSkipping line 4425: expected 19 fields, saw 29\\nSkipping line 5311: expected 19 fields, saw 20\\nSkipping line 5373: expected 19 fields, saw 23\\nSkipping line 5601: expected 19 fields, saw 26\\nSkipping line 5813: expected 19 fields, saw 21\\nSkipping line 5843: expected 19 fields, saw 22\\nSkipping line 5857: expected 19 fields, saw 21\\nSkipping line 5869: expected 19 fields, saw 25\\nSkipping line 5947: expected 19 fields, saw 22\\nSkipping line 5987: expected 19 fields, saw 23\\nSkipping line 6281: expected 19 fields, saw 24\\nSkipping line 6557: expected 19 fields, saw 23\\nSkipping line 6631: expected 19 fields, saw 26\\nSkipping line 6711: expected 19 fields, saw 28\\nSkipping line 6825: expected 19 fields, saw 23\\nSkipping line 7029: expected 19 fields, saw 21\\nSkipping line 7081: expected 19 fields, saw 26\\nSkipping line 7143: expected 19 fields, saw 23\\nSkipping line 7171: expected 19 fields, saw 26\\nSkipping line 7227: expected 19 fields, saw 26\\nSkipping line 7267: expected 19 fields, saw 27\\nSkipping line 7339: expected 19 fields, saw 27\\nSkipping line 7381: expected 19 fields, saw 25\\nSkipping line 7499: expected 19 fields, saw 28\\nSkipping line 7777: expected 19 fields, saw 23\\nSkipping line 7945: expected 19 fields, saw 24\\nSkipping line 8447: expected 19 fields, saw 21\\nSkipping line 8761: expected 19 fields, saw 22\\nSkipping line 8855: expected 19 fields, saw 20\\nSkipping line 8933: expected 19 fields, saw 23\\nSkipping line 9023: expected 19 fields, saw 23\\nSkipping line 9103: expected 19 fields, saw 24\\nSkipping line 9143: expected 19 fields, saw 20\\nSkipping line 9357: expected 19 fields, saw 24\\nSkipping line 9675: expected 19 fields, saw 29\\nSkipping line 10037: expected 19 fields, saw 21\\nSkipping line 10207: expected 19 fields, saw 22\\nSkipping line 10305: expected 19 fields, saw 20\\nSkipping line 10427: expected 19 fields, saw 27\\nSkipping line 10911: expected 19 fields, saw 23\\nSkipping line 11003: expected 19 fields, saw 26\\nSkipping line 11027: expected 19 fields, saw 25\\nSkipping line 11051: expected 19 fields, saw 24\\nSkipping line 11487: expected 19 fields, saw 26\\nSkipping line 11635: expected 19 fields, saw 26\\nSkipping line 11687: expected 19 fields, saw 20\\nSkipping line 11853: expected 19 fields, saw 27\\nSkipping line 11957: expected 19 fields, saw 25\\nSkipping line 12153: expected 19 fields, saw 27\\nSkipping line 12259: expected 19 fields, saw 25\\nSkipping line 12377: expected 19 fields, saw 24\\nSkipping line 12489: expected 19 fields, saw 22\\nSkipping line 12501: expected 19 fields, saw 25\\nSkipping line 12513: expected 19 fields, saw 25\\nSkipping line 12857: expected 19 fields, saw 28\\nSkipping line 12879: expected 19 fields, saw 23\\nSkipping line 13011: expected 19 fields, saw 20\\nSkipping line 13093: expected 19 fields, saw 21\\nSkipping line 13143: expected 19 fields, saw 23\\nSkipping line 13809: expected 19 fields, saw 21\\nSkipping line 14119: expected 19 fields, saw 20\\nSkipping line 14195: expected 19 fields, saw 26\\nSkipping line 14249: expected 19 fields, saw 21\\nSkipping line 14273: expected 19 fields, saw 22\\nSkipping line 14333: expected 19 fields, saw 25\\nSkipping line 14347: expected 19 fields, saw 20\\nSkipping line 14371: expected 19 fields, saw 21\\nSkipping line 14433: expected 19 fields, saw 28\\nSkipping line 14445: expected 19 fields, saw 21\\nSkipping line 14593: expected 19 fields, saw 26\\nSkipping line 14803: expected 19 fields, saw 20\\nSkipping line 14877: expected 19 fields, saw 20\\nSkipping line 14889: expected 19 fields, saw 26\\nSkipping line 15477: expected 19 fields, saw 23\\nSkipping line 15689: expected 19 fields, saw 24\\nSkipping line 15797: expected 19 fields, saw 20\\nSkipping line 16027: expected 19 fields, saw 20\\nSkipping line 16067: expected 19 fields, saw 20\\nSkipping line 16139: expected 19 fields, saw 24\\nSkipping line 16151: expected 19 fields, saw 25\\nSkipping line 16325: expected 19 fields, saw 20\\nSkipping line 16439: expected 19 fields, saw 20\\nSkipping line 16603: expected 19 fields, saw 25\\nSkipping line 16697: expected 19 fields, saw 24\\nSkipping line 16819: expected 19 fields, saw 21\\nSkipping line 17125: expected 19 fields, saw 22\\nSkipping line 17307: expected 19 fields, saw 30\\nSkipping line 17361: expected 19 fields, saw 29\\nSkipping line 17513: expected 19 fields, saw 21\\nSkipping line 17603: expected 19 fields, saw 26\\nSkipping line 17803: expected 19 fields, saw 26\\nSkipping line 17981: expected 19 fields, saw 22\\nSkipping line 18089: expected 19 fields, saw 30\\n'\n"
     ]
    },
    {
     "name": "stdout",
     "output_type": "stream",
     "text": [
      "processing:  ./Spinetrack Data/data/Christian_data/L_Shoulder_Waist_Twist_1.csv\n"
     ]
    },
    {
     "name": "stderr",
     "output_type": "stream",
     "text": [
      "b'Skipping line 4441: expected 19 fields, saw 26\\nSkipping line 4531: expected 19 fields, saw 25\\nSkipping line 8739: expected 19 fields, saw 22\\nSkipping line 8869: expected 19 fields, saw 20\\nSkipping line 8913: expected 19 fields, saw 22\\nSkipping line 9905: expected 19 fields, saw 27\\nSkipping line 12415: expected 19 fields, saw 25\\nSkipping line 16831: expected 19 fields, saw 27\\nSkipping line 16911: expected 19 fields, saw 23\\nSkipping line 16937: expected 19 fields, saw 27\\nSkipping line 16949: expected 19 fields, saw 24\\nSkipping line 17049: expected 19 fields, saw 24\\nSkipping line 19137: expected 19 fields, saw 22\\nSkipping line 19963: expected 19 fields, saw 23\\nSkipping line 20571: expected 19 fields, saw 27\\nSkipping line 21413: expected 19 fields, saw 21\\nSkipping line 21869: expected 19 fields, saw 21\\nSkipping line 21911: expected 19 fields, saw 23\\nSkipping line 21953: expected 19 fields, saw 26\\nSkipping line 22035: expected 19 fields, saw 29\\nSkipping line 22119: expected 19 fields, saw 20\\nSkipping line 22303: expected 19 fields, saw 22\\nSkipping line 22523: expected 19 fields, saw 21\\nSkipping line 23381: expected 19 fields, saw 21\\nSkipping line 23483: expected 19 fields, saw 23\\n'\n"
     ]
    },
    {
     "name": "stdout",
     "output_type": "stream",
     "text": [
      "processing:  ./Spinetrack Data/data/Christian_data/L_Shoulder_Waist_Twist_2.csv\n"
     ]
    },
    {
     "name": "stderr",
     "output_type": "stream",
     "text": [
      "b'Skipping line 9101: expected 19 fields, saw 20\\nSkipping line 11043: expected 19 fields, saw 20\\nSkipping line 11861: expected 19 fields, saw 22\\nSkipping line 14193: expected 19 fields, saw 23\\nSkipping line 14279: expected 19 fields, saw 20\\nSkipping line 16091: expected 19 fields, saw 23\\nSkipping line 23329: expected 19 fields, saw 27\\n'\n"
     ]
    },
    {
     "name": "stdout",
     "output_type": "stream",
     "text": [
      "processing:  ./Spinetrack Data/data/Christian_data/L_Shoulder_Waist_wo_1.csv\n"
     ]
    },
    {
     "name": "stderr",
     "output_type": "stream",
     "text": [
      "b'Skipping line 11577: expected 19 fields, saw 22\\nSkipping line 13781: expected 19 fields, saw 24\\nSkipping line 15927: expected 19 fields, saw 21\\nSkipping line 16169: expected 19 fields, saw 24\\nSkipping line 16239: expected 19 fields, saw 26\\nSkipping line 17045: expected 19 fields, saw 24\\nSkipping line 17619: expected 19 fields, saw 24\\n'\n"
     ]
    },
    {
     "name": "stdout",
     "output_type": "stream",
     "text": [
      "processing:  ./Spinetrack Data/data/Christian_data/L_Shoulder_Waist_wo_2.csv\n",
      "processing:  ./Spinetrack Data/data/Christian_data/Overhead_Dynamic.csv\n"
     ]
    },
    {
     "name": "stderr",
     "output_type": "stream",
     "text": [
      "b'Skipping line 618: expected 19 fields, saw 22\\nSkipping line 630: expected 19 fields, saw 23\\nSkipping line 656: expected 19 fields, saw 21\\nSkipping line 998: expected 19 fields, saw 21\\nSkipping line 1022: expected 19 fields, saw 27\\nSkipping line 1210: expected 19 fields, saw 23\\nSkipping line 1276: expected 19 fields, saw 24\\nSkipping line 1316: expected 19 fields, saw 22\\nSkipping line 1328: expected 19 fields, saw 22\\nSkipping line 1656: expected 19 fields, saw 25\\nSkipping line 1710: expected 19 fields, saw 32\\nSkipping line 1774: expected 19 fields, saw 25\\nSkipping line 1876: expected 19 fields, saw 21\\nSkipping line 1970: expected 19 fields, saw 25\\nSkipping line 2496: expected 19 fields, saw 26\\nSkipping line 2594: expected 19 fields, saw 25\\nSkipping line 2688: expected 19 fields, saw 26\\nSkipping line 2864: expected 19 fields, saw 20\\nSkipping line 2960: expected 19 fields, saw 21\\nSkipping line 3204: expected 19 fields, saw 21\\nSkipping line 3270: expected 19 fields, saw 25\\nSkipping line 3424: expected 19 fields, saw 23\\nSkipping line 3478: expected 19 fields, saw 25\\nSkipping line 3666: expected 19 fields, saw 24\\nSkipping line 3704: expected 19 fields, saw 20\\nSkipping line 3840: expected 19 fields, saw 21\\nSkipping line 4036: expected 19 fields, saw 20\\nSkipping line 4374: expected 19 fields, saw 24\\n'\n"
     ]
    },
    {
     "name": "stdout",
     "output_type": "stream",
     "text": [
      "processing:  ./Spinetrack Data/data/Christian_data/Overhead_Static.csv\n"
     ]
    },
    {
     "name": "stderr",
     "output_type": "stream",
     "text": [
      "b'Skipping line 4034: expected 19 fields, saw 26\\nSkipping line 4272: expected 19 fields, saw 20\\nSkipping line 4446: expected 19 fields, saw 22\\nSkipping line 4588: expected 19 fields, saw 28\\nSkipping line 4688: expected 19 fields, saw 22\\nSkipping line 5136: expected 19 fields, saw 23\\nSkipping line 5282: expected 19 fields, saw 23\\nSkipping line 5320: expected 19 fields, saw 22\\nSkipping line 5332: expected 19 fields, saw 21\\n'\n"
     ]
    },
    {
     "name": "stdout",
     "output_type": "stream",
     "text": [
      "processing:  ./Spinetrack Data/data/Christian_data/Pulling_Clockwise.csv\n"
     ]
    },
    {
     "name": "stderr",
     "output_type": "stream",
     "text": [
      "b'Skipping line 441: expected 19 fields, saw 27\\nSkipping line 575: expected 19 fields, saw 22\\nSkipping line 1113: expected 19 fields, saw 25\\nSkipping line 1885: expected 19 fields, saw 21\\nSkipping line 1969: expected 19 fields, saw 25\\nSkipping line 2139: expected 19 fields, saw 26\\nSkipping line 2575: expected 19 fields, saw 24\\nSkipping line 2937: expected 19 fields, saw 26\\nSkipping line 3087: expected 19 fields, saw 22\\nSkipping line 3201: expected 19 fields, saw 23\\nSkipping line 3795: expected 19 fields, saw 24\\n'\n"
     ]
    },
    {
     "name": "stdout",
     "output_type": "stream",
     "text": [
      "processing:  ./Spinetrack Data/data/Christian_data/Pulling_OneH_L.csv\n"
     ]
    },
    {
     "name": "stderr",
     "output_type": "stream",
     "text": [
      "b'Skipping line 3357: expected 19 fields, saw 22\\nSkipping line 3629: expected 19 fields, saw 25\\nSkipping line 3847: expected 19 fields, saw 22\\nSkipping line 3875: expected 19 fields, saw 23\\nSkipping line 4275: expected 19 fields, saw 28\\nSkipping line 4653: expected 19 fields, saw 25\\nSkipping line 4675: expected 19 fields, saw 25\\nSkipping line 4757: expected 19 fields, saw 27\\nSkipping line 5183: expected 19 fields, saw 22\\nSkipping line 5207: expected 19 fields, saw 24\\nSkipping line 5235: expected 19 fields, saw 27\\nSkipping line 5275: expected 19 fields, saw 20\\nSkipping line 5549: expected 19 fields, saw 23\\n'\n"
     ]
    },
    {
     "name": "stdout",
     "output_type": "stream",
     "text": [
      "processing:  ./Spinetrack Data/data/Christian_data/Pulling_OneH_R.csv\n"
     ]
    },
    {
     "name": "stderr",
     "output_type": "stream",
     "text": [
      "b'Skipping line 4125: expected 19 fields, saw 24\\nSkipping line 4427: expected 19 fields, saw 21\\nSkipping line 4465: expected 19 fields, saw 23\\nSkipping line 4597: expected 19 fields, saw 31\\nSkipping line 4611: expected 19 fields, saw 29\\n'\n"
     ]
    },
    {
     "name": "stdout",
     "output_type": "stream",
     "text": [
      "processing:  ./Spinetrack Data/data/Christian_data/Pushing_Clockwise.csv\n"
     ]
    },
    {
     "name": "stderr",
     "output_type": "stream",
     "text": [
      "b'Skipping line 495: expected 19 fields, saw 21\\nSkipping line 1571: expected 19 fields, saw 21\\nSkipping line 1865: expected 19 fields, saw 26\\nSkipping line 1983: expected 19 fields, saw 23\\nSkipping line 2369: expected 19 fields, saw 25\\nSkipping line 2381: expected 19 fields, saw 25\\nSkipping line 2421: expected 19 fields, saw 25\\nSkipping line 2435: expected 19 fields, saw 28\\nSkipping line 2495: expected 19 fields, saw 22\\nSkipping line 2727: expected 19 fields, saw 23\\nSkipping line 3105: expected 19 fields, saw 31\\nSkipping line 3469: expected 19 fields, saw 23\\nSkipping line 3649: expected 19 fields, saw 23\\nSkipping line 4181: expected 19 fields, saw 20\\nSkipping line 4331: expected 19 fields, saw 25\\nSkipping line 4429: expected 19 fields, saw 20\\nSkipping line 4441: expected 19 fields, saw 21\\nSkipping line 4479: expected 19 fields, saw 28\\n'\n"
     ]
    },
    {
     "name": "stdout",
     "output_type": "stream",
     "text": [
      "processing:  ./Spinetrack Data/data/Christian_data/Pushing_Counterclockwise.csv\n"
     ]
    },
    {
     "name": "stderr",
     "output_type": "stream",
     "text": [
      "b'Skipping line 383: expected 19 fields, saw 24\\nSkipping line 565: expected 19 fields, saw 23\\nSkipping line 579: expected 19 fields, saw 25\\nSkipping line 985: expected 19 fields, saw 26\\nSkipping line 1253: expected 19 fields, saw 22\\nSkipping line 1311: expected 19 fields, saw 22\\nSkipping line 1367: expected 19 fields, saw 20\\nSkipping line 1439: expected 19 fields, saw 26\\nSkipping line 1453: expected 19 fields, saw 27\\nSkipping line 1467: expected 19 fields, saw 21\\nSkipping line 1525: expected 19 fields, saw 22\\nSkipping line 1567: expected 19 fields, saw 20\\nSkipping line 1745: expected 19 fields, saw 20\\nSkipping line 1769: expected 19 fields, saw 21\\nSkipping line 1859: expected 19 fields, saw 20\\nSkipping line 2023: expected 19 fields, saw 25\\nSkipping line 2209: expected 19 fields, saw 25\\nSkipping line 2321: expected 19 fields, saw 26\\nSkipping line 2469: expected 19 fields, saw 24\\nSkipping line 2691: expected 19 fields, saw 21\\nSkipping line 2741: expected 19 fields, saw 23\\nSkipping line 2755: expected 19 fields, saw 24\\nSkipping line 2887: expected 19 fields, saw 20\\nSkipping line 2937: expected 19 fields, saw 20\\nSkipping line 3065: expected 19 fields, saw 21\\nSkipping line 3143: expected 19 fields, saw 22\\nSkipping line 3181: expected 19 fields, saw 21\\nSkipping line 3221: expected 19 fields, saw 20\\nSkipping line 3233: expected 19 fields, saw 20\\nSkipping line 3247: expected 19 fields, saw 26\\nSkipping line 3355: expected 19 fields, saw 22\\nSkipping line 3405: expected 19 fields, saw 25\\nSkipping line 3885: expected 19 fields, saw 27\\nSkipping line 3967: expected 19 fields, saw 21\\nSkipping line 3993: expected 19 fields, saw 20\\n'\n"
     ]
    },
    {
     "name": "stdout",
     "output_type": "stream",
     "text": [
      "processing:  ./Spinetrack Data/data/Christian_data/Reaching_Close.csv\n",
      "processing:  ./Spinetrack Data/data/Christian_data/Reaching_Far.csv\n",
      "processing:  ./Spinetrack Data/data/Christian_data/Reaching_High.csv\n",
      "processing:  ./Spinetrack Data/data/Christian_data/Sitting.csv\n",
      "processing:  ./Spinetrack Data/data/Christian_data/Standing.csv\n"
     ]
    },
    {
     "name": "stderr",
     "output_type": "stream",
     "text": [
      "b'Skipping line 449: expected 19 fields, saw 28\\nSkipping line 461: expected 19 fields, saw 22\\nSkipping line 473: expected 19 fields, saw 20\\nSkipping line 739: expected 19 fields, saw 23\\nSkipping line 817: expected 19 fields, saw 22\\nSkipping line 843: expected 19 fields, saw 21\\nSkipping line 973: expected 19 fields, saw 22\\nSkipping line 985: expected 19 fields, saw 25\\nSkipping line 1065: expected 19 fields, saw 25\\nSkipping line 1223: expected 19 fields, saw 23\\nSkipping line 1249: expected 19 fields, saw 26\\nSkipping line 1313: expected 19 fields, saw 25\\nSkipping line 1379: expected 19 fields, saw 20\\nSkipping line 1415: expected 19 fields, saw 23\\nSkipping line 1441: expected 19 fields, saw 20\\nSkipping line 1493: expected 19 fields, saw 27\\nSkipping line 1519: expected 19 fields, saw 24\\nSkipping line 1545: expected 19 fields, saw 23\\nSkipping line 1599: expected 19 fields, saw 23\\nSkipping line 1683: expected 19 fields, saw 25\\nSkipping line 1825: expected 19 fields, saw 27\\nSkipping line 1837: expected 19 fields, saw 24\\nSkipping line 1895: expected 19 fields, saw 20\\nSkipping line 1909: expected 19 fields, saw 22\\nSkipping line 1921: expected 19 fields, saw 24\\nSkipping line 1969: expected 19 fields, saw 25\\nSkipping line 1981: expected 19 fields, saw 27\\nSkipping line 1993: expected 19 fields, saw 24\\nSkipping line 2145: expected 19 fields, saw 21\\nSkipping line 2201: expected 19 fields, saw 29\\nSkipping line 2229: expected 19 fields, saw 21\\nSkipping line 2289: expected 19 fields, saw 27\\nSkipping line 2315: expected 19 fields, saw 26\\nSkipping line 2329: expected 19 fields, saw 26\\nSkipping line 2473: expected 19 fields, saw 27\\nSkipping line 2485: expected 19 fields, saw 25\\nSkipping line 2553: expected 19 fields, saw 25\\nSkipping line 2637: expected 19 fields, saw 28\\nSkipping line 2661: expected 19 fields, saw 25\\nSkipping line 2901: expected 19 fields, saw 29\\nSkipping line 2913: expected 19 fields, saw 27\\nSkipping line 2979: expected 19 fields, saw 28\\nSkipping line 3045: expected 19 fields, saw 20\\nSkipping line 3087: expected 19 fields, saw 24\\nSkipping line 3203: expected 19 fields, saw 28\\nSkipping line 3215: expected 19 fields, saw 27\\nSkipping line 3297: expected 19 fields, saw 22\\nSkipping line 3309: expected 19 fields, saw 21\\nSkipping line 3367: expected 19 fields, saw 28\\nSkipping line 3379: expected 19 fields, saw 28\\nSkipping line 3419: expected 19 fields, saw 24\\nSkipping line 3443: expected 19 fields, saw 27\\nSkipping line 3549: expected 19 fields, saw 20\\nSkipping line 3589: expected 19 fields, saw 27\\nSkipping line 3601: expected 19 fields, saw 22\\nSkipping line 3615: expected 19 fields, saw 25\\n'\n"
     ]
    },
    {
     "name": "stdout",
     "output_type": "stream",
     "text": [
      "processing:  ./Spinetrack Data/data/Christian_data/Static_Stoop.csv\n"
     ]
    },
    {
     "name": "stderr",
     "output_type": "stream",
     "text": [
      "b'Skipping line 2441: expected 19 fields, saw 21\\nSkipping line 2453: expected 19 fields, saw 24\\nSkipping line 3855: expected 19 fields, saw 28\\nSkipping line 4001: expected 19 fields, saw 25\\nSkipping line 4087: expected 19 fields, saw 25\\nSkipping line 4115: expected 19 fields, saw 20\\nSkipping line 4401: expected 19 fields, saw 20\\nSkipping line 4413: expected 19 fields, saw 22\\n'\n"
     ]
    },
    {
     "name": "stdout",
     "output_type": "stream",
     "text": [
      "processing:  ./Spinetrack Data/data/Christian_data/Walking.csv\n"
     ]
    },
    {
     "name": "stderr",
     "output_type": "stream",
     "text": [
      "b'Skipping line 5801: expected 19 fields, saw 26\\nSkipping line 5821: expected 19 fields, saw 22\\nSkipping line 5863: expected 19 fields, saw 26\\n'\n"
     ]
    },
    {
     "name": "stdout",
     "output_type": "stream",
     "text": [
      "processing:  ./Spinetrack Data/data/Elias_data/Carrying_10.csv\n"
     ]
    },
    {
     "name": "stderr",
     "output_type": "stream",
     "text": [
      "b'Skipping line 3655: expected 19 fields, saw 23\\nSkipping line 5453: expected 19 fields, saw 25\\n'\n"
     ]
    },
    {
     "name": "stdout",
     "output_type": "stream",
     "text": [
      "processing:  ./Spinetrack Data/data/Elias_data/Carrying_20.csv\n"
     ]
    },
    {
     "name": "stderr",
     "output_type": "stream",
     "text": [
      "b'Skipping line 3169: expected 19 fields, saw 23\\n'\n"
     ]
    },
    {
     "name": "stdout",
     "output_type": "stream",
     "text": [
      "processing:  ./Spinetrack Data/data/Elias_data/Carrying_5.csv\n"
     ]
    },
    {
     "name": "stderr",
     "output_type": "stream",
     "text": [
      "b'Skipping line 3449: expected 19 fields, saw 20\\nSkipping line 3585: expected 19 fields, saw 22\\nSkipping line 4779: expected 19 fields, saw 20\\n'\n"
     ]
    },
    {
     "name": "stdout",
     "output_type": "stream",
     "text": [
      "processing:  ./Spinetrack Data/data/Elias_data/Crawling.csv\n"
     ]
    },
    {
     "name": "stderr",
     "output_type": "stream",
     "text": [
      "b'Skipping line 917: expected 19 fields, saw 20\\nSkipping line 1539: expected 19 fields, saw 27\\nSkipping line 2111: expected 19 fields, saw 21\\nSkipping line 2333: expected 19 fields, saw 20\\nSkipping line 2901: expected 19 fields, saw 23\\nSkipping line 3149: expected 19 fields, saw 21\\nSkipping line 3375: expected 19 fields, saw 21\\nSkipping line 4151: expected 19 fields, saw 21\\nSkipping line 4265: expected 19 fields, saw 20\\nSkipping line 4295: expected 19 fields, saw 20\\nSkipping line 4501: expected 19 fields, saw 21\\nSkipping line 4513: expected 19 fields, saw 21\\nSkipping line 4573: expected 19 fields, saw 24\\n'\n"
     ]
    },
    {
     "name": "stdout",
     "output_type": "stream",
     "text": [
      "processing:  ./Spinetrack Data/data/Elias_data/Crouching.csv\n"
     ]
    },
    {
     "name": "stderr",
     "output_type": "stream",
     "text": [
      "b'Skipping line 955: expected 19 fields, saw 20\\nSkipping line 1359: expected 19 fields, saw 26\\nSkipping line 1371: expected 19 fields, saw 22\\nSkipping line 1461: expected 19 fields, saw 20\\nSkipping line 1645: expected 19 fields, saw 20\\nSkipping line 1859: expected 19 fields, saw 20\\nSkipping line 1943: expected 19 fields, saw 23\\nSkipping line 2017: expected 19 fields, saw 21\\nSkipping line 2225: expected 19 fields, saw 23\\nSkipping line 2251: expected 19 fields, saw 22\\nSkipping line 2897: expected 19 fields, saw 25\\nSkipping line 3001: expected 19 fields, saw 21\\nSkipping line 3115: expected 19 fields, saw 20\\nSkipping line 3453: expected 19 fields, saw 23\\nSkipping line 3627: expected 19 fields, saw 21\\nSkipping line 4281: expected 19 fields, saw 23\\nSkipping line 4883: expected 19 fields, saw 24\\n'\n"
     ]
    },
    {
     "name": "stdout",
     "output_type": "stream",
     "text": [
      "processing:  ./Spinetrack Data/data/Elias_data/Kneeling.csv\n"
     ]
    },
    {
     "name": "stderr",
     "output_type": "stream",
     "text": [
      "b'Skipping line 4081: expected 19 fields, saw 22\\n'\n"
     ]
    },
    {
     "name": "stdout",
     "output_type": "stream",
     "text": [
      "processing:  ./Spinetrack Data/data/Elias_data/L_Floor_60in_10.csv\n"
     ]
    },
    {
     "name": "stderr",
     "output_type": "stream",
     "text": [
      "b'Skipping line 2195: expected 19 fields, saw 22\\nSkipping line 2765: expected 19 fields, saw 21\\nSkipping line 3257: expected 19 fields, saw 22\\nSkipping line 3969: expected 19 fields, saw 22\\nSkipping line 4211: expected 19 fields, saw 20\\nSkipping line 4993: expected 19 fields, saw 26\\nSkipping line 5005: expected 19 fields, saw 25\\nSkipping line 5991: expected 19 fields, saw 20\\nSkipping line 7021: expected 19 fields, saw 26\\nSkipping line 7107: expected 19 fields, saw 21\\n'\n"
     ]
    },
    {
     "name": "stdout",
     "output_type": "stream",
     "text": [
      "processing:  ./Spinetrack Data/data/Elias_data/L_Floor_60in_20.csv\n"
     ]
    },
    {
     "name": "stderr",
     "output_type": "stream",
     "text": [
      "b'Skipping line 701: expected 19 fields, saw 22\\nSkipping line 1125: expected 19 fields, saw 25\\nSkipping line 1255: expected 19 fields, saw 21\\nSkipping line 1559: expected 19 fields, saw 29\\nSkipping line 1613: expected 19 fields, saw 34\\nSkipping line 1659: expected 19 fields, saw 28\\nSkipping line 1817: expected 19 fields, saw 23\\nSkipping line 2555: expected 19 fields, saw 31\\nSkipping line 3171: expected 19 fields, saw 27\\nSkipping line 3725: expected 19 fields, saw 21\\nSkipping line 3835: expected 19 fields, saw 23\\nSkipping line 4531: expected 19 fields, saw 24\\n'\n"
     ]
    },
    {
     "name": "stdout",
     "output_type": "stream",
     "text": [
      "processing:  ./Spinetrack Data/data/Elias_data/L_Floor_60in_5.csv\n"
     ]
    },
    {
     "name": "stderr",
     "output_type": "stream",
     "text": [
      "b'Skipping line 2639: expected 19 fields, saw 23\\nSkipping line 3301: expected 19 fields, saw 21\\nSkipping line 3313: expected 19 fields, saw 21\\nSkipping line 3421: expected 19 fields, saw 22\\nSkipping line 3561: expected 19 fields, saw 20\\nSkipping line 4027: expected 19 fields, saw 23\\nSkipping line 4205: expected 19 fields, saw 20\\nSkipping line 4387: expected 19 fields, saw 26\\nSkipping line 5673: expected 19 fields, saw 21\\nSkipping line 5717: expected 19 fields, saw 24\\nSkipping line 6033: expected 19 fields, saw 20\\nSkipping line 6215: expected 19 fields, saw 21\\nSkipping line 6267: expected 19 fields, saw 22\\n'\n"
     ]
    },
    {
     "name": "stdout",
     "output_type": "stream",
     "text": [
      "processing:  ./Spinetrack Data/data/Elias_data/L_Floor_Shoulder_10.csv\n"
     ]
    },
    {
     "name": "stderr",
     "output_type": "stream",
     "text": [
      "b'Skipping line 3563: expected 19 fields, saw 22\\nSkipping line 4837: expected 19 fields, saw 21\\nSkipping line 5685: expected 19 fields, saw 22\\nSkipping line 5779: expected 19 fields, saw 22\\nSkipping line 6141: expected 19 fields, saw 21\\nSkipping line 6519: expected 19 fields, saw 20\\nSkipping line 6561: expected 19 fields, saw 22\\nSkipping line 8447: expected 19 fields, saw 20\\nSkipping line 8461: expected 19 fields, saw 24\\nSkipping line 8487: expected 19 fields, saw 20\\nSkipping line 8573: expected 19 fields, saw 22\\n'\n"
     ]
    },
    {
     "name": "stdout",
     "output_type": "stream",
     "text": [
      "processing:  ./Spinetrack Data/data/Elias_data/L_Floor_Shoulder_20.csv\n"
     ]
    },
    {
     "name": "stderr",
     "output_type": "stream",
     "text": [
      "b'Skipping line 7967: expected 19 fields, saw 21\\n'\n"
     ]
    },
    {
     "name": "stdout",
     "output_type": "stream",
     "text": [
      "processing:  ./Spinetrack Data/data/Elias_data/L_Floor_Shoulder_5.csv\n"
     ]
    },
    {
     "name": "stderr",
     "output_type": "stream",
     "text": [
      "b'Skipping line 2061: expected 19 fields, saw 20\\nSkipping line 2379: expected 19 fields, saw 25\\nSkipping line 2771: expected 19 fields, saw 21\\nSkipping line 2947: expected 19 fields, saw 22\\nSkipping line 3389: expected 19 fields, saw 20\\nSkipping line 3773: expected 19 fields, saw 20\\nSkipping line 4119: expected 19 fields, saw 23\\nSkipping line 4263: expected 19 fields, saw 25\\nSkipping line 5115: expected 19 fields, saw 26\\n'\n"
     ]
    },
    {
     "name": "stdout",
     "output_type": "stream",
     "text": [
      "processing:  ./Spinetrack Data/data/Elias_data/L_Floor_Waist_Squat_10.csv\n"
     ]
    },
    {
     "name": "stderr",
     "output_type": "stream",
     "text": [
      "b'Skipping line 1033: expected 19 fields, saw 22\\nSkipping line 1845: expected 19 fields, saw 20\\nSkipping line 2437: expected 19 fields, saw 20\\nSkipping line 3511: expected 19 fields, saw 22\\nSkipping line 3591: expected 19 fields, saw 23\\nSkipping line 4231: expected 19 fields, saw 24\\nSkipping line 4375: expected 19 fields, saw 21\\nSkipping line 4645: expected 19 fields, saw 25\\nSkipping line 4705: expected 19 fields, saw 21\\nSkipping line 5121: expected 19 fields, saw 22\\nSkipping line 5333: expected 19 fields, saw 24\\nSkipping line 5973: expected 19 fields, saw 28\\nSkipping line 6125: expected 19 fields, saw 21\\nSkipping line 6373: expected 19 fields, saw 21\\n'\n"
     ]
    },
    {
     "name": "stdout",
     "output_type": "stream",
     "text": [
      "processing:  ./Spinetrack Data/data/Elias_data/L_Floor_Waist_Squat_20.csv\n"
     ]
    },
    {
     "name": "stderr",
     "output_type": "stream",
     "text": [
      "b'Skipping line 1097: expected 19 fields, saw 21\\nSkipping line 1199: expected 19 fields, saw 26\\nSkipping line 1573: expected 19 fields, saw 21\\nSkipping line 2003: expected 19 fields, saw 21\\nSkipping line 2553: expected 19 fields, saw 25\\nSkipping line 3163: expected 19 fields, saw 26\\nSkipping line 3203: expected 19 fields, saw 25\\nSkipping line 3673: expected 19 fields, saw 21\\nSkipping line 3943: expected 19 fields, saw 20\\nSkipping line 4277: expected 19 fields, saw 23\\nSkipping line 4289: expected 19 fields, saw 21\\nSkipping line 4379: expected 19 fields, saw 24\\nSkipping line 4435: expected 19 fields, saw 22\\nSkipping line 4495: expected 19 fields, saw 20\\nSkipping line 4627: expected 19 fields, saw 21\\nSkipping line 5517: expected 19 fields, saw 20\\nSkipping line 5577: expected 19 fields, saw 24\\nSkipping line 5985: expected 19 fields, saw 21\\nSkipping line 6301: expected 19 fields, saw 21\\n'\n"
     ]
    },
    {
     "name": "stdout",
     "output_type": "stream",
     "text": [
      "processing:  ./Spinetrack Data/data/Elias_data/L_Floor_Waist_Squat_5.csv\n"
     ]
    },
    {
     "name": "stderr",
     "output_type": "stream",
     "text": [
      "b'Skipping line 1215: expected 19 fields, saw 21\\nSkipping line 1269: expected 19 fields, saw 21\\nSkipping line 1531: expected 19 fields, saw 20\\nSkipping line 2085: expected 19 fields, saw 20\\nSkipping line 4429: expected 19 fields, saw 22\\nSkipping line 5937: expected 19 fields, saw 23\\nSkipping line 6437: expected 19 fields, saw 20\\nSkipping line 6589: expected 19 fields, saw 27\\n'\n"
     ]
    },
    {
     "name": "stdout",
     "output_type": "stream",
     "text": [
      "processing:  ./Spinetrack Data/data/Elias_data/L_Floor_Waist_Stoop_10.csv\n"
     ]
    },
    {
     "name": "stderr",
     "output_type": "stream",
     "text": [
      "b'Skipping line 3951: expected 19 fields, saw 26\\n'\n"
     ]
    },
    {
     "name": "stdout",
     "output_type": "stream",
     "text": [
      "processing:  ./Spinetrack Data/data/Elias_data/L_Floor_Waist_Stoop_20.csv\n"
     ]
    },
    {
     "name": "stderr",
     "output_type": "stream",
     "text": [
      "b'Skipping line 5591: expected 19 fields, saw 25\\nSkipping line 7103: expected 19 fields, saw 24\\n'\n"
     ]
    },
    {
     "name": "stdout",
     "output_type": "stream",
     "text": [
      "processing:  ./Spinetrack Data/data/Elias_data/L_Floor_Waist_Stoop_5.csv\n"
     ]
    },
    {
     "name": "stderr",
     "output_type": "stream",
     "text": [
      "b'Skipping line 1653: expected 19 fields, saw 24\\nSkipping line 2789: expected 19 fields, saw 23\\nSkipping line 2959: expected 19 fields, saw 24\\nSkipping line 4241: expected 19 fields, saw 24\\nSkipping line 4253: expected 19 fields, saw 25\\nSkipping line 4281: expected 19 fields, saw 26\\nSkipping line 4401: expected 19 fields, saw 22\\nSkipping line 4591: expected 19 fields, saw 21\\nSkipping line 4741: expected 19 fields, saw 23\\nSkipping line 5249: expected 19 fields, saw 20\\nSkipping line 5545: expected 19 fields, saw 22\\nSkipping line 5637: expected 19 fields, saw 20\\nSkipping line 5905: expected 19 fields, saw 20\\nSkipping line 6919: expected 19 fields, saw 24\\n'\n"
     ]
    },
    {
     "name": "stdout",
     "output_type": "stream",
     "text": [
      "processing:  ./Spinetrack Data/data/Elias_data/L_OneH_L_10.csv\n"
     ]
    },
    {
     "name": "stderr",
     "output_type": "stream",
     "text": [
      "b'Skipping line 1493: expected 19 fields, saw 22\\nSkipping line 1547: expected 19 fields, saw 23\\nSkipping line 2717: expected 19 fields, saw 23\\nSkipping line 4649: expected 19 fields, saw 23\\nSkipping line 5265: expected 19 fields, saw 23\\nSkipping line 6259: expected 19 fields, saw 26\\nSkipping line 6663: expected 19 fields, saw 21\\n'\n"
     ]
    },
    {
     "name": "stdout",
     "output_type": "stream",
     "text": [
      "processing:  ./Spinetrack Data/data/Elias_data/L_OneH_L_15.csv\n"
     ]
    },
    {
     "name": "stderr",
     "output_type": "stream",
     "text": [
      "b'Skipping line 4431: expected 19 fields, saw 26\\nSkipping line 4933: expected 19 fields, saw 20\\nSkipping line 5593: expected 19 fields, saw 21\\nSkipping line 5823: expected 19 fields, saw 23\\nSkipping line 5839: expected 19 fields, saw 27\\nSkipping line 6217: expected 19 fields, saw 20\\nSkipping line 6725: expected 19 fields, saw 21\\nSkipping line 6761: expected 19 fields, saw 20\\nSkipping line 7053: expected 19 fields, saw 25\\n'\n"
     ]
    },
    {
     "name": "stdout",
     "output_type": "stream",
     "text": [
      "processing:  ./Spinetrack Data/data/Elias_data/L_OneH_L_5.csv\n",
      "processing:  ./Spinetrack Data/data/Elias_data/L_OneH_R_10.csv\n"
     ]
    },
    {
     "name": "stderr",
     "output_type": "stream",
     "text": [
      "b'Skipping line 3127: expected 19 fields, saw 20\\nSkipping line 3477: expected 19 fields, saw 20\\nSkipping line 7251: expected 19 fields, saw 25\\n'\n"
     ]
    },
    {
     "name": "stdout",
     "output_type": "stream",
     "text": [
      "processing:  ./Spinetrack Data/data/Elias_data/L_OneH_R_15.csv\n"
     ]
    },
    {
     "name": "stderr",
     "output_type": "stream",
     "text": [
      "b'Skipping line 3549: expected 19 fields, saw 26\\nSkipping line 3597: expected 19 fields, saw 26\\nSkipping line 6423: expected 19 fields, saw 25\\n'\n"
     ]
    },
    {
     "name": "stdout",
     "output_type": "stream",
     "text": [
      "processing:  ./Spinetrack Data/data/Elias_data/L_OneH_R_5.csv\n",
      "processing:  ./Spinetrack Data/data/Elias_data/L_Shoulder_Waist_Twist_10.csv\n"
     ]
    },
    {
     "name": "stderr",
     "output_type": "stream",
     "text": [
      "b'Skipping line 1639: expected 19 fields, saw 31\\nSkipping line 1931: expected 19 fields, saw 20\\nSkipping line 2443: expected 19 fields, saw 20\\nSkipping line 2725: expected 19 fields, saw 22\\nSkipping line 3963: expected 19 fields, saw 30\\nSkipping line 4171: expected 19 fields, saw 21\\nSkipping line 4311: expected 19 fields, saw 21\\nSkipping line 4943: expected 19 fields, saw 20\\nSkipping line 5059: expected 19 fields, saw 23\\nSkipping line 5109: expected 19 fields, saw 24\\nSkipping line 5121: expected 19 fields, saw 24\\nSkipping line 5241: expected 19 fields, saw 27\\nSkipping line 5881: expected 19 fields, saw 20\\nSkipping line 5893: expected 19 fields, saw 22\\nSkipping line 6291: expected 19 fields, saw 22\\nSkipping line 6509: expected 19 fields, saw 23\\nSkipping line 6665: expected 19 fields, saw 27\\n'\n"
     ]
    },
    {
     "name": "stdout",
     "output_type": "stream",
     "text": [
      "processing:  ./Spinetrack Data/data/Elias_data/L_Shoulder_Waist_Twist_20.csv\n"
     ]
    },
    {
     "name": "stderr",
     "output_type": "stream",
     "text": [
      "b'Skipping line 2301: expected 19 fields, saw 22\\nSkipping line 2641: expected 19 fields, saw 21\\nSkipping line 3633: expected 19 fields, saw 25\\nSkipping line 3759: expected 19 fields, saw 23\\nSkipping line 3863: expected 19 fields, saw 20\\nSkipping line 3927: expected 19 fields, saw 26\\nSkipping line 4213: expected 19 fields, saw 23\\nSkipping line 5023: expected 19 fields, saw 23\\nSkipping line 5255: expected 19 fields, saw 25\\nSkipping line 5501: expected 19 fields, saw 21\\nSkipping line 5559: expected 19 fields, saw 23\\nSkipping line 6345: expected 19 fields, saw 30\\nSkipping line 7167: expected 19 fields, saw 20\\nSkipping line 7195: expected 19 fields, saw 20\\n'\n"
     ]
    },
    {
     "name": "stdout",
     "output_type": "stream",
     "text": [
      "processing:  ./Spinetrack Data/data/Elias_data/L_Shoulder_Waist_Twist_5.csv\n"
     ]
    },
    {
     "name": "stderr",
     "output_type": "stream",
     "text": [
      "b'Skipping line 929: expected 19 fields, saw 23\\nSkipping line 1231: expected 19 fields, saw 21\\nSkipping line 1545: expected 19 fields, saw 22\\nSkipping line 1683: expected 19 fields, saw 23\\nSkipping line 2099: expected 19 fields, saw 20\\nSkipping line 2515: expected 19 fields, saw 25\\nSkipping line 2587: expected 19 fields, saw 23\\nSkipping line 2837: expected 19 fields, saw 27\\nSkipping line 3033: expected 19 fields, saw 26\\nSkipping line 3541: expected 19 fields, saw 20\\nSkipping line 4189: expected 19 fields, saw 21\\nSkipping line 4283: expected 19 fields, saw 22\\nSkipping line 4333: expected 19 fields, saw 23\\nSkipping line 4533: expected 19 fields, saw 24\\nSkipping line 5105: expected 19 fields, saw 21\\nSkipping line 5343: expected 19 fields, saw 24\\nSkipping line 5963: expected 19 fields, saw 22\\nSkipping line 6315: expected 19 fields, saw 26\\n'\n"
     ]
    },
    {
     "name": "stdout",
     "output_type": "stream",
     "text": [
      "processing:  ./Spinetrack Data/data/Elias_data/L_Shoulder_Waist_wo_10.csv\n",
      "processing:  ./Spinetrack Data/data/Elias_data/L_Shoulder_Waist_wo_20.csv\n",
      "processing:  ./Spinetrack Data/data/Elias_data/L_Shoulder_Waist_wo_5.csv\n",
      "processing:  ./Spinetrack Data/data/Elias_data/Overhead_Dynamic.csv\n"
     ]
    },
    {
     "name": "stderr",
     "output_type": "stream",
     "text": [
      "b'Skipping line 1007: expected 19 fields, saw 23\\nSkipping line 1697: expected 19 fields, saw 20\\nSkipping line 2257: expected 19 fields, saw 23\\nSkipping line 2503: expected 19 fields, saw 21\\nSkipping line 2935: expected 19 fields, saw 20\\nSkipping line 3051: expected 19 fields, saw 25\\nSkipping line 3147: expected 19 fields, saw 23\\nSkipping line 3637: expected 19 fields, saw 20\\nSkipping line 4393: expected 19 fields, saw 23\\nSkipping line 4575: expected 19 fields, saw 22\\n'\n"
     ]
    },
    {
     "name": "stdout",
     "output_type": "stream",
     "text": [
      "processing:  ./Spinetrack Data/data/Elias_data/Overhead_Static.csv\n",
      "processing:  ./Spinetrack Data/data/Elias_data/Pulling_Clockwise.csv\n"
     ]
    },
    {
     "name": "stderr",
     "output_type": "stream",
     "text": [
      "b'Skipping line 1813: expected 19 fields, saw 21\\nSkipping line 1891: expected 19 fields, saw 22\\nSkipping line 2009: expected 19 fields, saw 20\\nSkipping line 2021: expected 19 fields, saw 21\\nSkipping line 3069: expected 19 fields, saw 23\\nSkipping line 3175: expected 19 fields, saw 22\\nSkipping line 3479: expected 19 fields, saw 21\\nSkipping line 3735: expected 19 fields, saw 20\\nSkipping line 4899: expected 19 fields, saw 23\\nSkipping line 4925: expected 19 fields, saw 24\\n'\n"
     ]
    },
    {
     "name": "stdout",
     "output_type": "stream",
     "text": [
      "processing:  ./Spinetrack Data/data/Elias_data/Pulling_OneH_L.csv\n"
     ]
    },
    {
     "name": "stderr",
     "output_type": "stream",
     "text": [
      "b'Skipping line 1599: expected 19 fields, saw 20\\nSkipping line 2573: expected 19 fields, saw 21\\nSkipping line 2701: expected 19 fields, saw 27\\nSkipping line 2965: expected 19 fields, saw 23\\nSkipping line 4491: expected 19 fields, saw 20\\nSkipping line 4921: expected 19 fields, saw 21\\nSkipping line 5047: expected 19 fields, saw 29\\n'\n"
     ]
    },
    {
     "name": "stdout",
     "output_type": "stream",
     "text": [
      "processing:  ./Spinetrack Data/data/Elias_data/Pulling_OneH_R.csv\n"
     ]
    },
    {
     "name": "stderr",
     "output_type": "stream",
     "text": [
      "b'Skipping line 2067: expected 19 fields, saw 21\\nSkipping line 2741: expected 19 fields, saw 24\\nSkipping line 3309: expected 19 fields, saw 21\\nSkipping line 4179: expected 19 fields, saw 23\\nSkipping line 4235: expected 19 fields, saw 20\\nSkipping line 4937: expected 19 fields, saw 22\\n'\n"
     ]
    },
    {
     "name": "stdout",
     "output_type": "stream",
     "text": [
      "processing:  ./Spinetrack Data/data/Elias_data/Pushing_Clockwise.csv\n"
     ]
    },
    {
     "name": "stderr",
     "output_type": "stream",
     "text": [
      "b'Skipping line 2521: expected 19 fields, saw 21\\nSkipping line 2741: expected 19 fields, saw 25\\nSkipping line 2777: expected 19 fields, saw 23\\nSkipping line 2789: expected 19 fields, saw 23\\nSkipping line 2877: expected 19 fields, saw 21\\nSkipping line 3483: expected 19 fields, saw 23\\nSkipping line 4409: expected 19 fields, saw 23\\nSkipping line 4621: expected 19 fields, saw 21\\nSkipping line 4849: expected 19 fields, saw 24\\nSkipping line 5037: expected 19 fields, saw 21\\n'\n"
     ]
    },
    {
     "name": "stdout",
     "output_type": "stream",
     "text": [
      "processing:  ./Spinetrack Data/data/Elias_data/Pushing_Counterclockwise.csv\n"
     ]
    },
    {
     "name": "stderr",
     "output_type": "stream",
     "text": [
      "b'Skipping line 1621: expected 19 fields, saw 23\\nSkipping line 1951: expected 19 fields, saw 26\\nSkipping line 2149: expected 19 fields, saw 20\\nSkipping line 2347: expected 19 fields, saw 24\\nSkipping line 2637: expected 19 fields, saw 22\\nSkipping line 2745: expected 19 fields, saw 21\\nSkipping line 4043: expected 19 fields, saw 23\\nSkipping line 4557: expected 19 fields, saw 20\\nSkipping line 4605: expected 19 fields, saw 23\\nSkipping line 4691: expected 19 fields, saw 33\\nSkipping line 4797: expected 19 fields, saw 21\\nSkipping line 4935: expected 19 fields, saw 23\\n'\n"
     ]
    },
    {
     "name": "stdout",
     "output_type": "stream",
     "text": [
      "processing:  ./Spinetrack Data/data/Elias_data/Reaching_Close.csv\n",
      "processing:  ./Spinetrack Data/data/Elias_data/Reaching_Far.csv\n"
     ]
    },
    {
     "name": "stderr",
     "output_type": "stream",
     "text": [
      "b'Skipping line 3653: expected 19 fields, saw 21\\nSkipping line 3861: expected 19 fields, saw 23\\nSkipping line 4317: expected 19 fields, saw 25\\nSkipping line 4831: expected 19 fields, saw 21\\n'\n"
     ]
    },
    {
     "name": "stdout",
     "output_type": "stream",
     "text": [
      "processing:  ./Spinetrack Data/data/Elias_data/Reaching_High.csv\n"
     ]
    },
    {
     "name": "stderr",
     "output_type": "stream",
     "text": [
      "b'Skipping line 3463: expected 19 fields, saw 25\\nSkipping line 3727: expected 19 fields, saw 22\\nSkipping line 4357: expected 19 fields, saw 22\\nSkipping line 4371: expected 19 fields, saw 31\\nSkipping line 4451: expected 19 fields, saw 25\\nSkipping line 4495: expected 19 fields, saw 22\\nSkipping line 4993: expected 19 fields, saw 26\\n'\n"
     ]
    },
    {
     "name": "stdout",
     "output_type": "stream",
     "text": [
      "processing:  ./Spinetrack Data/data/Elias_data/Sitting.csv\n"
     ]
    },
    {
     "name": "stderr",
     "output_type": "stream",
     "text": [
      "b'Skipping line 3749: expected 19 fields, saw 22\\n'\n"
     ]
    },
    {
     "name": "stdout",
     "output_type": "stream",
     "text": [
      "processing:  ./Spinetrack Data/data/Elias_data/Standing.csv\n"
     ]
    },
    {
     "name": "stderr",
     "output_type": "stream",
     "text": [
      "b'Skipping line 3009: expected 19 fields, saw 33\\nSkipping line 3093: expected 19 fields, saw 22\\nSkipping line 4717: expected 19 fields, saw 24\\nSkipping line 4757: expected 19 fields, saw 25\\nSkipping line 4801: expected 19 fields, saw 23\\n'\n"
     ]
    },
    {
     "name": "stdout",
     "output_type": "stream",
     "text": [
      "processing:  ./Spinetrack Data/data/Elias_data/Static_Stoop.csv\n",
      "processing:  ./Spinetrack Data/data/Elias_data/Walking.csv\n"
     ]
    },
    {
     "name": "stderr",
     "output_type": "stream",
     "text": [
      "b'Skipping line 3217: expected 19 fields, saw 22\\nSkipping line 4873: expected 19 fields, saw 24\\n'\n"
     ]
    },
    {
     "name": "stdout",
     "output_type": "stream",
     "text": [
      "processing:  ./Spinetrack Data/data/Gerald_data/Carrying_10.csv\n",
      "processing:  ./Spinetrack Data/data/Gerald_data/Carrying_20.csv\n",
      "processing:  ./Spinetrack Data/data/Gerald_data/Carrying_5.csv\n",
      "processing:  ./Spinetrack Data/data/Gerald_data/Crawling.csv\n"
     ]
    },
    {
     "name": "stderr",
     "output_type": "stream",
     "text": [
      "b'Skipping line 3817: expected 19 fields, saw 20\\n'\n"
     ]
    },
    {
     "name": "stdout",
     "output_type": "stream",
     "text": [
      "processing:  ./Spinetrack Data/data/Gerald_data/Crouching.csv\n",
      "processing:  ./Spinetrack Data/data/Gerald_data/Kneeling.csv\n",
      "processing:  ./Spinetrack Data/data/Gerald_data/L_Floor_60in_10.csv\n",
      "processing:  ./Spinetrack Data/data/Gerald_data/L_Floor_60in_20.csv\n",
      "processing:  ./Spinetrack Data/data/Gerald_data/L_Floor_60in_5.csv\n",
      "processing:  ./Spinetrack Data/data/Gerald_data/L_Floor_Shoulder_10.csv\n",
      "processing:  ./Spinetrack Data/data/Gerald_data/L_Floor_Shoulder_20.csv\n",
      "processing:  ./Spinetrack Data/data/Gerald_data/L_Floor_Shoulder_5.csv\n",
      "processing:  ./Spinetrack Data/data/Gerald_data/L_Floor_Waist_Squat_10.csv\n",
      "processing:  ./Spinetrack Data/data/Gerald_data/L_Floor_Waist_Squat_20.csv\n",
      "processing:  ./Spinetrack Data/data/Gerald_data/L_Floor_Waist_Squat_5.csv\n",
      "processing:  ./Spinetrack Data/data/Gerald_data/L_Floor_Waist_Stoop_10.csv\n",
      "processing:  ./Spinetrack Data/data/Gerald_data/L_Floor_Waist_Stoop_20.csv\n",
      "processing:  ./Spinetrack Data/data/Gerald_data/L_Floor_Waist_Stoop_5.csv\n",
      "processing:  ./Spinetrack Data/data/Gerald_data/L_OneH_L_10.csv\n",
      "processing:  ./Spinetrack Data/data/Gerald_data/L_OneH_L_15.csv\n",
      "processing:  ./Spinetrack Data/data/Gerald_data/L_OneH_L_5.csv\n",
      "processing:  ./Spinetrack Data/data/Gerald_data/L_OneH_R_10.csv\n",
      "processing:  ./Spinetrack Data/data/Gerald_data/L_OneH_R_15.csv\n",
      "processing:  ./Spinetrack Data/data/Gerald_data/L_OneH_R_5.csv\n",
      "processing:  ./Spinetrack Data/data/Gerald_data/L_Shoulder_Waist_Twist_10.csv\n",
      "processing:  ./Spinetrack Data/data/Gerald_data/L_Shoulder_Waist_Twist_20.csv\n",
      "processing:  ./Spinetrack Data/data/Gerald_data/L_Shoulder_Waist_Twist_5.csv\n",
      "processing:  ./Spinetrack Data/data/Gerald_data/L_Shoulder_Waist_wo_10.csv\n",
      "processing:  ./Spinetrack Data/data/Gerald_data/L_Shoulder_Waist_wo_20.csv\n",
      "processing:  ./Spinetrack Data/data/Gerald_data/L_Shoulder_Waist_wo_5.csv\n",
      "processing:  ./Spinetrack Data/data/Gerald_data/Overhead_Dynamic.csv\n",
      "processing:  ./Spinetrack Data/data/Gerald_data/Overhead_Static.csv\n",
      "processing:  ./Spinetrack Data/data/Gerald_data/Pulling_Clockwise.csv\n",
      "processing:  ./Spinetrack Data/data/Gerald_data/Pulling_OneH_L.csv\n",
      "processing:  ./Spinetrack Data/data/Gerald_data/Pulling_OneH_R.csv\n",
      "processing:  ./Spinetrack Data/data/Gerald_data/Pushing_Clockwise.csv\n",
      "processing:  ./Spinetrack Data/data/Gerald_data/Pushing_Counterclockwise.csv\n",
      "processing:  ./Spinetrack Data/data/Gerald_data/Reaching_Close.csv\n",
      "processing:  ./Spinetrack Data/data/Gerald_data/Reaching_Far.csv\n",
      "processing:  ./Spinetrack Data/data/Gerald_data/Reaching_High.csv\n",
      "processing:  ./Spinetrack Data/data/Gerald_data/Sitting.csv\n",
      "processing:  ./Spinetrack Data/data/Gerald_data/Standing.csv\n",
      "processing:  ./Spinetrack Data/data/Gerald_data/Static_Stoop.csv\n",
      "processing:  ./Spinetrack Data/data/Gerald_data/Walking.csv\n",
      "processing:  ./Spinetrack Data/data/Jesse_data/Carrying_10.csv\n",
      "processing:  ./Spinetrack Data/data/Jesse_data/Carrying_20.csv\n",
      "processing:  ./Spinetrack Data/data/Jesse_data/Carrying_5.csv\n",
      "processing:  ./Spinetrack Data/data/Jesse_data/Crawling.csv\n",
      "processing:  ./Spinetrack Data/data/Jesse_data/Crouching.csv\n",
      "processing:  ./Spinetrack Data/data/Jesse_data/Kneeling.csv\n",
      "processing:  ./Spinetrack Data/data/Jesse_data/L_Floor_60in_10.csv\n",
      "processing:  ./Spinetrack Data/data/Jesse_data/L_Floor_60in_20.csv\n",
      "processing:  ./Spinetrack Data/data/Jesse_data/L_Floor_60in_5.csv\n",
      "processing:  ./Spinetrack Data/data/Jesse_data/L_Floor_Shoulder_10.csv\n",
      "processing:  ./Spinetrack Data/data/Jesse_data/L_Floor_Shoulder_20.csv\n",
      "processing:  ./Spinetrack Data/data/Jesse_data/L_Floor_Shoulder_5.csv\n",
      "processing:  ./Spinetrack Data/data/Jesse_data/L_Floor_Waist_Squat_10.csv\n",
      "processing:  ./Spinetrack Data/data/Jesse_data/L_Floor_Waist_Squat_20.csv\n",
      "processing:  ./Spinetrack Data/data/Jesse_data/L_Floor_Waist_Squat_5.csv\n",
      "processing:  ./Spinetrack Data/data/Jesse_data/L_Floor_Waist_Stoop_10.csv\n",
      "processing:  ./Spinetrack Data/data/Jesse_data/L_Floor_Waist_Stoop_20.csv\n",
      "processing:  ./Spinetrack Data/data/Jesse_data/L_Floor_Waist_Stoop_5.csv\n",
      "processing:  ./Spinetrack Data/data/Jesse_data/L_OneH_L_10.csv\n",
      "processing:  ./Spinetrack Data/data/Jesse_data/L_OneH_L_15.csv\n",
      "processing:  ./Spinetrack Data/data/Jesse_data/L_OneH_L_5.csv\n",
      "processing:  ./Spinetrack Data/data/Jesse_data/L_OneH_R_10.csv\n",
      "processing:  ./Spinetrack Data/data/Jesse_data/L_OneH_R_15.csv\n",
      "processing:  ./Spinetrack Data/data/Jesse_data/L_OneH_R_5.csv\n",
      "processing:  ./Spinetrack Data/data/Jesse_data/L_Shoulder_Waist_Twist_10.csv\n",
      "processing:  ./Spinetrack Data/data/Jesse_data/L_Shoulder_Waist_Twist_20.csv\n",
      "processing:  ./Spinetrack Data/data/Jesse_data/L_Shoulder_Waist_Twist_5.csv\n",
      "processing:  ./Spinetrack Data/data/Jesse_data/L_Shoulder_Waist_wo_10.csv\n",
      "processing:  ./Spinetrack Data/data/Jesse_data/L_Shoulder_Waist_wo_20.csv\n",
      "processing:  ./Spinetrack Data/data/Jesse_data/L_Shoulder_Waist_wo_5.csv\n",
      "processing:  ./Spinetrack Data/data/Jesse_data/Overhead_Dynamic.csv\n",
      "processing:  ./Spinetrack Data/data/Jesse_data/Overhead_Static.csv\n",
      "processing:  ./Spinetrack Data/data/Jesse_data/Pulling_Clockwise.csv\n",
      "processing:  ./Spinetrack Data/data/Jesse_data/Pulling_OneH_L.csv\n",
      "processing:  ./Spinetrack Data/data/Jesse_data/Pulling_OneH_R.csv\n",
      "processing:  ./Spinetrack Data/data/Jesse_data/Pushing_Clockwise.csv\n",
      "processing:  ./Spinetrack Data/data/Jesse_data/Pushing_Counterclockwise.csv\n",
      "processing:  ./Spinetrack Data/data/Jesse_data/Reaching_Close.csv\n",
      "processing:  ./Spinetrack Data/data/Jesse_data/Reaching_Far.csv\n",
      "processing:  ./Spinetrack Data/data/Jesse_data/Reaching_High.csv\n",
      "processing:  ./Spinetrack Data/data/Jesse_data/Sitting.csv\n",
      "processing:  ./Spinetrack Data/data/Jesse_data/Standing.csv\n",
      "processing:  ./Spinetrack Data/data/Jesse_data/Static_Stoop.csv\n",
      "processing:  ./Spinetrack Data/data/Jesse_data/Walking.csv\n",
      "processing:  ./Spinetrack Data/data/Jiyoo_data/Carrying_10.csv\n",
      "processing:  ./Spinetrack Data/data/Jiyoo_data/Carrying_20.csv\n",
      "processing:  ./Spinetrack Data/data/Jiyoo_data/Carrying_5.csv\n",
      "processing:  ./Spinetrack Data/data/Jiyoo_data/Crawling.csv\n"
     ]
    },
    {
     "name": "stderr",
     "output_type": "stream",
     "text": [
      "b'Skipping line 1875: expected 19 fields, saw 22\\nSkipping line 3235: expected 19 fields, saw 22\\n'\n"
     ]
    },
    {
     "name": "stdout",
     "output_type": "stream",
     "text": [
      "processing:  ./Spinetrack Data/data/Jiyoo_data/Crouching.csv\n",
      "processing:  ./Spinetrack Data/data/Jiyoo_data/Kneeling.csv\n",
      "processing:  ./Spinetrack Data/data/Jiyoo_data/L_Floor_60in_10.csv\n",
      "processing:  ./Spinetrack Data/data/Jiyoo_data/L_Floor_60in_20.csv\n",
      "processing:  ./Spinetrack Data/data/Jiyoo_data/L_Floor_60in_5.csv\n",
      "processing:  ./Spinetrack Data/data/Jiyoo_data/L_Floor_Shoulder_10.csv\n",
      "processing:  ./Spinetrack Data/data/Jiyoo_data/L_Floor_Shoulder_20.csv\n",
      "processing:  ./Spinetrack Data/data/Jiyoo_data/L_Floor_Shoulder_5.csv\n",
      "processing:  ./Spinetrack Data/data/Jiyoo_data/L_Floor_Waist_Squat_10.csv\n",
      "processing:  ./Spinetrack Data/data/Jiyoo_data/L_Floor_Waist_Squat_20.csv\n"
     ]
    },
    {
     "name": "stderr",
     "output_type": "stream",
     "text": [
      "b'Skipping line 2027: expected 19 fields, saw 22\\nSkipping line 2071: expected 19 fields, saw 20\\nSkipping line 2169: expected 19 fields, saw 24\\nSkipping line 2399: expected 19 fields, saw 20\\nSkipping line 2479: expected 19 fields, saw 21\\nSkipping line 2897: expected 19 fields, saw 21\\nSkipping line 3129: expected 19 fields, saw 22\\nSkipping line 3145: expected 19 fields, saw 23\\nSkipping line 3201: expected 19 fields, saw 20\\nSkipping line 3229: expected 19 fields, saw 20\\nSkipping line 3351: expected 19 fields, saw 22\\nSkipping line 3501: expected 19 fields, saw 21\\nSkipping line 3555: expected 19 fields, saw 21\\nSkipping line 3689: expected 19 fields, saw 23\\nSkipping line 3739: expected 19 fields, saw 22\\nSkipping line 3829: expected 19 fields, saw 21\\nSkipping line 3857: expected 19 fields, saw 22\\nSkipping line 4017: expected 19 fields, saw 21\\nSkipping line 4067: expected 19 fields, saw 20\\nSkipping line 4291: expected 19 fields, saw 20\\nSkipping line 4315: expected 19 fields, saw 23\\nSkipping line 4463: expected 19 fields, saw 22\\nSkipping line 4869: expected 19 fields, saw 23\\nSkipping line 4901: expected 19 fields, saw 22\\nSkipping line 5101: expected 19 fields, saw 21\\nSkipping line 5221: expected 19 fields, saw 21\\nSkipping line 5251: expected 19 fields, saw 22\\nSkipping line 5603: expected 19 fields, saw 20\\nSkipping line 5621: expected 19 fields, saw 20\\nSkipping line 5657: expected 19 fields, saw 24\\nSkipping line 5753: expected 19 fields, saw 22\\nSkipping line 6021: expected 19 fields, saw 21\\nSkipping line 6139: expected 19 fields, saw 23\\nSkipping line 6197: expected 19 fields, saw 23\\nSkipping line 6479: expected 19 fields, saw 22\\nSkipping line 6511: expected 19 fields, saw 20\\nSkipping line 6689: expected 19 fields, saw 23\\nSkipping line 6749: expected 19 fields, saw 20\\nSkipping line 6785: expected 19 fields, saw 23\\n'\n"
     ]
    },
    {
     "name": "stdout",
     "output_type": "stream",
     "text": [
      "processing:  ./Spinetrack Data/data/Jiyoo_data/L_Floor_Waist_Squat_5.csv\n",
      "processing:  ./Spinetrack Data/data/Jiyoo_data/L_Floor_Waist_Stoop_10.csv\n",
      "processing:  ./Spinetrack Data/data/Jiyoo_data/L_Floor_Waist_Stoop_20.csv\n",
      "processing:  ./Spinetrack Data/data/Jiyoo_data/L_Floor_Waist_Stoop_5.csv\n",
      "processing:  ./Spinetrack Data/data/Jiyoo_data/L_OneH_L_10.csv\n",
      "processing:  ./Spinetrack Data/data/Jiyoo_data/L_OneH_L_15.csv\n",
      "processing:  ./Spinetrack Data/data/Jiyoo_data/L_OneH_L_5.csv\n",
      "processing:  ./Spinetrack Data/data/Jiyoo_data/L_OneH_R_10.csv\n",
      "processing:  ./Spinetrack Data/data/Jiyoo_data/L_OneH_R_15.csv\n",
      "processing:  ./Spinetrack Data/data/Jiyoo_data/L_OneH_R_5.csv\n",
      "processing:  ./Spinetrack Data/data/Jiyoo_data/L_Shoulder_Waist_Twist_10.csv\n",
      "processing:  ./Spinetrack Data/data/Jiyoo_data/L_Shoulder_Waist_Twist_5.csv\n",
      "processing:  ./Spinetrack Data/data/Jiyoo_data/L_Shoulder_Waist_wo_10.csv\n",
      "processing:  ./Spinetrack Data/data/Jiyoo_data/L_Shoulder_Waist_wo_20.csv\n",
      "processing:  ./Spinetrack Data/data/Jiyoo_data/L_Shoulder_Waist_wo_5.csv\n",
      "processing:  ./Spinetrack Data/data/Jiyoo_data/Overhead_Dynamic.csv\n",
      "processing:  ./Spinetrack Data/data/Jiyoo_data/Overhead_Static.csv\n",
      "processing:  ./Spinetrack Data/data/Jiyoo_data/Pulling_Clockwise.csv\n",
      "processing:  ./Spinetrack Data/data/Jiyoo_data/Pulling_OneH_L.csv\n",
      "processing:  ./Spinetrack Data/data/Jiyoo_data/Pulling_OneH_R.csv\n",
      "processing:  ./Spinetrack Data/data/Jiyoo_data/Pushing_Clockwise.csv\n",
      "processing:  ./Spinetrack Data/data/Jiyoo_data/Pushing_Counterclockwise.csv\n",
      "processing:  ./Spinetrack Data/data/Jiyoo_data/Reaching_Close.csv\n",
      "processing:  ./Spinetrack Data/data/Jiyoo_data/Reaching_Far.csv\n",
      "processing:  ./Spinetrack Data/data/Jiyoo_data/Reaching_High.csv\n",
      "processing:  ./Spinetrack Data/data/Jiyoo_data/Sitting.csv\n",
      "processing:  ./Spinetrack Data/data/Jiyoo_data/Standing.csv\n",
      "processing:  ./Spinetrack Data/data/Jiyoo_data/Static_Stoop.csv\n"
     ]
    },
    {
     "name": "stderr",
     "output_type": "stream",
     "text": [
      "b'Skipping line 1935: expected 19 fields, saw 23\\nSkipping line 4295: expected 19 fields, saw 23\\nSkipping line 5333: expected 19 fields, saw 23\\n'\n"
     ]
    },
    {
     "name": "stdout",
     "output_type": "stream",
     "text": [
      "processing:  ./Spinetrack Data/data/Jiyoo_data/Walking.csv\n",
      "processing:  ./Spinetrack Data/data/Jusef_data/Carrying_10.csv\n",
      "processing:  ./Spinetrack Data/data/Jusef_data/Carrying_20.csv\n",
      "processing:  ./Spinetrack Data/data/Jusef_data/Carrying_5.csv\n",
      "processing:  ./Spinetrack Data/data/Jusef_data/Crawling.csv\n",
      "processing:  ./Spinetrack Data/data/Jusef_data/Crouching.csv\n",
      "processing:  ./Spinetrack Data/data/Jusef_data/Kneeling.csv\n",
      "processing:  ./Spinetrack Data/data/Jusef_data/L_Floor_60in_10.csv\n",
      "processing:  ./Spinetrack Data/data/Jusef_data/L_Floor_60in_20.csv\n",
      "processing:  ./Spinetrack Data/data/Jusef_data/L_Floor_60in_5.csv\n",
      "processing:  ./Spinetrack Data/data/Jusef_data/L_Floor_Shoulder_10.csv\n",
      "processing:  ./Spinetrack Data/data/Jusef_data/L_Floor_Shoulder_20.csv\n",
      "processing:  ./Spinetrack Data/data/Jusef_data/L_Floor_Shoulder_5.csv\n",
      "processing:  ./Spinetrack Data/data/Jusef_data/L_Floor_Waist_Squat_10.csv\n",
      "processing:  ./Spinetrack Data/data/Jusef_data/L_Floor_Waist_Squat_20.csv\n",
      "processing:  ./Spinetrack Data/data/Jusef_data/L_Floor_Waist_Squat_5.csv\n",
      "processing:  ./Spinetrack Data/data/Jusef_data/L_Floor_Waist_Stoop_10.csv\n",
      "processing:  ./Spinetrack Data/data/Jusef_data/L_Floor_Waist_Stoop_20.csv\n",
      "processing:  ./Spinetrack Data/data/Jusef_data/L_Floor_Waist_Stoop_5.csv\n",
      "processing:  ./Spinetrack Data/data/Jusef_data/L_OneH_L_10.csv\n",
      "processing:  ./Spinetrack Data/data/Jusef_data/L_OneH_L_15.csv\n",
      "processing:  ./Spinetrack Data/data/Jusef_data/L_OneH_L_5.csv\n",
      "processing:  ./Spinetrack Data/data/Jusef_data/L_OneH_R_10.csv\n",
      "processing:  ./Spinetrack Data/data/Jusef_data/L_OneH_R_15.csv\n"
     ]
    },
    {
     "name": "stderr",
     "output_type": "stream",
     "text": [
      "b'Skipping line 4307: expected 19 fields, saw 22\\n'\n"
     ]
    },
    {
     "name": "stdout",
     "output_type": "stream",
     "text": [
      "processing:  ./Spinetrack Data/data/Jusef_data/L_OneH_R_5.csv\n",
      "processing:  ./Spinetrack Data/data/Jusef_data/L_Shoulder_Waist_Twist_10.csv\n",
      "processing:  ./Spinetrack Data/data/Jusef_data/L_Shoulder_Waist_Twist_20.csv\n",
      "processing:  ./Spinetrack Data/data/Jusef_data/L_Shoulder_Waist_Twist_5.csv\n",
      "processing:  ./Spinetrack Data/data/Jusef_data/L_Shoulder_Waist_woTwist_10.csv\n",
      "processing:  ./Spinetrack Data/data/Jusef_data/L_Shoulder_Waist_woTwist_20.csv\n",
      "processing:  ./Spinetrack Data/data/Jusef_data/L_Shoulder_Waist_woTwist_5.csv\n",
      "processing:  ./Spinetrack Data/data/Jusef_data/Overhead_Dynamic.csv\n"
     ]
    },
    {
     "name": "stderr",
     "output_type": "stream",
     "text": [
      "b'Skipping line 3884: expected 19 fields, saw 20\\nSkipping line 4898: expected 19 fields, saw 21\\n'\n"
     ]
    },
    {
     "name": "stdout",
     "output_type": "stream",
     "text": [
      "processing:  ./Spinetrack Data/data/Jusef_data/Overhead_Static.csv\n",
      "processing:  ./Spinetrack Data/data/Jusef_data/Pulling_Clockwise.csv\n",
      "processing:  ./Spinetrack Data/data/Jusef_data/Pulling_OneH_L.csv\n"
     ]
    },
    {
     "name": "stderr",
     "output_type": "stream",
     "text": [
      "b'Skipping line 1873: expected 19 fields, saw 24\\nSkipping line 3161: expected 19 fields, saw 21\\nSkipping line 3255: expected 19 fields, saw 26\\n'\n"
     ]
    },
    {
     "name": "stdout",
     "output_type": "stream",
     "text": [
      "processing:  ./Spinetrack Data/data/Jusef_data/Pulling_OneH_R.csv\n",
      "processing:  ./Spinetrack Data/data/Jusef_data/Pushing_Clockwise.csv\n",
      "processing:  ./Spinetrack Data/data/Jusef_data/Pushing_Counterclockwise.csv\n",
      "processing:  ./Spinetrack Data/data/Jusef_data/Reaching_Close.csv\n",
      "processing:  ./Spinetrack Data/data/Jusef_data/Reaching_Far.csv\n",
      "processing:  ./Spinetrack Data/data/Jusef_data/Reaching_High.csv\n"
     ]
    },
    {
     "name": "stderr",
     "output_type": "stream",
     "text": [
      "b'Skipping line 2474: expected 19 fields, saw 20\\nSkipping line 3548: expected 19 fields, saw 20\\n'\n"
     ]
    },
    {
     "name": "stdout",
     "output_type": "stream",
     "text": [
      "processing:  ./Spinetrack Data/data/Jusef_data/Sitting.csv\n",
      "processing:  ./Spinetrack Data/data/Jusef_data/Standing.csv\n",
      "processing:  ./Spinetrack Data/data/Jusef_data/Static_Stoop.csv\n"
     ]
    },
    {
     "name": "stderr",
     "output_type": "stream",
     "text": [
      "b'Skipping line 1576: expected 19 fields, saw 26\\nSkipping line 1606: expected 19 fields, saw 23\\nSkipping line 1622: expected 19 fields, saw 25\\nSkipping line 1792: expected 19 fields, saw 22\\nSkipping line 1996: expected 19 fields, saw 21\\nSkipping line 4792: expected 19 fields, saw 25\\n'\n"
     ]
    },
    {
     "name": "stdout",
     "output_type": "stream",
     "text": [
      "processing:  ./Spinetrack Data/data/Jusef_data/Walking.csv\n",
      "processing:  ./Spinetrack Data/data/Lian_data/Carrying.csv\n",
      "processing:  ./Spinetrack Data/data/Lian_data/Crawling.csv\n",
      "processing:  ./Spinetrack Data/data/Lian_data/Crouching.csv\n",
      "processing:  ./Spinetrack Data/data/Lian_data/Kneeling.csv\n",
      "processing:  ./Spinetrack Data/data/Lian_data/L_Floor_60in_1.csv\n"
     ]
    },
    {
     "name": "stderr",
     "output_type": "stream",
     "text": [
      "b'Skipping line 21642: expected 19 fields, saw 28\\n'\n"
     ]
    },
    {
     "name": "stdout",
     "output_type": "stream",
     "text": [
      "processing:  ./Spinetrack Data/data/Lian_data/L_Floor_60in_2.csv\n"
     ]
    },
    {
     "name": "stderr",
     "output_type": "stream",
     "text": [
      "b'Skipping line 798: expected 19 fields, saw 23\\nSkipping line 924: expected 19 fields, saw 22\\nSkipping line 1160: expected 19 fields, saw 20\\nSkipping line 1202: expected 19 fields, saw 20\\nSkipping line 1442: expected 19 fields, saw 21\\nSkipping line 1604: expected 19 fields, saw 22\\nSkipping line 2500: expected 19 fields, saw 23\\nSkipping line 3130: expected 19 fields, saw 27\\nSkipping line 3336: expected 19 fields, saw 25\\nSkipping line 3526: expected 19 fields, saw 21\\nSkipping line 3702: expected 19 fields, saw 23\\nSkipping line 3856: expected 19 fields, saw 21\\nSkipping line 4164: expected 19 fields, saw 20\\nSkipping line 4210: expected 19 fields, saw 22\\nSkipping line 4476: expected 19 fields, saw 25\\nSkipping line 4528: expected 19 fields, saw 20\\nSkipping line 4626: expected 19 fields, saw 22\\nSkipping line 5268: expected 19 fields, saw 20\\nSkipping line 5472: expected 19 fields, saw 21\\nSkipping line 5484: expected 19 fields, saw 22\\nSkipping line 5786: expected 19 fields, saw 22\\nSkipping line 5838: expected 19 fields, saw 23\\nSkipping line 6242: expected 19 fields, saw 20\\nSkipping line 6578: expected 19 fields, saw 21\\nSkipping line 6654: expected 19 fields, saw 22\\nSkipping line 6670: expected 19 fields, saw 24\\nSkipping line 6896: expected 19 fields, saw 21\\nSkipping line 6928: expected 19 fields, saw 20\\nSkipping line 7158: expected 19 fields, saw 25\\nSkipping line 7234: expected 19 fields, saw 27\\nSkipping line 7486: expected 19 fields, saw 20\\nSkipping line 7758: expected 19 fields, saw 24\\nSkipping line 7786: expected 19 fields, saw 25\\nSkipping line 7844: expected 19 fields, saw 26\\nSkipping line 8072: expected 19 fields, saw 20\\nSkipping line 8958: expected 19 fields, saw 23\\nSkipping line 9114: expected 19 fields, saw 21\\nSkipping line 9320: expected 19 fields, saw 20\\nSkipping line 9486: expected 19 fields, saw 27\\nSkipping line 9774: expected 19 fields, saw 22\\nSkipping line 9930: expected 19 fields, saw 20\\nSkipping line 10128: expected 19 fields, saw 25\\nSkipping line 10190: expected 19 fields, saw 28\\nSkipping line 10206: expected 19 fields, saw 20\\nSkipping line 10408: expected 19 fields, saw 23\\nSkipping line 10420: expected 19 fields, saw 25\\nSkipping line 10562: expected 19 fields, saw 22\\nSkipping line 10672: expected 19 fields, saw 28\\nSkipping line 11056: expected 19 fields, saw 23\\nSkipping line 11130: expected 19 fields, saw 22\\nSkipping line 12002: expected 19 fields, saw 20\\nSkipping line 12442: expected 19 fields, saw 20\\nSkipping line 12488: expected 19 fields, saw 22\\nSkipping line 12516: expected 19 fields, saw 21\\nSkipping line 13176: expected 19 fields, saw 20\\nSkipping line 13986: expected 19 fields, saw 23\\nSkipping line 13998: expected 19 fields, saw 23\\nSkipping line 14148: expected 19 fields, saw 21\\nSkipping line 14636: expected 19 fields, saw 25\\nSkipping line 14648: expected 19 fields, saw 23\\nSkipping line 14730: expected 19 fields, saw 20\\nSkipping line 15276: expected 19 fields, saw 20\\nSkipping line 15324: expected 19 fields, saw 21\\nSkipping line 15390: expected 19 fields, saw 22\\nSkipping line 15868: expected 19 fields, saw 20\\nSkipping line 16240: expected 19 fields, saw 20\\nSkipping line 17196: expected 19 fields, saw 21\\nSkipping line 17684: expected 19 fields, saw 20\\nSkipping line 17764: expected 19 fields, saw 24\\nSkipping line 18000: expected 19 fields, saw 20\\nSkipping line 18272: expected 19 fields, saw 22\\nSkipping line 18694: expected 19 fields, saw 22\\nSkipping line 18972: expected 19 fields, saw 22\\nSkipping line 19534: expected 19 fields, saw 20\\n'\n"
     ]
    },
    {
     "name": "stdout",
     "output_type": "stream",
     "text": [
      "processing:  ./Spinetrack Data/data/Lian_data/L_Floor_Shoulder_1.csv\n"
     ]
    },
    {
     "name": "stderr",
     "output_type": "stream",
     "text": [
      "b'Skipping line 10261: expected 19 fields, saw 22\\nSkipping line 11199: expected 19 fields, saw 21\\nSkipping line 11453: expected 19 fields, saw 21\\nSkipping line 11599: expected 19 fields, saw 20\\nSkipping line 12685: expected 19 fields, saw 21\\nSkipping line 15397: expected 19 fields, saw 21\\nSkipping line 16443: expected 19 fields, saw 22\\nSkipping line 18265: expected 19 fields, saw 28\\nSkipping line 22177: expected 19 fields, saw 21\\n'\n"
     ]
    },
    {
     "name": "stdout",
     "output_type": "stream",
     "text": [
      "processing:  ./Spinetrack Data/data/Lian_data/L_Floor_Shoulder_2.csv\n"
     ]
    },
    {
     "name": "stderr",
     "output_type": "stream",
     "text": [
      "b'Skipping line 18490: expected 19 fields, saw 21\\nSkipping line 18756: expected 19 fields, saw 22\\nSkipping line 18828: expected 19 fields, saw 22\\nSkipping line 18852: expected 19 fields, saw 22\\nSkipping line 18926: expected 19 fields, saw 21\\nSkipping line 19028: expected 19 fields, saw 20\\nSkipping line 19426: expected 19 fields, saw 25\\nSkipping line 19464: expected 19 fields, saw 20\\nSkipping line 19636: expected 19 fields, saw 20\\nSkipping line 19700: expected 19 fields, saw 22\\nSkipping line 19810: expected 19 fields, saw 20\\nSkipping line 19870: expected 19 fields, saw 20\\nSkipping line 19896: expected 19 fields, saw 20\\nSkipping line 19962: expected 19 fields, saw 24\\nSkipping line 20038: expected 19 fields, saw 21\\nSkipping line 20268: expected 19 fields, saw 20\\nSkipping line 20642: expected 19 fields, saw 21\\nSkipping line 20738: expected 19 fields, saw 20\\nSkipping line 20806: expected 19 fields, saw 21\\nSkipping line 20818: expected 19 fields, saw 21\\nSkipping line 20896: expected 19 fields, saw 22\\nSkipping line 20986: expected 19 fields, saw 23\\nSkipping line 20998: expected 19 fields, saw 26\\nSkipping line 21024: expected 19 fields, saw 24\\nSkipping line 21498: expected 19 fields, saw 24\\nSkipping line 21570: expected 19 fields, saw 21\\nSkipping line 21584: expected 19 fields, saw 24\\nSkipping line 21750: expected 19 fields, saw 22\\nSkipping line 22190: expected 19 fields, saw 27\\nSkipping line 22242: expected 19 fields, saw 25\\n'\n"
     ]
    },
    {
     "name": "stdout",
     "output_type": "stream",
     "text": [
      "processing:  ./Spinetrack Data/data/Lian_data/L_Floor_Waist_Squat_1.csv\n",
      "processing:  ./Spinetrack Data/data/Lian_data/L_Floor_Waist_Squat_2.csv\n"
     ]
    },
    {
     "name": "stderr",
     "output_type": "stream",
     "text": [
      "b'Skipping line 670: expected 19 fields, saw 23\\nSkipping line 1132: expected 19 fields, saw 20\\nSkipping line 1396: expected 19 fields, saw 20\\nSkipping line 1408: expected 19 fields, saw 22\\nSkipping line 1554: expected 19 fields, saw 23\\nSkipping line 1710: expected 19 fields, saw 21\\nSkipping line 1722: expected 19 fields, saw 24\\nSkipping line 1982: expected 19 fields, saw 20\\nSkipping line 2050: expected 19 fields, saw 20\\nSkipping line 2190: expected 19 fields, saw 25\\nSkipping line 2576: expected 19 fields, saw 22\\nSkipping line 2922: expected 19 fields, saw 22\\nSkipping line 2946: expected 19 fields, saw 21\\nSkipping line 3156: expected 19 fields, saw 24\\nSkipping line 3408: expected 19 fields, saw 23\\nSkipping line 3474: expected 19 fields, saw 20\\nSkipping line 3574: expected 19 fields, saw 21\\nSkipping line 3784: expected 19 fields, saw 22\\n'\n"
     ]
    },
    {
     "name": "stdout",
     "output_type": "stream",
     "text": [
      "processing:  ./Spinetrack Data/data/Lian_data/L_Floor_Waist_Stoop_1.csv\n",
      "processing:  ./Spinetrack Data/data/Lian_data/L_Floor_Waist_Stoop_2.csv\n"
     ]
    },
    {
     "name": "stderr",
     "output_type": "stream",
     "text": [
      "b'Skipping line 3795: expected 19 fields, saw 24\\nSkipping line 4277: expected 19 fields, saw 20\\nSkipping line 4433: expected 19 fields, saw 24\\nSkipping line 4543: expected 19 fields, saw 20\\nSkipping line 4809: expected 19 fields, saw 20\\nSkipping line 5039: expected 19 fields, saw 20\\nSkipping line 5387: expected 19 fields, saw 24\\nSkipping line 5451: expected 19 fields, saw 24\\nSkipping line 5467: expected 19 fields, saw 25\\nSkipping line 5513: expected 19 fields, saw 25\\nSkipping line 5819: expected 19 fields, saw 25\\nSkipping line 5845: expected 19 fields, saw 24\\nSkipping line 5933: expected 19 fields, saw 21\\nSkipping line 6105: expected 19 fields, saw 24\\nSkipping line 6339: expected 19 fields, saw 24\\nSkipping line 6351: expected 19 fields, saw 25\\nSkipping line 6455: expected 19 fields, saw 22\\nSkipping line 6481: expected 19 fields, saw 27\\nSkipping line 6695: expected 19 fields, saw 23\\nSkipping line 6767: expected 19 fields, saw 21\\nSkipping line 6815: expected 19 fields, saw 20\\nSkipping line 6827: expected 19 fields, saw 23\\nSkipping line 6887: expected 19 fields, saw 23\\nSkipping line 6949: expected 19 fields, saw 24\\nSkipping line 7127: expected 19 fields, saw 22\\nSkipping line 7257: expected 19 fields, saw 20\\nSkipping line 7349: expected 19 fields, saw 20\\nSkipping line 7497: expected 19 fields, saw 27\\nSkipping line 7533: expected 19 fields, saw 24\\nSkipping line 7545: expected 19 fields, saw 27\\nSkipping line 7685: expected 19 fields, saw 25\\nSkipping line 7871: expected 19 fields, saw 23\\nSkipping line 7935: expected 19 fields, saw 23\\nSkipping line 8343: expected 19 fields, saw 25\\nSkipping line 8653: expected 19 fields, saw 28\\nSkipping line 9117: expected 19 fields, saw 23\\nSkipping line 9353: expected 19 fields, saw 20\\nSkipping line 9365: expected 19 fields, saw 25\\nSkipping line 9831: expected 19 fields, saw 21\\nSkipping line 9979: expected 19 fields, saw 26\\nSkipping line 10279: expected 19 fields, saw 26\\nSkipping line 10389: expected 19 fields, saw 22\\nSkipping line 10485: expected 19 fields, saw 23\\nSkipping line 10509: expected 19 fields, saw 22\\nSkipping line 11167: expected 19 fields, saw 21\\nSkipping line 11283: expected 19 fields, saw 20\\nSkipping line 11383: expected 19 fields, saw 22\\nSkipping line 11409: expected 19 fields, saw 21\\nSkipping line 11701: expected 19 fields, saw 20\\nSkipping line 11985: expected 19 fields, saw 23\\nSkipping line 12211: expected 19 fields, saw 21\\nSkipping line 12259: expected 19 fields, saw 24\\nSkipping line 12479: expected 19 fields, saw 20\\nSkipping line 12495: expected 19 fields, saw 21\\nSkipping line 12629: expected 19 fields, saw 21\\nSkipping line 12819: expected 19 fields, saw 21\\nSkipping line 12953: expected 19 fields, saw 22\\nSkipping line 12981: expected 19 fields, saw 26\\nSkipping line 13911: expected 19 fields, saw 21\\nSkipping line 13967: expected 19 fields, saw 24\\nSkipping line 14181: expected 19 fields, saw 24\\nSkipping line 14377: expected 19 fields, saw 20\\nSkipping line 14453: expected 19 fields, saw 23\\nSkipping line 15055: expected 19 fields, saw 22\\nSkipping line 15173: expected 19 fields, saw 26\\nSkipping line 15733: expected 19 fields, saw 25\\nSkipping line 16181: expected 19 fields, saw 24\\nSkipping line 16329: expected 19 fields, saw 25\\nSkipping line 16869: expected 19 fields, saw 24\\n'\n"
     ]
    },
    {
     "name": "stdout",
     "output_type": "stream",
     "text": [
      "processing:  ./Spinetrack Data/data/Lian_data/L_OneH_L_1.csv\n",
      "processing:  ./Spinetrack Data/data/Lian_data/L_OneH_R_1.csv\n",
      "processing:  ./Spinetrack Data/data/Lian_data/L_OneH_R_2.csv\n"
     ]
    },
    {
     "name": "stderr",
     "output_type": "stream",
     "text": [
      "b'Skipping line 712: expected 19 fields, saw 21\\nSkipping line 794: expected 19 fields, saw 22\\nSkipping line 892: expected 19 fields, saw 22\\nSkipping line 1254: expected 19 fields, saw 22\\nSkipping line 1266: expected 19 fields, saw 24\\nSkipping line 1322: expected 19 fields, saw 20\\nSkipping line 1336: expected 19 fields, saw 20\\nSkipping line 1504: expected 19 fields, saw 21\\nSkipping line 1880: expected 19 fields, saw 22\\nSkipping line 2182: expected 19 fields, saw 21\\nSkipping line 21014: expected 19 fields, saw 20\\n'\n"
     ]
    },
    {
     "name": "stdout",
     "output_type": "stream",
     "text": [
      "processing:  ./Spinetrack Data/data/Lian_data/L_Shoulder_Waist_Twist_1.csv\n"
     ]
    },
    {
     "name": "stderr",
     "output_type": "stream",
     "text": [
      "b'Skipping line 20617: expected 19 fields, saw 25\\n'\n"
     ]
    },
    {
     "name": "stdout",
     "output_type": "stream",
     "text": [
      "processing:  ./Spinetrack Data/data/Lian_data/L_Shoulder_Waist_Twist_2.csv\n",
      "processing:  ./Spinetrack Data/data/Lian_data/L_Shoulder_Waist_wo_1.csv\n",
      "processing:  ./Spinetrack Data/data/Lian_data/L_Shoulder_Waist_wo_2.csv\n",
      "processing:  ./Spinetrack Data/data/Lian_data/Overhead_Dynamic.csv\n",
      "processing:  ./Spinetrack Data/data/Lian_data/Overhead_Static.csv\n",
      "processing:  ./Spinetrack Data/data/Lian_data/Pulling_Clockwise.csv\n",
      "processing:  ./Spinetrack Data/data/Lian_data/Pulling_OneH_L.csv\n",
      "processing:  ./Spinetrack Data/data/Lian_data/Pulling_OneH_R.csv\n",
      "processing:  ./Spinetrack Data/data/Lian_data/Pushing_Clockwise.csv\n",
      "processing:  ./Spinetrack Data/data/Lian_data/Pushing_Counterclockwise.csv\n",
      "processing:  ./Spinetrack Data/data/Lian_data/Reaching_Close.csv\n",
      "processing:  ./Spinetrack Data/data/Lian_data/Reaching_Far.csv\n",
      "processing:  ./Spinetrack Data/data/Lian_data/Reaching_High.csv\n",
      "processing:  ./Spinetrack Data/data/Lian_data/Sitting.csv\n",
      "processing:  ./Spinetrack Data/data/Lian_data/Standing.csv\n",
      "processing:  ./Spinetrack Data/data/Lian_data/Static_Stoop.csv\n",
      "processing:  ./Spinetrack Data/data/Lian_data/Walking.csv\n",
      "processing:  ./Spinetrack Data/data/Lori_data/Carrying.csv\n",
      "processing:  ./Spinetrack Data/data/Lori_data/Crawling.csv\n"
     ]
    },
    {
     "name": "stderr",
     "output_type": "stream",
     "text": [
      "b'Skipping line 2927: expected 19 fields, saw 20\\nSkipping line 4553: expected 19 fields, saw 20\\n'\n"
     ]
    },
    {
     "name": "stdout",
     "output_type": "stream",
     "text": [
      "processing:  ./Spinetrack Data/data/Lori_data/Crouching.csv\n"
     ]
    },
    {
     "name": "stderr",
     "output_type": "stream",
     "text": [
      "b'Skipping line 2581: expected 19 fields, saw 20\\nSkipping line 2765: expected 19 fields, saw 22\\nSkipping line 3655: expected 19 fields, saw 24\\nSkipping line 3783: expected 19 fields, saw 20\\nSkipping line 5143: expected 19 fields, saw 23\\n'\n"
     ]
    },
    {
     "name": "stdout",
     "output_type": "stream",
     "text": [
      "processing:  ./Spinetrack Data/data/Lori_data/Kneeling.csv\n",
      "processing:  ./Spinetrack Data/data/Lori_data/L_Floor_60in_1.csv\n"
     ]
    },
    {
     "name": "stderr",
     "output_type": "stream",
     "text": [
      "b'Skipping line 461: expected 19 fields, saw 20\\nSkipping line 729: expected 19 fields, saw 21\\nSkipping line 889: expected 19 fields, saw 21\\nSkipping line 1245: expected 19 fields, saw 24\\nSkipping line 1443: expected 19 fields, saw 20\\nSkipping line 1859: expected 19 fields, saw 22\\nSkipping line 1933: expected 19 fields, saw 27\\nSkipping line 1949: expected 19 fields, saw 25\\nSkipping line 2203: expected 19 fields, saw 25\\nSkipping line 2705: expected 19 fields, saw 24\\nSkipping line 2935: expected 19 fields, saw 21\\nSkipping line 3013: expected 19 fields, saw 24\\nSkipping line 3121: expected 19 fields, saw 22\\nSkipping line 3195: expected 19 fields, saw 23\\nSkipping line 3243: expected 19 fields, saw 24\\nSkipping line 3681: expected 19 fields, saw 21\\nSkipping line 3765: expected 19 fields, saw 23\\nSkipping line 3793: expected 19 fields, saw 20\\nSkipping line 4025: expected 19 fields, saw 21\\nSkipping line 4503: expected 19 fields, saw 21\\nSkipping line 4517: expected 19 fields, saw 20\\nSkipping line 4547: expected 19 fields, saw 21\\nSkipping line 4933: expected 19 fields, saw 20\\nSkipping line 5091: expected 19 fields, saw 23\\nSkipping line 5103: expected 19 fields, saw 20\\nSkipping line 5127: expected 19 fields, saw 22\\nSkipping line 5183: expected 19 fields, saw 22\\nSkipping line 5883: expected 19 fields, saw 20\\nSkipping line 5895: expected 19 fields, saw 21\\nSkipping line 5907: expected 19 fields, saw 21\\nSkipping line 6011: expected 19 fields, saw 26\\nSkipping line 6059: expected 19 fields, saw 26\\nSkipping line 6533: expected 19 fields, saw 23\\nSkipping line 6899: expected 19 fields, saw 22\\nSkipping line 7097: expected 19 fields, saw 26\\nSkipping line 7201: expected 19 fields, saw 20\\nSkipping line 7231: expected 19 fields, saw 22\\nSkipping line 7993: expected 19 fields, saw 22\\nSkipping line 8425: expected 19 fields, saw 20\\nSkipping line 8899: expected 19 fields, saw 24\\nSkipping line 9009: expected 19 fields, saw 22\\nSkipping line 9023: expected 19 fields, saw 23\\nSkipping line 9165: expected 19 fields, saw 26\\nSkipping line 9217: expected 19 fields, saw 30\\nSkipping line 9289: expected 19 fields, saw 28\\nSkipping line 9757: expected 19 fields, saw 26\\nSkipping line 9801: expected 19 fields, saw 26\\nSkipping line 9867: expected 19 fields, saw 22\\nSkipping line 10037: expected 19 fields, saw 22\\nSkipping line 10053: expected 19 fields, saw 21\\nSkipping line 10085: expected 19 fields, saw 23\\nSkipping line 10129: expected 19 fields, saw 25\\nSkipping line 10425: expected 19 fields, saw 26\\nSkipping line 10461: expected 19 fields, saw 20\\nSkipping line 10507: expected 19 fields, saw 26\\nSkipping line 10751: expected 19 fields, saw 21\\nSkipping line 10877: expected 19 fields, saw 21\\nSkipping line 10955: expected 19 fields, saw 25\\nSkipping line 11407: expected 19 fields, saw 27\\nSkipping line 11423: expected 19 fields, saw 20\\nSkipping line 11579: expected 19 fields, saw 28\\nSkipping line 11591: expected 19 fields, saw 20\\nSkipping line 11603: expected 19 fields, saw 22\\nSkipping line 11851: expected 19 fields, saw 21\\nSkipping line 11891: expected 19 fields, saw 22\\nSkipping line 11945: expected 19 fields, saw 23\\nSkipping line 12011: expected 19 fields, saw 26\\nSkipping line 12035: expected 19 fields, saw 21\\nSkipping line 12071: expected 19 fields, saw 21\\nSkipping line 12113: expected 19 fields, saw 23\\nSkipping line 12125: expected 19 fields, saw 21\\nSkipping line 12215: expected 19 fields, saw 21\\nSkipping line 12359: expected 19 fields, saw 20\\nSkipping line 12451: expected 19 fields, saw 23\\nSkipping line 12609: expected 19 fields, saw 20\\nSkipping line 12709: expected 19 fields, saw 23\\nSkipping line 12763: expected 19 fields, saw 20\\nSkipping line 12945: expected 19 fields, saw 21\\nSkipping line 13175: expected 19 fields, saw 21\\nSkipping line 13311: expected 19 fields, saw 21\\nSkipping line 13323: expected 19 fields, saw 20\\nSkipping line 13475: expected 19 fields, saw 23\\nSkipping line 13701: expected 19 fields, saw 23\\nSkipping line 13715: expected 19 fields, saw 25\\nSkipping line 13741: expected 19 fields, saw 23\\nSkipping line 13943: expected 19 fields, saw 26\\nSkipping line 14099: expected 19 fields, saw 22\\nSkipping line 14231: expected 19 fields, saw 24\\nSkipping line 14297: expected 19 fields, saw 24\\nSkipping line 14333: expected 19 fields, saw 24\\nSkipping line 14397: expected 19 fields, saw 21\\nSkipping line 14553: expected 19 fields, saw 22\\nSkipping line 14855: expected 19 fields, saw 26\\nSkipping line 14905: expected 19 fields, saw 23\\nSkipping line 14919: expected 19 fields, saw 24\\nSkipping line 14955: expected 19 fields, saw 23\\nSkipping line 15035: expected 19 fields, saw 23\\nSkipping line 15117: expected 19 fields, saw 25\\nSkipping line 15225: expected 19 fields, saw 23\\nSkipping line 15377: expected 19 fields, saw 23\\nSkipping line 15541: expected 19 fields, saw 22\\nSkipping line 15661: expected 19 fields, saw 21\\nSkipping line 15673: expected 19 fields, saw 21\\nSkipping line 15715: expected 19 fields, saw 23\\nSkipping line 15797: expected 19 fields, saw 27\\nSkipping line 15859: expected 19 fields, saw 21\\nSkipping line 16047: expected 19 fields, saw 20\\nSkipping line 16071: expected 19 fields, saw 26\\nSkipping line 16099: expected 19 fields, saw 24\\nSkipping line 16137: expected 19 fields, saw 25\\nSkipping line 16225: expected 19 fields, saw 22\\nSkipping line 16237: expected 19 fields, saw 22\\nSkipping line 16249: expected 19 fields, saw 24\\nSkipping line 16277: expected 19 fields, saw 24\\nSkipping line 16325: expected 19 fields, saw 22\\nSkipping line 16337: expected 19 fields, saw 27\\nSkipping line 16349: expected 19 fields, saw 25\\nSkipping line 16477: expected 19 fields, saw 23\\nSkipping line 16531: expected 19 fields, saw 24\\nSkipping line 16683: expected 19 fields, saw 21\\nSkipping line 16723: expected 19 fields, saw 25\\n'\n"
     ]
    },
    {
     "name": "stdout",
     "output_type": "stream",
     "text": [
      "processing:  ./Spinetrack Data/data/Lori_data/L_Floor_60in_2.csv\n"
     ]
    },
    {
     "name": "stderr",
     "output_type": "stream",
     "text": [
      "b'Skipping line 357: expected 19 fields, saw 24\\nSkipping line 565: expected 19 fields, saw 21\\nSkipping line 811: expected 19 fields, saw 20\\nSkipping line 903: expected 19 fields, saw 23\\nSkipping line 931: expected 19 fields, saw 25\\nSkipping line 1337: expected 19 fields, saw 24\\nSkipping line 1537: expected 19 fields, saw 21\\nSkipping line 1693: expected 19 fields, saw 24\\nSkipping line 1753: expected 19 fields, saw 21\\nSkipping line 1769: expected 19 fields, saw 21\\nSkipping line 2153: expected 19 fields, saw 24\\nSkipping line 2433: expected 19 fields, saw 29\\nSkipping line 2469: expected 19 fields, saw 24\\nSkipping line 2589: expected 19 fields, saw 24\\nSkipping line 2727: expected 19 fields, saw 20\\nSkipping line 2777: expected 19 fields, saw 21\\nSkipping line 3443: expected 19 fields, saw 25\\nSkipping line 3455: expected 19 fields, saw 22\\nSkipping line 3495: expected 19 fields, saw 21\\nSkipping line 4223: expected 19 fields, saw 20\\nSkipping line 4521: expected 19 fields, saw 25\\nSkipping line 4675: expected 19 fields, saw 21\\nSkipping line 4825: expected 19 fields, saw 23\\nSkipping line 5055: expected 19 fields, saw 21\\nSkipping line 5219: expected 19 fields, saw 22\\nSkipping line 5385: expected 19 fields, saw 20\\nSkipping line 5423: expected 19 fields, saw 20\\nSkipping line 5525: expected 19 fields, saw 21\\nSkipping line 5679: expected 19 fields, saw 22\\nSkipping line 5939: expected 19 fields, saw 20\\nSkipping line 5953: expected 19 fields, saw 21\\nSkipping line 6177: expected 19 fields, saw 23\\nSkipping line 6269: expected 19 fields, saw 20\\nSkipping line 6281: expected 19 fields, saw 22\\nSkipping line 6373: expected 19 fields, saw 23\\nSkipping line 6593: expected 19 fields, saw 22\\nSkipping line 6631: expected 19 fields, saw 23\\nSkipping line 6679: expected 19 fields, saw 21\\nSkipping line 6703: expected 19 fields, saw 22\\nSkipping line 6781: expected 19 fields, saw 20\\nSkipping line 6965: expected 19 fields, saw 26\\nSkipping line 7067: expected 19 fields, saw 22\\nSkipping line 7105: expected 19 fields, saw 23\\nSkipping line 7197: expected 19 fields, saw 22\\nSkipping line 7221: expected 19 fields, saw 23\\nSkipping line 7311: expected 19 fields, saw 21\\nSkipping line 7479: expected 19 fields, saw 20\\nSkipping line 7613: expected 19 fields, saw 20\\nSkipping line 7711: expected 19 fields, saw 21\\nSkipping line 7735: expected 19 fields, saw 21\\nSkipping line 7747: expected 19 fields, saw 22\\nSkipping line 7879: expected 19 fields, saw 20\\nSkipping line 7977: expected 19 fields, saw 24\\nSkipping line 7989: expected 19 fields, saw 22\\nSkipping line 8029: expected 19 fields, saw 23\\nSkipping line 8067: expected 19 fields, saw 24\\nSkipping line 8453: expected 19 fields, saw 20\\nSkipping line 8509: expected 19 fields, saw 25\\nSkipping line 8569: expected 19 fields, saw 25\\nSkipping line 8811: expected 19 fields, saw 24\\nSkipping line 8847: expected 19 fields, saw 31\\nSkipping line 8995: expected 19 fields, saw 20\\nSkipping line 9325: expected 19 fields, saw 23\\nSkipping line 10139: expected 19 fields, saw 22\\nSkipping line 10163: expected 19 fields, saw 27\\nSkipping line 10307: expected 19 fields, saw 21\\nSkipping line 10721: expected 19 fields, saw 25\\nSkipping line 11133: expected 19 fields, saw 24\\nSkipping line 11157: expected 19 fields, saw 20\\nSkipping line 11227: expected 19 fields, saw 21\\nSkipping line 11331: expected 19 fields, saw 20\\nSkipping line 11371: expected 19 fields, saw 20\\nSkipping line 11383: expected 19 fields, saw 20\\nSkipping line 11979: expected 19 fields, saw 21\\nSkipping line 13009: expected 19 fields, saw 21\\nSkipping line 13243: expected 19 fields, saw 25\\nSkipping line 13427: expected 19 fields, saw 28\\nSkipping line 13543: expected 19 fields, saw 20\\nSkipping line 14023: expected 19 fields, saw 32\\nSkipping line 14173: expected 19 fields, saw 20\\nSkipping line 14281: expected 19 fields, saw 21\\nSkipping line 14333: expected 19 fields, saw 20\\nSkipping line 14345: expected 19 fields, saw 24\\nSkipping line 14505: expected 19 fields, saw 23\\nSkipping line 14533: expected 19 fields, saw 20\\nSkipping line 14735: expected 19 fields, saw 20\\nSkipping line 15063: expected 19 fields, saw 22\\nSkipping line 15075: expected 19 fields, saw 21\\nSkipping line 15337: expected 19 fields, saw 21\\nSkipping line 15621: expected 19 fields, saw 23\\nSkipping line 15819: expected 19 fields, saw 21\\nSkipping line 15899: expected 19 fields, saw 24\\nSkipping line 15933: expected 19 fields, saw 23\\nSkipping line 16121: expected 19 fields, saw 24\\nSkipping line 16249: expected 19 fields, saw 25\\nSkipping line 16261: expected 19 fields, saw 21\\nSkipping line 16305: expected 19 fields, saw 22\\nSkipping line 16353: expected 19 fields, saw 20\\nSkipping line 16447: expected 19 fields, saw 22\\nSkipping line 16477: expected 19 fields, saw 20\\nSkipping line 16585: expected 19 fields, saw 21\\n'\n"
     ]
    },
    {
     "name": "stdout",
     "output_type": "stream",
     "text": [
      "processing:  ./Spinetrack Data/data/Lori_data/L_Floor_Shoulder_1.csv\n",
      "processing:  ./Spinetrack Data/data/Lori_data/L_Floor_Shoulder_2.csv\n"
     ]
    },
    {
     "name": "stderr",
     "output_type": "stream",
     "text": [
      "b'Skipping line 12722: expected 19 fields, saw 23\\n'\n"
     ]
    },
    {
     "name": "stdout",
     "output_type": "stream",
     "text": [
      "processing:  ./Spinetrack Data/data/Lori_data/L_Floor_Waist_Squat_1.csv\n",
      "processing:  ./Spinetrack Data/data/Lori_data/L_Floor_Waist_Squat_2.csv\n"
     ]
    },
    {
     "name": "stderr",
     "output_type": "stream",
     "text": [
      "b'Skipping line 11281: expected 19 fields, saw 26\\n'\n"
     ]
    },
    {
     "name": "stdout",
     "output_type": "stream",
     "text": [
      "processing:  ./Spinetrack Data/data/Lori_data/L_Floor_Waist_Stoop_1.csv\n"
     ]
    },
    {
     "name": "stderr",
     "output_type": "stream",
     "text": [
      "b'Skipping line 18849: expected 19 fields, saw 22\\nSkipping line 22009: expected 19 fields, saw 23\\n'\n"
     ]
    },
    {
     "name": "stdout",
     "output_type": "stream",
     "text": [
      "processing:  ./Spinetrack Data/data/Lori_data/L_Floor_Waist_Stoop_2.csv\n"
     ]
    },
    {
     "name": "stderr",
     "output_type": "stream",
     "text": [
      "b'Skipping line 18433: expected 19 fields, saw 27\\nSkipping line 18497: expected 19 fields, saw 28\\nSkipping line 19003: expected 19 fields, saw 24\\nSkipping line 21975: expected 19 fields, saw 22\\n'\n"
     ]
    },
    {
     "name": "stdout",
     "output_type": "stream",
     "text": [
      "processing:  ./Spinetrack Data/data/Lori_data/L_OneH_L_1.csv\n"
     ]
    },
    {
     "name": "stderr",
     "output_type": "stream",
     "text": [
      "b'Skipping line 17551: expected 19 fields, saw 25\\n'\n"
     ]
    },
    {
     "name": "stdout",
     "output_type": "stream",
     "text": [
      "processing:  ./Spinetrack Data/data/Lori_data/L_OneH_L_2.csv\n"
     ]
    },
    {
     "name": "stderr",
     "output_type": "stream",
     "text": [
      "b'Skipping line 17395: expected 19 fields, saw 26\\n'\n"
     ]
    },
    {
     "name": "stdout",
     "output_type": "stream",
     "text": [
      "processing:  ./Spinetrack Data/data/Lori_data/L_OneH_R_1.csv\n"
     ]
    },
    {
     "name": "stderr",
     "output_type": "stream",
     "text": [
      "b'Skipping line 6013: expected 19 fields, saw 20\\nSkipping line 6593: expected 19 fields, saw 25\\nSkipping line 7467: expected 19 fields, saw 21\\nSkipping line 9111: expected 19 fields, saw 25\\nSkipping line 9465: expected 19 fields, saw 20\\nSkipping line 9503: expected 19 fields, saw 21\\nSkipping line 15815: expected 19 fields, saw 21\\nSkipping line 15951: expected 19 fields, saw 23\\nSkipping line 16031: expected 19 fields, saw 26\\nSkipping line 16225: expected 19 fields, saw 22\\nSkipping line 17907: expected 19 fields, saw 21\\nSkipping line 18347: expected 19 fields, saw 20\\nSkipping line 18567: expected 19 fields, saw 21\\nSkipping line 18983: expected 19 fields, saw 22\\nSkipping line 19429: expected 19 fields, saw 27\\nSkipping line 19757: expected 19 fields, saw 27\\n'\n"
     ]
    },
    {
     "name": "stdout",
     "output_type": "stream",
     "text": [
      "processing:  ./Spinetrack Data/data/Lori_data/L_OneH_R_2.csv\n"
     ]
    },
    {
     "name": "stderr",
     "output_type": "stream",
     "text": [
      "b'Skipping line 16047: expected 19 fields, saw 23\\nSkipping line 16859: expected 19 fields, saw 25\\nSkipping line 17045: expected 19 fields, saw 23\\nSkipping line 19093: expected 19 fields, saw 28\\nSkipping line 19135: expected 19 fields, saw 21\\nSkipping line 21227: expected 19 fields, saw 27\\n'\n"
     ]
    },
    {
     "name": "stdout",
     "output_type": "stream",
     "text": [
      "processing:  ./Spinetrack Data/data/Lori_data/L_Shoulder_Waist_Twist_1.csv\n"
     ]
    },
    {
     "name": "stderr",
     "output_type": "stream",
     "text": [
      "b'Skipping line 8725: expected 19 fields, saw 23\\nSkipping line 9321: expected 19 fields, saw 22\\nSkipping line 12457: expected 19 fields, saw 22\\nSkipping line 13857: expected 19 fields, saw 22\\nSkipping line 22863: expected 19 fields, saw 23\\nSkipping line 23119: expected 19 fields, saw 24\\n'\n"
     ]
    },
    {
     "name": "stdout",
     "output_type": "stream",
     "text": [
      "processing:  ./Spinetrack Data/data/Lori_data/L_Shoulder_Waist_Twist_2.csv\n",
      "processing:  ./Spinetrack Data/data/Lori_data/L_Shoulder_Waist_wo_1.csv\n",
      "processing:  ./Spinetrack Data/data/Lori_data/L_Shoulder_Waist_wo_2.csv\n"
     ]
    },
    {
     "name": "stderr",
     "output_type": "stream",
     "text": [
      "b'Skipping line 15825: expected 19 fields, saw 30\\nSkipping line 16483: expected 19 fields, saw 27\\nSkipping line 16945: expected 19 fields, saw 23\\nSkipping line 17775: expected 19 fields, saw 23\\nSkipping line 17837: expected 19 fields, saw 22\\nSkipping line 20123: expected 19 fields, saw 21\\nSkipping line 20203: expected 19 fields, saw 21\\nSkipping line 20281: expected 19 fields, saw 21\\nSkipping line 20305: expected 19 fields, saw 23\\nSkipping line 20725: expected 19 fields, saw 30\\nSkipping line 20999: expected 19 fields, saw 26\\nSkipping line 23373: expected 19 fields, saw 20\\n'\n"
     ]
    },
    {
     "name": "stdout",
     "output_type": "stream",
     "text": [
      "processing:  ./Spinetrack Data/data/Lori_data/Overhead_Dynamic.csv\n",
      "processing:  ./Spinetrack Data/data/Lori_data/Overhead_Static.csv\n",
      "processing:  ./Spinetrack Data/data/Lori_data/Pulling_Clockwise.csv\n"
     ]
    },
    {
     "name": "stderr",
     "output_type": "stream",
     "text": [
      "b'Skipping line 4375: expected 19 fields, saw 22\\n'\n"
     ]
    },
    {
     "name": "stdout",
     "output_type": "stream",
     "text": [
      "processing:  ./Spinetrack Data/data/Lori_data/Pulling_OneH_L.csv\n"
     ]
    },
    {
     "name": "stderr",
     "output_type": "stream",
     "text": [
      "b'Skipping line 4273: expected 19 fields, saw 23\\n'\n"
     ]
    },
    {
     "name": "stdout",
     "output_type": "stream",
     "text": [
      "processing:  ./Spinetrack Data/data/Lori_data/Pulling_OneH_R.csv\n",
      "processing:  ./Spinetrack Data/data/Lori_data/Pushing_Clockwise.csv\n",
      "processing:  ./Spinetrack Data/data/Lori_data/Pushing_Counterclockwise.csv\n",
      "processing:  ./Spinetrack Data/data/Lori_data/Reaching_Close.csv\n",
      "processing:  ./Spinetrack Data/data/Lori_data/Reaching_Far.csv\n",
      "processing:  ./Spinetrack Data/data/Lori_data/Reaching_High.csv\n",
      "processing:  ./Spinetrack Data/data/Lori_data/Sitting.csv\n",
      "processing:  ./Spinetrack Data/data/Lori_data/Standing.csv\n",
      "processing:  ./Spinetrack Data/data/Lori_data/Static_Stoop.csv\n",
      "processing:  ./Spinetrack Data/data/Lori_data/Walking.csv\n",
      "processing:  ./Spinetrack Data/data/Marc_data/Carrying.csv\n",
      "processing:  ./Spinetrack Data/data/Marc_data/Crawling.csv\n",
      "processing:  ./Spinetrack Data/data/Marc_data/Crouching.csv\n",
      "processing:  ./Spinetrack Data/data/Marc_data/Kneeling.csv\n"
     ]
    },
    {
     "name": "stderr",
     "output_type": "stream",
     "text": [
      "b'Skipping line 1460: expected 19 fields, saw 31\\nSkipping line 1568: expected 19 fields, saw 26\\nSkipping line 1736: expected 19 fields, saw 23\\nSkipping line 1774: expected 19 fields, saw 21\\nSkipping line 1830: expected 19 fields, saw 26\\nSkipping line 2240: expected 19 fields, saw 26\\nSkipping line 2252: expected 19 fields, saw 21\\nSkipping line 2438: expected 19 fields, saw 26\\nSkipping line 2576: expected 19 fields, saw 23\\nSkipping line 2660: expected 19 fields, saw 28\\nSkipping line 2820: expected 19 fields, saw 21\\nSkipping line 2956: expected 19 fields, saw 26\\nSkipping line 3332: expected 19 fields, saw 21\\nSkipping line 3568: expected 19 fields, saw 22\\nSkipping line 3664: expected 19 fields, saw 20\\nSkipping line 3768: expected 19 fields, saw 21\\nSkipping line 3810: expected 19 fields, saw 22\\nSkipping line 3852: expected 19 fields, saw 30\\nSkipping line 4072: expected 19 fields, saw 22\\nSkipping line 4084: expected 19 fields, saw 22\\nSkipping line 4180: expected 19 fields, saw 20\\nSkipping line 4272: expected 19 fields, saw 21\\nSkipping line 4428: expected 19 fields, saw 21\\nSkipping line 4458: expected 19 fields, saw 20\\n'\n"
     ]
    },
    {
     "name": "stdout",
     "output_type": "stream",
     "text": [
      "processing:  ./Spinetrack Data/data/Marc_data/L_Floor_60in_1.csv\n",
      "processing:  ./Spinetrack Data/data/Marc_data/L_Floor_60in_2.csv\n",
      "processing:  ./Spinetrack Data/data/Marc_data/L_Floor_Shoulder_1.csv\n"
     ]
    },
    {
     "name": "stderr",
     "output_type": "stream",
     "text": [
      "b'Skipping line 17260: expected 19 fields, saw 23\\nSkipping line 19416: expected 19 fields, saw 21\\nSkipping line 19438: expected 19 fields, saw 24\\nSkipping line 20228: expected 19 fields, saw 25\\nSkipping line 20274: expected 19 fields, saw 22\\nSkipping line 20368: expected 19 fields, saw 29\\nSkipping line 23336: expected 19 fields, saw 20\\nSkipping line 24138: expected 19 fields, saw 21\\nSkipping line 24224: expected 19 fields, saw 22\\nSkipping line 24882: expected 19 fields, saw 27\\n'\n"
     ]
    },
    {
     "name": "stdout",
     "output_type": "stream",
     "text": [
      "processing:  ./Spinetrack Data/data/Marc_data/L_Floor_Shoulder_2.csv\n",
      "processing:  ./Spinetrack Data/data/Marc_data/L_Floor_Waist_Squat_1.csv\n",
      "processing:  ./Spinetrack Data/data/Marc_data/L_Floor_Waist_Squat_2.csv\n"
     ]
    },
    {
     "name": "stderr",
     "output_type": "stream",
     "text": [
      "b'Skipping line 15202: expected 19 fields, saw 24\\nSkipping line 17132: expected 19 fields, saw 31\\nSkipping line 21234: expected 19 fields, saw 21\\n'\n"
     ]
    },
    {
     "name": "stdout",
     "output_type": "stream",
     "text": [
      "processing:  ./Spinetrack Data/data/Marc_data/L_Floor_Waist_Stoop_1.csv\n",
      "processing:  ./Spinetrack Data/data/Marc_data/L_Floor_Waist_Stoop_2.csv\n",
      "processing:  ./Spinetrack Data/data/Marc_data/L_OneH_L_1.csv\n",
      "processing:  ./Spinetrack Data/data/Marc_data/L_OneH_L_2.csv\n",
      "processing:  ./Spinetrack Data/data/Marc_data/L_OneH_R_1.csv\n",
      "processing:  ./Spinetrack Data/data/Marc_data/L_OneH_R_2.csv\n",
      "processing:  ./Spinetrack Data/data/Marc_data/L_Shoulder_Waist_Twist_1.csv\n"
     ]
    },
    {
     "name": "stderr",
     "output_type": "stream",
     "text": [
      "b'Skipping line 10276: expected 19 fields, saw 27\\nSkipping line 11856: expected 19 fields, saw 21\\nSkipping line 11870: expected 19 fields, saw 22\\nSkipping line 19886: expected 19 fields, saw 20\\nSkipping line 19952: expected 19 fields, saw 23\\n'\n"
     ]
    },
    {
     "name": "stdout",
     "output_type": "stream",
     "text": [
      "processing:  ./Spinetrack Data/data/Marc_data/L_Shoulder_Waist_Twist_2.csv\n"
     ]
    },
    {
     "name": "stderr",
     "output_type": "stream",
     "text": [
      "b'Skipping line 3830: expected 19 fields, saw 20\\nSkipping line 12758: expected 19 fields, saw 20\\nSkipping line 19646: expected 19 fields, saw 21\\nSkipping line 20356: expected 19 fields, saw 20\\nSkipping line 21418: expected 19 fields, saw 21\\nSkipping line 24144: expected 19 fields, saw 20\\n'\n"
     ]
    },
    {
     "name": "stdout",
     "output_type": "stream",
     "text": [
      "processing:  ./Spinetrack Data/data/Marc_data/L_Shoulder_Waist_wo_1.csv\n"
     ]
    },
    {
     "name": "stderr",
     "output_type": "stream",
     "text": [
      "b'Skipping line 6608: expected 19 fields, saw 22\\nSkipping line 6656: expected 19 fields, saw 23\\nSkipping line 7378: expected 19 fields, saw 21\\nSkipping line 7440: expected 19 fields, saw 24\\nSkipping line 7534: expected 19 fields, saw 21\\nSkipping line 8050: expected 19 fields, saw 22\\nSkipping line 25412: expected 19 fields, saw 23\\n'\n"
     ]
    },
    {
     "name": "stdout",
     "output_type": "stream",
     "text": [
      "processing:  ./Spinetrack Data/data/Marc_data/L_Shoulder_Waist_wo_2.csv\n",
      "processing:  ./Spinetrack Data/data/Marc_data/Overhead_Dynamic.csv\n",
      "processing:  ./Spinetrack Data/data/Marc_data/Overhead_Static.csv\n",
      "processing:  ./Spinetrack Data/data/Marc_data/Pulling_Clockwise.csv\n",
      "processing:  ./Spinetrack Data/data/Marc_data/Pulling_OneH_L.csv\n",
      "processing:  ./Spinetrack Data/data/Marc_data/Pulling_OneH_R.csv\n",
      "processing:  ./Spinetrack Data/data/Marc_data/Pushing_Clockwise.csv\n",
      "processing:  ./Spinetrack Data/data/Marc_data/Pushing_Counterclockwise.csv\n",
      "processing:  ./Spinetrack Data/data/Marc_data/Reaching_Close.csv\n",
      "processing:  ./Spinetrack Data/data/Marc_data/Reaching_Far.csv\n",
      "processing:  ./Spinetrack Data/data/Marc_data/Reaching_High.csv\n",
      "processing:  ./Spinetrack Data/data/Marc_data/Sitting.csv\n",
      "processing:  ./Spinetrack Data/data/Marc_data/Standing.csv\n",
      "processing:  ./Spinetrack Data/data/Marc_data/Static_Stoop.csv\n",
      "processing:  ./Spinetrack Data/data/Marc_data/Walking.csv\n",
      "processing:  ./Spinetrack Data/data/Marie_data/Carrying_10.csv\n",
      "processing:  ./Spinetrack Data/data/Marie_data/Carrying_20.csv\n",
      "processing:  ./Spinetrack Data/data/Marie_data/Carrying_5.csv\n",
      "processing:  ./Spinetrack Data/data/Marie_data/Crawling.csv\n"
     ]
    },
    {
     "name": "stderr",
     "output_type": "stream",
     "text": [
      "b'Skipping line 1472: expected 19 fields, saw 22\\nSkipping line 2238: expected 19 fields, saw 20\\nSkipping line 3918: expected 19 fields, saw 20\\nSkipping line 4088: expected 19 fields, saw 21\\nSkipping line 4140: expected 19 fields, saw 21\\nSkipping line 4636: expected 19 fields, saw 25\\n'\n"
     ]
    },
    {
     "name": "stdout",
     "output_type": "stream",
     "text": [
      "processing:  ./Spinetrack Data/data/Marie_data/Crouching.csv\n",
      "processing:  ./Spinetrack Data/data/Marie_data/Kneeling.csv\n",
      "processing:  ./Spinetrack Data/data/Marie_data/L_Floor_60in_10.csv\n",
      "processing:  ./Spinetrack Data/data/Marie_data/L_Floor_60in_20.csv\n",
      "processing:  ./Spinetrack Data/data/Marie_data/L_Floor_60in_5.csv\n",
      "processing:  ./Spinetrack Data/data/Marie_data/L_Floor_Shoulder_10.csv\n",
      "processing:  ./Spinetrack Data/data/Marie_data/L_Floor_Shoulder_20.csv\n",
      "processing:  ./Spinetrack Data/data/Marie_data/L_Floor_Shoulder_5.csv\n",
      "processing:  ./Spinetrack Data/data/Marie_data/L_Floor_Waist_Squat_10.csv\n",
      "processing:  ./Spinetrack Data/data/Marie_data/L_Floor_Waist_Squat_20.csv\n",
      "processing:  ./Spinetrack Data/data/Marie_data/L_Floor_Waist_Squat_5.csv\n",
      "processing:  ./Spinetrack Data/data/Marie_data/L_Floor_Waist_Stoop_10.csv\n",
      "processing:  ./Spinetrack Data/data/Marie_data/L_Floor_Waist_Stoop_20.csv\n",
      "processing:  ./Spinetrack Data/data/Marie_data/L_Floor_Waist_Stoop_5.csv\n",
      "processing:  ./Spinetrack Data/data/Marie_data/L_OneH_L_10.csv\n",
      "processing:  ./Spinetrack Data/data/Marie_data/L_OneH_L_15.csv\n",
      "processing:  ./Spinetrack Data/data/Marie_data/L_OneH_L_5.csv\n",
      "processing:  ./Spinetrack Data/data/Marie_data/L_OneH_R_10.csv\n",
      "processing:  ./Spinetrack Data/data/Marie_data/L_OneH_R_15.csv\n",
      "processing:  ./Spinetrack Data/data/Marie_data/L_OneH_R_5.csv\n",
      "processing:  ./Spinetrack Data/data/Marie_data/L_Shoulder_Waist_Twist_10.csv\n"
     ]
    },
    {
     "name": "stderr",
     "output_type": "stream",
     "text": [
      "b'Skipping line 580: expected 19 fields, saw 21\\nSkipping line 842: expected 19 fields, saw 23\\nSkipping line 854: expected 19 fields, saw 25\\nSkipping line 902: expected 19 fields, saw 24\\nSkipping line 928: expected 19 fields, saw 24\\nSkipping line 978: expected 19 fields, saw 20\\nSkipping line 1204: expected 19 fields, saw 20\\nSkipping line 1616: expected 19 fields, saw 22\\nSkipping line 1628: expected 19 fields, saw 21\\nSkipping line 1668: expected 19 fields, saw 20\\nSkipping line 1992: expected 19 fields, saw 20\\nSkipping line 2030: expected 19 fields, saw 22\\nSkipping line 2150: expected 19 fields, saw 21\\nSkipping line 2594: expected 19 fields, saw 20\\nSkipping line 2924: expected 19 fields, saw 20\\nSkipping line 3048: expected 19 fields, saw 20\\nSkipping line 3704: expected 19 fields, saw 21\\nSkipping line 3844: expected 19 fields, saw 20\\nSkipping line 3930: expected 19 fields, saw 20\\nSkipping line 4148: expected 19 fields, saw 21\\nSkipping line 4342: expected 19 fields, saw 21\\nSkipping line 4354: expected 19 fields, saw 22\\nSkipping line 4426: expected 19 fields, saw 21\\nSkipping line 4600: expected 19 fields, saw 20\\nSkipping line 4624: expected 19 fields, saw 20\\nSkipping line 4858: expected 19 fields, saw 22\\nSkipping line 4950: expected 19 fields, saw 22\\nSkipping line 4968: expected 19 fields, saw 23\\nSkipping line 5006: expected 19 fields, saw 21\\nSkipping line 5108: expected 19 fields, saw 22\\nSkipping line 5192: expected 19 fields, saw 20\\nSkipping line 5394: expected 19 fields, saw 22\\nSkipping line 5444: expected 19 fields, saw 22\\nSkipping line 5622: expected 19 fields, saw 21\\nSkipping line 5760: expected 19 fields, saw 20\\n'\n"
     ]
    },
    {
     "name": "stdout",
     "output_type": "stream",
     "text": [
      "processing:  ./Spinetrack Data/data/Marie_data/L_Shoulder_Waist_Twist_20.csv\n"
     ]
    },
    {
     "name": "stderr",
     "output_type": "stream",
     "text": [
      "b'Skipping line 708: expected 19 fields, saw 20\\nSkipping line 746: expected 19 fields, saw 20\\nSkipping line 810: expected 19 fields, saw 21\\nSkipping line 876: expected 19 fields, saw 22\\nSkipping line 932: expected 19 fields, saw 21\\nSkipping line 1250: expected 19 fields, saw 21\\nSkipping line 1450: expected 19 fields, saw 20\\nSkipping line 1516: expected 19 fields, saw 20\\nSkipping line 1928: expected 19 fields, saw 20\\nSkipping line 2116: expected 19 fields, saw 23\\nSkipping line 2134: expected 19 fields, saw 21\\nSkipping line 2700: expected 19 fields, saw 21\\nSkipping line 2736: expected 19 fields, saw 21\\nSkipping line 2860: expected 19 fields, saw 20\\nSkipping line 2892: expected 19 fields, saw 21\\nSkipping line 3622: expected 19 fields, saw 24\\nSkipping line 5280: expected 19 fields, saw 21\\nSkipping line 5364: expected 19 fields, saw 23\\nSkipping line 5416: expected 19 fields, saw 25\\nSkipping line 5654: expected 19 fields, saw 21\\nSkipping line 6122: expected 19 fields, saw 20\\nSkipping line 6140: expected 19 fields, saw 22\\nSkipping line 6706: expected 19 fields, saw 23\\n'\n"
     ]
    },
    {
     "name": "stdout",
     "output_type": "stream",
     "text": [
      "processing:  ./Spinetrack Data/data/Marie_data/L_Shoulder_Waist_Twist_5.csv\n"
     ]
    },
    {
     "name": "stderr",
     "output_type": "stream",
     "text": [
      "b'Skipping line 728: expected 19 fields, saw 21\\nSkipping line 1140: expected 19 fields, saw 21\\nSkipping line 4450: expected 19 fields, saw 20\\nSkipping line 4670: expected 19 fields, saw 22\\nSkipping line 4822: expected 19 fields, saw 22\\nSkipping line 4890: expected 19 fields, saw 21\\nSkipping line 4972: expected 19 fields, saw 21\\nSkipping line 5560: expected 19 fields, saw 20\\nSkipping line 5634: expected 19 fields, saw 22\\n'\n"
     ]
    },
    {
     "name": "stdout",
     "output_type": "stream",
     "text": [
      "processing:  ./Spinetrack Data/data/Marie_data/L_Shoulder_Waist_wo_10.csv\n",
      "processing:  ./Spinetrack Data/data/Marie_data/L_Shoulder_Waist_wo_20.csv\n",
      "processing:  ./Spinetrack Data/data/Marie_data/L_Shoulder_Waist_wo_5.csv\n",
      "processing:  ./Spinetrack Data/data/Marie_data/Overhead_Dynamic.csv\n",
      "processing:  ./Spinetrack Data/data/Marie_data/Overhead_Static.csv\n",
      "processing:  ./Spinetrack Data/data/Marie_data/Pulling_Clockwise.csv\n",
      "processing:  ./Spinetrack Data/data/Marie_data/Pulling_OneH_L.csv\n",
      "processing:  ./Spinetrack Data/data/Marie_data/Pulling_OneH_R.csv\n",
      "processing:  ./Spinetrack Data/data/Marie_data/Pushing_Clockwise.csv\n",
      "processing:  ./Spinetrack Data/data/Marie_data/Pushing_Counterclockwise.csv\n",
      "processing:  ./Spinetrack Data/data/Marie_data/Reaching_Close.csv\n",
      "processing:  ./Spinetrack Data/data/Marie_data/Reaching_Far.csv\n",
      "processing:  ./Spinetrack Data/data/Marie_data/Reaching_High.csv\n",
      "processing:  ./Spinetrack Data/data/Marie_data/Sitting.csv\n",
      "processing:  ./Spinetrack Data/data/Marie_data/Standing.csv\n",
      "processing:  ./Spinetrack Data/data/Marie_data/Static_Stoop.csv\n",
      "processing:  ./Spinetrack Data/data/Marie_data/Walking.csv\n"
     ]
    }
   ],
   "source": [
    "frame = []\n",
    "for person in file:\n",
    "    for file_path in person:\n",
    "        activity_name = ''\n",
    "        activity_lst = file_path.split(\"/\")[-1].split('.')[0].split('_')\n",
    "        \n",
    "        if activity_lst[0] == 'L' and activity_lst[1] == 'OneH':\n",
    "            activity_name = 'Lifting_OneH'\n",
    "        elif activity_lst[0] == 'L' and activity_lst[1] != 'OneH':\n",
    "            activity_name = 'Lifting'\n",
    "        elif activity_lst[0] == 'Static':\n",
    "            activity_name = 'Static_Stoop'\n",
    "        elif activity_lst[0] == 'Pulling' and activity_lst[1] == 'OneH':\n",
    "            activity_name = 'Pulling_OneH'\n",
    "        else:\n",
    "            activity_name = activity_lst[0]\n",
    "#         print(activity_name)\n",
    "        print(\"processing: \", file_path)\n",
    "        if activity_name in index_dict.keys():\n",
    "            df = pd.read_csv(file_path, error_bad_lines=False, skiprows=5)\n",
    "            df.columns = header\n",
    "            df[\"activity\"] = [index_dict[activity_name] for i in range(len(df))]\n",
    "            frame.append(df)\n",
    "            \n",
    "            # mkdir if not exist. Save to local csv file\n",
    "#             if not (os.path.exists('./Spinetrack Data/Yibin_Processed/' + category + folder_name)):\n",
    "#                 os.makedirs('./Spinetrack Data/Yibin_Processed/' + category + folder_name)\n",
    "#             csv_name = '/' + activity_name + '.csv'\n",
    "#             folder_name = file_path.split(\"/\")[-3] # person's name \n",
    "#             category = 'data/' # data or task\n",
    "#             file_name = './Spinetrack Data/Yibin_Processed/' + category + folder_name + csv_name\n",
    "#             df.to_csv(file_name) # save csv processed file to local\n",
    "            \n",
    "            #print(file_path)\n",
    "        "
   ]
  },
  {
   "cell_type": "code",
   "execution_count": 87,
   "metadata": {},
   "outputs": [
    {
     "data": {
      "text/html": [
       "<div>\n",
       "<style scoped>\n",
       "    .dataframe tbody tr th:only-of-type {\n",
       "        vertical-align: middle;\n",
       "    }\n",
       "\n",
       "    .dataframe tbody tr th {\n",
       "        vertical-align: top;\n",
       "    }\n",
       "\n",
       "    .dataframe thead th {\n",
       "        text-align: right;\n",
       "    }\n",
       "</style>\n",
       "<table border=\"1\" class=\"dataframe\">\n",
       "  <thead>\n",
       "    <tr style=\"text-align: right;\">\n",
       "      <th></th>\n",
       "      <th>TimeSec</th>\n",
       "      <th>Sensor</th>\n",
       "      <th>Quatx</th>\n",
       "      <th>Quaty</th>\n",
       "      <th>Quatz</th>\n",
       "      <th>Quat0</th>\n",
       "      <th>Heading</th>\n",
       "      <th>Pitch</th>\n",
       "      <th>Roll</th>\n",
       "      <th>LinAccx</th>\n",
       "      <th>LinAccy</th>\n",
       "      <th>LinAccz</th>\n",
       "      <th>Vbat</th>\n",
       "      <th>Accx</th>\n",
       "      <th>Accy</th>\n",
       "      <th>Accz</th>\n",
       "      <th>Gyrox</th>\n",
       "      <th>Gyroy</th>\n",
       "      <th>Gyroz</th>\n",
       "      <th>activity</th>\n",
       "    </tr>\n",
       "  </thead>\n",
       "  <tbody>\n",
       "    <tr>\n",
       "      <th>0</th>\n",
       "      <td>0.084153</td>\n",
       "      <td>0.0</td>\n",
       "      <td>0.123</td>\n",
       "      <td>0.16</td>\n",
       "      <td>0.02</td>\n",
       "      <td>0.98</td>\n",
       "      <td>179.07</td>\n",
       "      <td>-17.82</td>\n",
       "      <td>4.61</td>\n",
       "      <td>0.10</td>\n",
       "      <td>-0.00</td>\n",
       "      <td>-0.00</td>\n",
       "      <td>3.92</td>\n",
       "      <td>0.15</td>\n",
       "      <td>-0.61</td>\n",
       "      <td>0.00</td>\n",
       "      <td>0.21</td>\n",
       "      <td>0.05</td>\n",
       "      <td>0.98</td>\n",
       "      <td>7</td>\n",
       "    </tr>\n",
       "    <tr>\n",
       "      <th>1</th>\n",
       "      <td>0.085894</td>\n",
       "      <td>6.0</td>\n",
       "      <td>-0.989</td>\n",
       "      <td>0.01</td>\n",
       "      <td>0.14</td>\n",
       "      <td>0.05</td>\n",
       "      <td>8.60</td>\n",
       "      <td>-16.39</td>\n",
       "      <td>-0.61</td>\n",
       "      <td>-0.04</td>\n",
       "      <td>0.00</td>\n",
       "      <td>-0.00</td>\n",
       "      <td>3.81</td>\n",
       "      <td>0.15</td>\n",
       "      <td>0.00</td>\n",
       "      <td>-0.15</td>\n",
       "      <td>0.25</td>\n",
       "      <td>-0.02</td>\n",
       "      <td>0.97</td>\n",
       "      <td>7</td>\n",
       "    </tr>\n",
       "    <tr>\n",
       "      <th>2</th>\n",
       "      <td>0.141330</td>\n",
       "      <td>5.0</td>\n",
       "      <td>0.883</td>\n",
       "      <td>0.04</td>\n",
       "      <td>0.22</td>\n",
       "      <td>0.41</td>\n",
       "      <td>67.19</td>\n",
       "      <td>20.47</td>\n",
       "      <td>15.59</td>\n",
       "      <td>0.01</td>\n",
       "      <td>0.00</td>\n",
       "      <td>0.02</td>\n",
       "      <td>3.87</td>\n",
       "      <td>0.00</td>\n",
       "      <td>-1.68</td>\n",
       "      <td>-2.29</td>\n",
       "      <td>-0.34</td>\n",
       "      <td>0.25</td>\n",
       "      <td>0.92</td>\n",
       "      <td>7</td>\n",
       "    </tr>\n",
       "    <tr>\n",
       "      <th>3</th>\n",
       "      <td>0.143030</td>\n",
       "      <td>1.0</td>\n",
       "      <td>-0.085</td>\n",
       "      <td>-0.01</td>\n",
       "      <td>-0.00</td>\n",
       "      <td>-1.00</td>\n",
       "      <td>184.33</td>\n",
       "      <td>-1.08</td>\n",
       "      <td>0.42</td>\n",
       "      <td>0.02</td>\n",
       "      <td>-0.01</td>\n",
       "      <td>-0.00</td>\n",
       "      <td>3.91</td>\n",
       "      <td>0.31</td>\n",
       "      <td>0.00</td>\n",
       "      <td>-0.15</td>\n",
       "      <td>-0.01</td>\n",
       "      <td>-0.01</td>\n",
       "      <td>1.00</td>\n",
       "      <td>7</td>\n",
       "    </tr>\n",
       "    <tr>\n",
       "      <th>4</th>\n",
       "      <td>0.146700</td>\n",
       "      <td>4.0</td>\n",
       "      <td>0.939</td>\n",
       "      <td>-0.05</td>\n",
       "      <td>0.21</td>\n",
       "      <td>-0.27</td>\n",
       "      <td>340.02</td>\n",
       "      <td>21.90</td>\n",
       "      <td>-12.92</td>\n",
       "      <td>-0.04</td>\n",
       "      <td>-0.00</td>\n",
       "      <td>0.01</td>\n",
       "      <td>3.79</td>\n",
       "      <td>-2.59</td>\n",
       "      <td>0.00</td>\n",
       "      <td>-2.14</td>\n",
       "      <td>-0.41</td>\n",
       "      <td>-0.23</td>\n",
       "      <td>0.89</td>\n",
       "      <td>7</td>\n",
       "    </tr>\n",
       "    <tr>\n",
       "      <th>5</th>\n",
       "      <td>0.148200</td>\n",
       "      <td>7.0</td>\n",
       "      <td>0.982</td>\n",
       "      <td>0.07</td>\n",
       "      <td>-0.10</td>\n",
       "      <td>0.14</td>\n",
       "      <td>29.52</td>\n",
       "      <td>-12.75</td>\n",
       "      <td>6.73</td>\n",
       "      <td>-0.03</td>\n",
       "      <td>0.01</td>\n",
       "      <td>-0.01</td>\n",
       "      <td>0.00</td>\n",
       "      <td>0.00</td>\n",
       "      <td>0.31</td>\n",
       "      <td>0.61</td>\n",
       "      <td>0.18</td>\n",
       "      <td>0.12</td>\n",
       "      <td>0.97</td>\n",
       "      <td>7</td>\n",
       "    </tr>\n",
       "    <tr>\n",
       "      <th>6</th>\n",
       "      <td>0.173360</td>\n",
       "      <td>2.0</td>\n",
       "      <td>0.848</td>\n",
       "      <td>0.05</td>\n",
       "      <td>0.03</td>\n",
       "      <td>-0.53</td>\n",
       "      <td>310.46</td>\n",
       "      <td>5.53</td>\n",
       "      <td>3.27</td>\n",
       "      <td>-0.05</td>\n",
       "      <td>-0.02</td>\n",
       "      <td>0.00</td>\n",
       "      <td>3.95</td>\n",
       "      <td>-0.31</td>\n",
       "      <td>-1.07</td>\n",
       "      <td>0.76</td>\n",
       "      <td>-0.13</td>\n",
       "      <td>0.02</td>\n",
       "      <td>1.00</td>\n",
       "      <td>7</td>\n",
       "    </tr>\n",
       "    <tr>\n",
       "      <th>7</th>\n",
       "      <td>0.174930</td>\n",
       "      <td>3.0</td>\n",
       "      <td>0.803</td>\n",
       "      <td>-0.10</td>\n",
       "      <td>0.02</td>\n",
       "      <td>0.59</td>\n",
       "      <td>85.78</td>\n",
       "      <td>8.44</td>\n",
       "      <td>-8.34</td>\n",
       "      <td>-0.01</td>\n",
       "      <td>0.02</td>\n",
       "      <td>-0.00</td>\n",
       "      <td>3.80</td>\n",
       "      <td>-0.92</td>\n",
       "      <td>2.29</td>\n",
       "      <td>-2.59</td>\n",
       "      <td>-0.16</td>\n",
       "      <td>-0.14</td>\n",
       "      <td>0.97</td>\n",
       "      <td>7</td>\n",
       "    </tr>\n",
       "    <tr>\n",
       "      <th>8</th>\n",
       "      <td>0.184940</td>\n",
       "      <td>0.0</td>\n",
       "      <td>0.122</td>\n",
       "      <td>0.16</td>\n",
       "      <td>0.02</td>\n",
       "      <td>0.98</td>\n",
       "      <td>179.09</td>\n",
       "      <td>-17.74</td>\n",
       "      <td>4.57</td>\n",
       "      <td>0.10</td>\n",
       "      <td>0.01</td>\n",
       "      <td>-0.00</td>\n",
       "      <td>3.92</td>\n",
       "      <td>0.61</td>\n",
       "      <td>0.61</td>\n",
       "      <td>0.76</td>\n",
       "      <td>0.21</td>\n",
       "      <td>0.06</td>\n",
       "      <td>0.98</td>\n",
       "      <td>7</td>\n",
       "    </tr>\n",
       "    <tr>\n",
       "      <th>9</th>\n",
       "      <td>0.186950</td>\n",
       "      <td>6.0</td>\n",
       "      <td>-0.989</td>\n",
       "      <td>0.01</td>\n",
       "      <td>0.14</td>\n",
       "      <td>0.05</td>\n",
       "      <td>8.60</td>\n",
       "      <td>-16.40</td>\n",
       "      <td>-0.60</td>\n",
       "      <td>-0.06</td>\n",
       "      <td>0.00</td>\n",
       "      <td>-0.00</td>\n",
       "      <td>3.81</td>\n",
       "      <td>-0.15</td>\n",
       "      <td>0.15</td>\n",
       "      <td>-0.31</td>\n",
       "      <td>0.23</td>\n",
       "      <td>-0.01</td>\n",
       "      <td>0.97</td>\n",
       "      <td>7</td>\n",
       "    </tr>\n",
       "    <tr>\n",
       "      <th>10</th>\n",
       "      <td>0.243240</td>\n",
       "      <td>5.0</td>\n",
       "      <td>0.884</td>\n",
       "      <td>0.04</td>\n",
       "      <td>0.22</td>\n",
       "      <td>0.41</td>\n",
       "      <td>66.99</td>\n",
       "      <td>20.42</td>\n",
       "      <td>15.52</td>\n",
       "      <td>0.01</td>\n",
       "      <td>0.02</td>\n",
       "      <td>0.03</td>\n",
       "      <td>3.87</td>\n",
       "      <td>-0.31</td>\n",
       "      <td>0.00</td>\n",
       "      <td>-0.31</td>\n",
       "      <td>-0.37</td>\n",
       "      <td>0.24</td>\n",
       "      <td>0.94</td>\n",
       "      <td>7</td>\n",
       "    </tr>\n",
       "    <tr>\n",
       "      <th>11</th>\n",
       "      <td>0.244820</td>\n",
       "      <td>1.0</td>\n",
       "      <td>-0.086</td>\n",
       "      <td>-0.01</td>\n",
       "      <td>-0.00</td>\n",
       "      <td>-1.00</td>\n",
       "      <td>184.21</td>\n",
       "      <td>-1.00</td>\n",
       "      <td>0.37</td>\n",
       "      <td>0.02</td>\n",
       "      <td>0.00</td>\n",
       "      <td>-0.00</td>\n",
       "      <td>3.91</td>\n",
       "      <td>0.00</td>\n",
       "      <td>1.07</td>\n",
       "      <td>0.00</td>\n",
       "      <td>0.00</td>\n",
       "      <td>0.00</td>\n",
       "      <td>1.00</td>\n",
       "      <td>7</td>\n",
       "    </tr>\n",
       "    <tr>\n",
       "      <th>12</th>\n",
       "      <td>0.248400</td>\n",
       "      <td>4.0</td>\n",
       "      <td>0.939</td>\n",
       "      <td>-0.05</td>\n",
       "      <td>0.21</td>\n",
       "      <td>-0.27</td>\n",
       "      <td>339.72</td>\n",
       "      <td>21.74</td>\n",
       "      <td>-13.14</td>\n",
       "      <td>-0.04</td>\n",
       "      <td>-0.01</td>\n",
       "      <td>0.00</td>\n",
       "      <td>3.79</td>\n",
       "      <td>-0.31</td>\n",
       "      <td>-0.92</td>\n",
       "      <td>1.37</td>\n",
       "      <td>-0.40</td>\n",
       "      <td>-0.22</td>\n",
       "      <td>0.89</td>\n",
       "      <td>7</td>\n",
       "    </tr>\n",
       "    <tr>\n",
       "      <th>13</th>\n",
       "      <td>0.250260</td>\n",
       "      <td>7.0</td>\n",
       "      <td>0.982</td>\n",
       "      <td>0.07</td>\n",
       "      <td>-0.10</td>\n",
       "      <td>0.14</td>\n",
       "      <td>29.49</td>\n",
       "      <td>-12.77</td>\n",
       "      <td>6.74</td>\n",
       "      <td>-0.06</td>\n",
       "      <td>0.01</td>\n",
       "      <td>-0.00</td>\n",
       "      <td>0.00</td>\n",
       "      <td>0.00</td>\n",
       "      <td>0.15</td>\n",
       "      <td>-0.31</td>\n",
       "      <td>0.16</td>\n",
       "      <td>0.12</td>\n",
       "      <td>0.98</td>\n",
       "      <td>7</td>\n",
       "    </tr>\n",
       "    <tr>\n",
       "      <th>14</th>\n",
       "      <td>0.267410</td>\n",
       "      <td>2.0</td>\n",
       "      <td>0.851</td>\n",
       "      <td>0.05</td>\n",
       "      <td>0.03</td>\n",
       "      <td>-0.52</td>\n",
       "      <td>311.02</td>\n",
       "      <td>5.53</td>\n",
       "      <td>3.11</td>\n",
       "      <td>-0.04</td>\n",
       "      <td>-0.02</td>\n",
       "      <td>-0.01</td>\n",
       "      <td>3.95</td>\n",
       "      <td>-1.68</td>\n",
       "      <td>0.00</td>\n",
       "      <td>7.93</td>\n",
       "      <td>-0.13</td>\n",
       "      <td>0.04</td>\n",
       "      <td>0.98</td>\n",
       "      <td>7</td>\n",
       "    </tr>\n",
       "    <tr>\n",
       "      <th>15</th>\n",
       "      <td>0.269510</td>\n",
       "      <td>3.0</td>\n",
       "      <td>0.804</td>\n",
       "      <td>-0.10</td>\n",
       "      <td>0.02</td>\n",
       "      <td>0.59</td>\n",
       "      <td>85.60</td>\n",
       "      <td>8.58</td>\n",
       "      <td>-8.31</td>\n",
       "      <td>-0.01</td>\n",
       "      <td>0.01</td>\n",
       "      <td>0.00</td>\n",
       "      <td>3.80</td>\n",
       "      <td>1.83</td>\n",
       "      <td>1.37</td>\n",
       "      <td>0.46</td>\n",
       "      <td>-0.17</td>\n",
       "      <td>-0.13</td>\n",
       "      <td>0.98</td>\n",
       "      <td>7</td>\n",
       "    </tr>\n",
       "    <tr>\n",
       "      <th>16</th>\n",
       "      <td>0.284870</td>\n",
       "      <td>0.0</td>\n",
       "      <td>0.121</td>\n",
       "      <td>0.16</td>\n",
       "      <td>0.02</td>\n",
       "      <td>0.98</td>\n",
       "      <td>179.27</td>\n",
       "      <td>-17.60</td>\n",
       "      <td>4.66</td>\n",
       "      <td>0.10</td>\n",
       "      <td>-0.00</td>\n",
       "      <td>0.00</td>\n",
       "      <td>3.92</td>\n",
       "      <td>1.07</td>\n",
       "      <td>2.75</td>\n",
       "      <td>0.00</td>\n",
       "      <td>0.21</td>\n",
       "      <td>0.05</td>\n",
       "      <td>0.98</td>\n",
       "      <td>7</td>\n",
       "    </tr>\n",
       "    <tr>\n",
       "      <th>17</th>\n",
       "      <td>0.286520</td>\n",
       "      <td>6.0</td>\n",
       "      <td>-0.989</td>\n",
       "      <td>0.01</td>\n",
       "      <td>0.14</td>\n",
       "      <td>0.05</td>\n",
       "      <td>8.60</td>\n",
       "      <td>-16.24</td>\n",
       "      <td>-0.64</td>\n",
       "      <td>-0.06</td>\n",
       "      <td>0.00</td>\n",
       "      <td>0.00</td>\n",
       "      <td>3.81</td>\n",
       "      <td>0.00</td>\n",
       "      <td>0.46</td>\n",
       "      <td>0.46</td>\n",
       "      <td>0.23</td>\n",
       "      <td>-0.02</td>\n",
       "      <td>0.98</td>\n",
       "      <td>7</td>\n",
       "    </tr>\n",
       "    <tr>\n",
       "      <th>18</th>\n",
       "      <td>0.344230</td>\n",
       "      <td>5.0</td>\n",
       "      <td>0.884</td>\n",
       "      <td>0.04</td>\n",
       "      <td>0.22</td>\n",
       "      <td>0.41</td>\n",
       "      <td>66.85</td>\n",
       "      <td>20.52</td>\n",
       "      <td>15.35</td>\n",
       "      <td>0.01</td>\n",
       "      <td>0.00</td>\n",
       "      <td>0.01</td>\n",
       "      <td>3.87</td>\n",
       "      <td>-1.37</td>\n",
       "      <td>0.31</td>\n",
       "      <td>-3.20</td>\n",
       "      <td>-0.35</td>\n",
       "      <td>0.24</td>\n",
       "      <td>0.91</td>\n",
       "      <td>7</td>\n",
       "    </tr>\n",
       "    <tr>\n",
       "      <th>19</th>\n",
       "      <td>0.345870</td>\n",
       "      <td>1.0</td>\n",
       "      <td>-0.085</td>\n",
       "      <td>-0.01</td>\n",
       "      <td>-0.00</td>\n",
       "      <td>-1.00</td>\n",
       "      <td>184.29</td>\n",
       "      <td>-1.00</td>\n",
       "      <td>0.37</td>\n",
       "      <td>0.02</td>\n",
       "      <td>-0.00</td>\n",
       "      <td>0.00</td>\n",
       "      <td>3.91</td>\n",
       "      <td>0.00</td>\n",
       "      <td>-1.22</td>\n",
       "      <td>0.92</td>\n",
       "      <td>0.00</td>\n",
       "      <td>0.00</td>\n",
       "      <td>1.00</td>\n",
       "      <td>7</td>\n",
       "    </tr>\n",
       "    <tr>\n",
       "      <th>20</th>\n",
       "      <td>0.349700</td>\n",
       "      <td>4.0</td>\n",
       "      <td>0.938</td>\n",
       "      <td>-0.05</td>\n",
       "      <td>0.21</td>\n",
       "      <td>-0.27</td>\n",
       "      <td>339.69</td>\n",
       "      <td>21.75</td>\n",
       "      <td>-13.36</td>\n",
       "      <td>-0.04</td>\n",
       "      <td>0.00</td>\n",
       "      <td>0.01</td>\n",
       "      <td>3.79</td>\n",
       "      <td>-0.76</td>\n",
       "      <td>0.00</td>\n",
       "      <td>0.31</td>\n",
       "      <td>-0.40</td>\n",
       "      <td>-0.24</td>\n",
       "      <td>0.89</td>\n",
       "      <td>7</td>\n",
       "    </tr>\n",
       "    <tr>\n",
       "      <th>21</th>\n",
       "      <td>0.351960</td>\n",
       "      <td>7.0</td>\n",
       "      <td>0.982</td>\n",
       "      <td>0.07</td>\n",
       "      <td>-0.10</td>\n",
       "      <td>0.14</td>\n",
       "      <td>29.47</td>\n",
       "      <td>-12.69</td>\n",
       "      <td>6.78</td>\n",
       "      <td>-0.04</td>\n",
       "      <td>0.00</td>\n",
       "      <td>-0.00</td>\n",
       "      <td>0.00</td>\n",
       "      <td>0.15</td>\n",
       "      <td>0.00</td>\n",
       "      <td>0.92</td>\n",
       "      <td>0.19</td>\n",
       "      <td>0.12</td>\n",
       "      <td>0.97</td>\n",
       "      <td>7</td>\n",
       "    </tr>\n",
       "    <tr>\n",
       "      <th>22</th>\n",
       "      <td>0.370240</td>\n",
       "      <td>2.0</td>\n",
       "      <td>0.852</td>\n",
       "      <td>0.05</td>\n",
       "      <td>0.03</td>\n",
       "      <td>-0.52</td>\n",
       "      <td>311.30</td>\n",
       "      <td>5.52</td>\n",
       "      <td>3.12</td>\n",
       "      <td>-0.05</td>\n",
       "      <td>-0.02</td>\n",
       "      <td>0.01</td>\n",
       "      <td>3.95</td>\n",
       "      <td>-1.53</td>\n",
       "      <td>-0.31</td>\n",
       "      <td>2.14</td>\n",
       "      <td>-0.13</td>\n",
       "      <td>0.02</td>\n",
       "      <td>1.00</td>\n",
       "      <td>7</td>\n",
       "    </tr>\n",
       "    <tr>\n",
       "      <th>23</th>\n",
       "      <td>0.371880</td>\n",
       "      <td>3.0</td>\n",
       "      <td>0.803</td>\n",
       "      <td>-0.10</td>\n",
       "      <td>0.02</td>\n",
       "      <td>0.59</td>\n",
       "      <td>85.71</td>\n",
       "      <td>8.70</td>\n",
       "      <td>-8.32</td>\n",
       "      <td>-0.01</td>\n",
       "      <td>0.01</td>\n",
       "      <td>0.00</td>\n",
       "      <td>3.80</td>\n",
       "      <td>0.31</td>\n",
       "      <td>0.00</td>\n",
       "      <td>3.20</td>\n",
       "      <td>-0.16</td>\n",
       "      <td>-0.14</td>\n",
       "      <td>0.98</td>\n",
       "      <td>7</td>\n",
       "    </tr>\n",
       "    <tr>\n",
       "      <th>24</th>\n",
       "      <td>0.385270</td>\n",
       "      <td>0.0</td>\n",
       "      <td>0.120</td>\n",
       "      <td>0.16</td>\n",
       "      <td>0.02</td>\n",
       "      <td>0.98</td>\n",
       "      <td>179.35</td>\n",
       "      <td>-17.51</td>\n",
       "      <td>4.78</td>\n",
       "      <td>0.11</td>\n",
       "      <td>0.00</td>\n",
       "      <td>-0.01</td>\n",
       "      <td>3.92</td>\n",
       "      <td>0.76</td>\n",
       "      <td>0.00</td>\n",
       "      <td>0.61</td>\n",
       "      <td>0.20</td>\n",
       "      <td>0.05</td>\n",
       "      <td>0.98</td>\n",
       "      <td>7</td>\n",
       "    </tr>\n",
       "    <tr>\n",
       "      <th>25</th>\n",
       "      <td>0.387060</td>\n",
       "      <td>6.0</td>\n",
       "      <td>-0.989</td>\n",
       "      <td>0.01</td>\n",
       "      <td>0.14</td>\n",
       "      <td>0.05</td>\n",
       "      <td>8.70</td>\n",
       "      <td>-16.22</td>\n",
       "      <td>-0.67</td>\n",
       "      <td>-0.05</td>\n",
       "      <td>0.00</td>\n",
       "      <td>0.00</td>\n",
       "      <td>3.81</td>\n",
       "      <td>0.15</td>\n",
       "      <td>0.00</td>\n",
       "      <td>1.37</td>\n",
       "      <td>0.23</td>\n",
       "      <td>-0.02</td>\n",
       "      <td>0.97</td>\n",
       "      <td>7</td>\n",
       "    </tr>\n",
       "    <tr>\n",
       "      <th>26</th>\n",
       "      <td>0.442460</td>\n",
       "      <td>5.0</td>\n",
       "      <td>0.885</td>\n",
       "      <td>0.04</td>\n",
       "      <td>0.22</td>\n",
       "      <td>0.41</td>\n",
       "      <td>66.58</td>\n",
       "      <td>20.84</td>\n",
       "      <td>15.15</td>\n",
       "      <td>0.03</td>\n",
       "      <td>-0.01</td>\n",
       "      <td>0.01</td>\n",
       "      <td>3.87</td>\n",
       "      <td>-1.68</td>\n",
       "      <td>1.53</td>\n",
       "      <td>6.26</td>\n",
       "      <td>-0.33</td>\n",
       "      <td>0.25</td>\n",
       "      <td>0.92</td>\n",
       "      <td>7</td>\n",
       "    </tr>\n",
       "    <tr>\n",
       "      <th>27</th>\n",
       "      <td>0.444010</td>\n",
       "      <td>1.0</td>\n",
       "      <td>-0.084</td>\n",
       "      <td>-0.01</td>\n",
       "      <td>-0.00</td>\n",
       "      <td>-1.00</td>\n",
       "      <td>184.36</td>\n",
       "      <td>-1.17</td>\n",
       "      <td>0.34</td>\n",
       "      <td>0.01</td>\n",
       "      <td>-0.01</td>\n",
       "      <td>-0.00</td>\n",
       "      <td>3.91</td>\n",
       "      <td>0.31</td>\n",
       "      <td>-3.66</td>\n",
       "      <td>2.59</td>\n",
       "      <td>0.01</td>\n",
       "      <td>-0.00</td>\n",
       "      <td>1.00</td>\n",
       "      <td>7</td>\n",
       "    </tr>\n",
       "    <tr>\n",
       "      <th>28</th>\n",
       "      <td>0.449220</td>\n",
       "      <td>4.0</td>\n",
       "      <td>0.938</td>\n",
       "      <td>-0.05</td>\n",
       "      <td>0.21</td>\n",
       "      <td>-0.27</td>\n",
       "      <td>339.81</td>\n",
       "      <td>21.93</td>\n",
       "      <td>-13.32</td>\n",
       "      <td>-0.03</td>\n",
       "      <td>0.01</td>\n",
       "      <td>0.01</td>\n",
       "      <td>3.79</td>\n",
       "      <td>-0.46</td>\n",
       "      <td>1.83</td>\n",
       "      <td>4.58</td>\n",
       "      <td>-0.40</td>\n",
       "      <td>-0.24</td>\n",
       "      <td>0.90</td>\n",
       "      <td>7</td>\n",
       "    </tr>\n",
       "    <tr>\n",
       "      <th>29</th>\n",
       "      <td>0.451170</td>\n",
       "      <td>7.0</td>\n",
       "      <td>0.982</td>\n",
       "      <td>0.07</td>\n",
       "      <td>-0.10</td>\n",
       "      <td>0.14</td>\n",
       "      <td>29.51</td>\n",
       "      <td>-12.66</td>\n",
       "      <td>6.80</td>\n",
       "      <td>-0.05</td>\n",
       "      <td>0.00</td>\n",
       "      <td>-0.00</td>\n",
       "      <td>0.00</td>\n",
       "      <td>0.00</td>\n",
       "      <td>0.00</td>\n",
       "      <td>0.00</td>\n",
       "      <td>0.17</td>\n",
       "      <td>0.13</td>\n",
       "      <td>0.97</td>\n",
       "      <td>7</td>\n",
       "    </tr>\n",
       "    <tr>\n",
       "      <th>...</th>\n",
       "      <td>...</td>\n",
       "      <td>...</td>\n",
       "      <td>...</td>\n",
       "      <td>...</td>\n",
       "      <td>...</td>\n",
       "      <td>...</td>\n",
       "      <td>...</td>\n",
       "      <td>...</td>\n",
       "      <td>...</td>\n",
       "      <td>...</td>\n",
       "      <td>...</td>\n",
       "      <td>...</td>\n",
       "      <td>...</td>\n",
       "      <td>...</td>\n",
       "      <td>...</td>\n",
       "      <td>...</td>\n",
       "      <td>...</td>\n",
       "      <td>...</td>\n",
       "      <td>...</td>\n",
       "      <td>...</td>\n",
       "    </tr>\n",
       "    <tr>\n",
       "      <th>5726</th>\n",
       "      <td>72.839000</td>\n",
       "      <td>0.0</td>\n",
       "      <td>-0.250</td>\n",
       "      <td>-0.03</td>\n",
       "      <td>0.02</td>\n",
       "      <td>-0.97</td>\n",
       "      <td>165.15</td>\n",
       "      <td>-3.76</td>\n",
       "      <td>-0.99</td>\n",
       "      <td>-0.11</td>\n",
       "      <td>0.00</td>\n",
       "      <td>0.00</td>\n",
       "      <td>3.94</td>\n",
       "      <td>0.00</td>\n",
       "      <td>0.92</td>\n",
       "      <td>-0.92</td>\n",
       "      <td>0.17</td>\n",
       "      <td>0.04</td>\n",
       "      <td>0.99</td>\n",
       "      <td>8</td>\n",
       "    </tr>\n",
       "    <tr>\n",
       "      <th>5727</th>\n",
       "      <td>72.840000</td>\n",
       "      <td>2.0</td>\n",
       "      <td>-0.772</td>\n",
       "      <td>-0.39</td>\n",
       "      <td>-0.04</td>\n",
       "      <td>0.50</td>\n",
       "      <td>317.62</td>\n",
       "      <td>26.76</td>\n",
       "      <td>38.77</td>\n",
       "      <td>0.05</td>\n",
       "      <td>0.02</td>\n",
       "      <td>0.02</td>\n",
       "      <td>3.96</td>\n",
       "      <td>99.49</td>\n",
       "      <td>36.01</td>\n",
       "      <td>29.91</td>\n",
       "      <td>-0.42</td>\n",
       "      <td>0.61</td>\n",
       "      <td>0.70</td>\n",
       "      <td>8</td>\n",
       "    </tr>\n",
       "    <tr>\n",
       "      <th>5728</th>\n",
       "      <td>72.902000</td>\n",
       "      <td>7.0</td>\n",
       "      <td>-0.941</td>\n",
       "      <td>-0.02</td>\n",
       "      <td>0.15</td>\n",
       "      <td>-0.30</td>\n",
       "      <td>50.39</td>\n",
       "      <td>-16.97</td>\n",
       "      <td>-3.32</td>\n",
       "      <td>0.05</td>\n",
       "      <td>-0.01</td>\n",
       "      <td>-0.00</td>\n",
       "      <td>0.00</td>\n",
       "      <td>-0.61</td>\n",
       "      <td>0.00</td>\n",
       "      <td>-0.61</td>\n",
       "      <td>0.33</td>\n",
       "      <td>-0.08</td>\n",
       "      <td>0.94</td>\n",
       "      <td>8</td>\n",
       "    </tr>\n",
       "    <tr>\n",
       "      <th>5729</th>\n",
       "      <td>72.904000</td>\n",
       "      <td>4.0</td>\n",
       "      <td>-0.919</td>\n",
       "      <td>0.18</td>\n",
       "      <td>-0.12</td>\n",
       "      <td>0.33</td>\n",
       "      <td>333.16</td>\n",
       "      <td>6.19</td>\n",
       "      <td>-24.39</td>\n",
       "      <td>-0.37</td>\n",
       "      <td>0.02</td>\n",
       "      <td>0.25</td>\n",
       "      <td>3.81</td>\n",
       "      <td>-17.24</td>\n",
       "      <td>-33.11</td>\n",
       "      <td>34.03</td>\n",
       "      <td>-0.47</td>\n",
       "      <td>-0.73</td>\n",
       "      <td>1.01</td>\n",
       "      <td>8</td>\n",
       "    </tr>\n",
       "    <tr>\n",
       "      <th>5730</th>\n",
       "      <td>72.908000</td>\n",
       "      <td>5.0</td>\n",
       "      <td>0.926</td>\n",
       "      <td>0.10</td>\n",
       "      <td>0.10</td>\n",
       "      <td>0.35</td>\n",
       "      <td>56.38</td>\n",
       "      <td>6.28</td>\n",
       "      <td>14.46</td>\n",
       "      <td>-0.02</td>\n",
       "      <td>0.01</td>\n",
       "      <td>0.01</td>\n",
       "      <td>4.07</td>\n",
       "      <td>4.12</td>\n",
       "      <td>0.46</td>\n",
       "      <td>5.04</td>\n",
       "      <td>-0.13</td>\n",
       "      <td>0.27</td>\n",
       "      <td>0.97</td>\n",
       "      <td>8</td>\n",
       "    </tr>\n",
       "    <tr>\n",
       "      <th>5731</th>\n",
       "      <td>72.910000</td>\n",
       "      <td>6.0</td>\n",
       "      <td>0.960</td>\n",
       "      <td>-0.08</td>\n",
       "      <td>-0.11</td>\n",
       "      <td>-0.25</td>\n",
       "      <td>346.03</td>\n",
       "      <td>-14.04</td>\n",
       "      <td>-6.23</td>\n",
       "      <td>-0.01</td>\n",
       "      <td>0.01</td>\n",
       "      <td>0.01</td>\n",
       "      <td>3.83</td>\n",
       "      <td>0.00</td>\n",
       "      <td>-1.37</td>\n",
       "      <td>1.37</td>\n",
       "      <td>0.24</td>\n",
       "      <td>-0.12</td>\n",
       "      <td>0.98</td>\n",
       "      <td>8</td>\n",
       "    </tr>\n",
       "    <tr>\n",
       "      <th>5732</th>\n",
       "      <td>72.951000</td>\n",
       "      <td>1.0</td>\n",
       "      <td>-0.065</td>\n",
       "      <td>-0.02</td>\n",
       "      <td>-0.04</td>\n",
       "      <td>-1.00</td>\n",
       "      <td>186.52</td>\n",
       "      <td>-2.07</td>\n",
       "      <td>4.42</td>\n",
       "      <td>0.03</td>\n",
       "      <td>0.01</td>\n",
       "      <td>0.00</td>\n",
       "      <td>3.91</td>\n",
       "      <td>0.31</td>\n",
       "      <td>0.15</td>\n",
       "      <td>-1.37</td>\n",
       "      <td>0.01</td>\n",
       "      <td>0.08</td>\n",
       "      <td>1.00</td>\n",
       "      <td>8</td>\n",
       "    </tr>\n",
       "    <tr>\n",
       "      <th>5733</th>\n",
       "      <td>72.953000</td>\n",
       "      <td>3.0</td>\n",
       "      <td>-0.600</td>\n",
       "      <td>0.37</td>\n",
       "      <td>-0.17</td>\n",
       "      <td>-0.69</td>\n",
       "      <td>104.76</td>\n",
       "      <td>45.61</td>\n",
       "      <td>-16.91</td>\n",
       "      <td>-0.04</td>\n",
       "      <td>-0.05</td>\n",
       "      <td>-0.09</td>\n",
       "      <td>3.82</td>\n",
       "      <td>-31.74</td>\n",
       "      <td>62.56</td>\n",
       "      <td>-13.73</td>\n",
       "      <td>-0.61</td>\n",
       "      <td>-0.16</td>\n",
       "      <td>0.65</td>\n",
       "      <td>8</td>\n",
       "    </tr>\n",
       "    <tr>\n",
       "      <th>5734</th>\n",
       "      <td>72.957000</td>\n",
       "      <td>0.0</td>\n",
       "      <td>-0.250</td>\n",
       "      <td>-0.03</td>\n",
       "      <td>0.02</td>\n",
       "      <td>-0.97</td>\n",
       "      <td>165.05</td>\n",
       "      <td>-3.71</td>\n",
       "      <td>-0.96</td>\n",
       "      <td>-0.12</td>\n",
       "      <td>0.00</td>\n",
       "      <td>-0.01</td>\n",
       "      <td>3.94</td>\n",
       "      <td>0.15</td>\n",
       "      <td>3.05</td>\n",
       "      <td>-0.76</td>\n",
       "      <td>0.16</td>\n",
       "      <td>0.04</td>\n",
       "      <td>0.98</td>\n",
       "      <td>8</td>\n",
       "    </tr>\n",
       "    <tr>\n",
       "      <th>5735</th>\n",
       "      <td>72.959000</td>\n",
       "      <td>2.0</td>\n",
       "      <td>-0.735</td>\n",
       "      <td>-0.47</td>\n",
       "      <td>-0.02</td>\n",
       "      <td>0.49</td>\n",
       "      <td>320.19</td>\n",
       "      <td>29.06</td>\n",
       "      <td>49.70</td>\n",
       "      <td>-0.06</td>\n",
       "      <td>0.06</td>\n",
       "      <td>-0.07</td>\n",
       "      <td>3.96</td>\n",
       "      <td>66.38</td>\n",
       "      <td>27.92</td>\n",
       "      <td>-32.65</td>\n",
       "      <td>-0.44</td>\n",
       "      <td>0.55</td>\n",
       "      <td>0.59</td>\n",
       "      <td>8</td>\n",
       "    </tr>\n",
       "    <tr>\n",
       "      <th>5736</th>\n",
       "      <td>72.982000</td>\n",
       "      <td>7.0</td>\n",
       "      <td>-0.941</td>\n",
       "      <td>-0.02</td>\n",
       "      <td>0.15</td>\n",
       "      <td>-0.30</td>\n",
       "      <td>50.29</td>\n",
       "      <td>-16.98</td>\n",
       "      <td>-3.36</td>\n",
       "      <td>0.05</td>\n",
       "      <td>-0.00</td>\n",
       "      <td>-0.01</td>\n",
       "      <td>0.00</td>\n",
       "      <td>-1.22</td>\n",
       "      <td>0.61</td>\n",
       "      <td>-1.37</td>\n",
       "      <td>0.33</td>\n",
       "      <td>-0.08</td>\n",
       "      <td>0.94</td>\n",
       "      <td>8</td>\n",
       "    </tr>\n",
       "    <tr>\n",
       "      <th>5737</th>\n",
       "      <td>72.983000</td>\n",
       "      <td>4.0</td>\n",
       "      <td>-0.900</td>\n",
       "      <td>0.23</td>\n",
       "      <td>-0.13</td>\n",
       "      <td>0.35</td>\n",
       "      <td>330.94</td>\n",
       "      <td>3.92</td>\n",
       "      <td>-30.47</td>\n",
       "      <td>-0.01</td>\n",
       "      <td>0.09</td>\n",
       "      <td>-0.34</td>\n",
       "      <td>3.81</td>\n",
       "      <td>-81.48</td>\n",
       "      <td>-12.36</td>\n",
       "      <td>-78.43</td>\n",
       "      <td>-0.01</td>\n",
       "      <td>-0.37</td>\n",
       "      <td>0.54</td>\n",
       "      <td>8</td>\n",
       "    </tr>\n",
       "    <tr>\n",
       "      <th>5738</th>\n",
       "      <td>72.988000</td>\n",
       "      <td>5.0</td>\n",
       "      <td>0.927</td>\n",
       "      <td>0.10</td>\n",
       "      <td>0.10</td>\n",
       "      <td>0.35</td>\n",
       "      <td>55.98</td>\n",
       "      <td>6.35</td>\n",
       "      <td>14.99</td>\n",
       "      <td>0.00</td>\n",
       "      <td>0.03</td>\n",
       "      <td>-0.01</td>\n",
       "      <td>4.07</td>\n",
       "      <td>7.48</td>\n",
       "      <td>0.31</td>\n",
       "      <td>3.36</td>\n",
       "      <td>-0.13</td>\n",
       "      <td>0.23</td>\n",
       "      <td>0.96</td>\n",
       "      <td>8</td>\n",
       "    </tr>\n",
       "    <tr>\n",
       "      <th>5739</th>\n",
       "      <td>72.990000</td>\n",
       "      <td>6.0</td>\n",
       "      <td>0.960</td>\n",
       "      <td>-0.08</td>\n",
       "      <td>-0.11</td>\n",
       "      <td>-0.24</td>\n",
       "      <td>346.24</td>\n",
       "      <td>-14.05</td>\n",
       "      <td>-6.25</td>\n",
       "      <td>0.03</td>\n",
       "      <td>-0.01</td>\n",
       "      <td>0.01</td>\n",
       "      <td>3.83</td>\n",
       "      <td>-0.76</td>\n",
       "      <td>1.07</td>\n",
       "      <td>1.68</td>\n",
       "      <td>0.27</td>\n",
       "      <td>-0.08</td>\n",
       "      <td>0.97</td>\n",
       "      <td>8</td>\n",
       "    </tr>\n",
       "    <tr>\n",
       "      <th>5740</th>\n",
       "      <td>73.051000</td>\n",
       "      <td>1.0</td>\n",
       "      <td>-0.066</td>\n",
       "      <td>-0.02</td>\n",
       "      <td>-0.04</td>\n",
       "      <td>-1.00</td>\n",
       "      <td>186.38</td>\n",
       "      <td>-1.84</td>\n",
       "      <td>4.54</td>\n",
       "      <td>0.02</td>\n",
       "      <td>0.00</td>\n",
       "      <td>0.00</td>\n",
       "      <td>3.91</td>\n",
       "      <td>0.92</td>\n",
       "      <td>0.46</td>\n",
       "      <td>-2.59</td>\n",
       "      <td>0.01</td>\n",
       "      <td>0.08</td>\n",
       "      <td>1.00</td>\n",
       "      <td>8</td>\n",
       "    </tr>\n",
       "    <tr>\n",
       "      <th>5741</th>\n",
       "      <td>73.055000</td>\n",
       "      <td>3.0</td>\n",
       "      <td>-0.586</td>\n",
       "      <td>0.41</td>\n",
       "      <td>-0.17</td>\n",
       "      <td>-0.68</td>\n",
       "      <td>102.00</td>\n",
       "      <td>49.11</td>\n",
       "      <td>-22.34</td>\n",
       "      <td>0.03</td>\n",
       "      <td>-0.01</td>\n",
       "      <td>-0.14</td>\n",
       "      <td>3.82</td>\n",
       "      <td>-31.43</td>\n",
       "      <td>14.04</td>\n",
       "      <td>-19.23</td>\n",
       "      <td>-0.65</td>\n",
       "      <td>-0.27</td>\n",
       "      <td>0.52</td>\n",
       "      <td>8</td>\n",
       "    </tr>\n",
       "    <tr>\n",
       "      <th>5742</th>\n",
       "      <td>73.059000</td>\n",
       "      <td>0.0</td>\n",
       "      <td>-0.251</td>\n",
       "      <td>-0.03</td>\n",
       "      <td>0.01</td>\n",
       "      <td>-0.97</td>\n",
       "      <td>165.01</td>\n",
       "      <td>-3.43</td>\n",
       "      <td>-0.88</td>\n",
       "      <td>-0.12</td>\n",
       "      <td>0.02</td>\n",
       "      <td>0.03</td>\n",
       "      <td>3.94</td>\n",
       "      <td>-0.46</td>\n",
       "      <td>3.66</td>\n",
       "      <td>-0.92</td>\n",
       "      <td>0.16</td>\n",
       "      <td>0.05</td>\n",
       "      <td>1.01</td>\n",
       "      <td>8</td>\n",
       "    </tr>\n",
       "    <tr>\n",
       "      <th>5743</th>\n",
       "      <td>73.061000</td>\n",
       "      <td>2.0</td>\n",
       "      <td>-0.712</td>\n",
       "      <td>-0.51</td>\n",
       "      <td>-0.01</td>\n",
       "      <td>0.49</td>\n",
       "      <td>321.77</td>\n",
       "      <td>30.66</td>\n",
       "      <td>55.40</td>\n",
       "      <td>0.01</td>\n",
       "      <td>0.04</td>\n",
       "      <td>-0.17</td>\n",
       "      <td>3.96</td>\n",
       "      <td>9.61</td>\n",
       "      <td>1.98</td>\n",
       "      <td>23.50</td>\n",
       "      <td>-0.39</td>\n",
       "      <td>0.60</td>\n",
       "      <td>0.42</td>\n",
       "      <td>8</td>\n",
       "    </tr>\n",
       "    <tr>\n",
       "      <th>5744</th>\n",
       "      <td>73.082000</td>\n",
       "      <td>7.0</td>\n",
       "      <td>-0.941</td>\n",
       "      <td>-0.02</td>\n",
       "      <td>0.15</td>\n",
       "      <td>-0.30</td>\n",
       "      <td>50.22</td>\n",
       "      <td>-17.03</td>\n",
       "      <td>-3.51</td>\n",
       "      <td>0.05</td>\n",
       "      <td>-0.00</td>\n",
       "      <td>-0.01</td>\n",
       "      <td>0.00</td>\n",
       "      <td>-2.14</td>\n",
       "      <td>-0.15</td>\n",
       "      <td>-2.75</td>\n",
       "      <td>0.33</td>\n",
       "      <td>-0.08</td>\n",
       "      <td>0.93</td>\n",
       "      <td>8</td>\n",
       "    </tr>\n",
       "    <tr>\n",
       "      <th>5745</th>\n",
       "      <td>73.083000</td>\n",
       "      <td>4.0</td>\n",
       "      <td>-0.844</td>\n",
       "      <td>0.30</td>\n",
       "      <td>-0.12</td>\n",
       "      <td>0.43</td>\n",
       "      <td>321.26</td>\n",
       "      <td>-3.36</td>\n",
       "      <td>-37.43</td>\n",
       "      <td>-0.25</td>\n",
       "      <td>-0.10</td>\n",
       "      <td>-0.16</td>\n",
       "      <td>3.81</td>\n",
       "      <td>-28.84</td>\n",
       "      <td>1.22</td>\n",
       "      <td>-7.48</td>\n",
       "      <td>-0.18</td>\n",
       "      <td>-0.51</td>\n",
       "      <td>0.62</td>\n",
       "      <td>8</td>\n",
       "    </tr>\n",
       "    <tr>\n",
       "      <th>5746</th>\n",
       "      <td>73.087000</td>\n",
       "      <td>5.0</td>\n",
       "      <td>0.927</td>\n",
       "      <td>0.11</td>\n",
       "      <td>0.10</td>\n",
       "      <td>0.34</td>\n",
       "      <td>55.59</td>\n",
       "      <td>6.28</td>\n",
       "      <td>15.92</td>\n",
       "      <td>-0.01</td>\n",
       "      <td>0.01</td>\n",
       "      <td>0.18</td>\n",
       "      <td>4.07</td>\n",
       "      <td>25.48</td>\n",
       "      <td>-10.53</td>\n",
       "      <td>-37.54</td>\n",
       "      <td>-0.15</td>\n",
       "      <td>0.32</td>\n",
       "      <td>1.14</td>\n",
       "      <td>8</td>\n",
       "    </tr>\n",
       "    <tr>\n",
       "      <th>5747</th>\n",
       "      <td>73.089000</td>\n",
       "      <td>6.0</td>\n",
       "      <td>0.960</td>\n",
       "      <td>-0.08</td>\n",
       "      <td>-0.11</td>\n",
       "      <td>-0.24</td>\n",
       "      <td>346.31</td>\n",
       "      <td>-14.14</td>\n",
       "      <td>-6.29</td>\n",
       "      <td>0.02</td>\n",
       "      <td>0.01</td>\n",
       "      <td>-0.02</td>\n",
       "      <td>3.83</td>\n",
       "      <td>-1.07</td>\n",
       "      <td>-1.53</td>\n",
       "      <td>1.37</td>\n",
       "      <td>0.26</td>\n",
       "      <td>-0.11</td>\n",
       "      <td>0.94</td>\n",
       "      <td>8</td>\n",
       "    </tr>\n",
       "    <tr>\n",
       "      <th>5748</th>\n",
       "      <td>73.153000</td>\n",
       "      <td>1.0</td>\n",
       "      <td>-0.068</td>\n",
       "      <td>-0.02</td>\n",
       "      <td>-0.04</td>\n",
       "      <td>-1.00</td>\n",
       "      <td>186.14</td>\n",
       "      <td>-1.70</td>\n",
       "      <td>4.63</td>\n",
       "      <td>0.00</td>\n",
       "      <td>-0.00</td>\n",
       "      <td>0.02</td>\n",
       "      <td>3.91</td>\n",
       "      <td>0.76</td>\n",
       "      <td>2.44</td>\n",
       "      <td>-3.36</td>\n",
       "      <td>0.03</td>\n",
       "      <td>0.08</td>\n",
       "      <td>1.01</td>\n",
       "      <td>8</td>\n",
       "    </tr>\n",
       "    <tr>\n",
       "      <th>5749</th>\n",
       "      <td>73.155000</td>\n",
       "      <td>3.0</td>\n",
       "      <td>-0.576</td>\n",
       "      <td>0.43</td>\n",
       "      <td>-0.15</td>\n",
       "      <td>-0.68</td>\n",
       "      <td>101.65</td>\n",
       "      <td>49.07</td>\n",
       "      <td>-25.63</td>\n",
       "      <td>-0.04</td>\n",
       "      <td>0.08</td>\n",
       "      <td>-0.00</td>\n",
       "      <td>3.82</td>\n",
       "      <td>-13.58</td>\n",
       "      <td>-3.05</td>\n",
       "      <td>-0.46</td>\n",
       "      <td>-0.82</td>\n",
       "      <td>-0.24</td>\n",
       "      <td>0.56</td>\n",
       "      <td>8</td>\n",
       "    </tr>\n",
       "    <tr>\n",
       "      <th>5750</th>\n",
       "      <td>73.159000</td>\n",
       "      <td>0.0</td>\n",
       "      <td>-0.251</td>\n",
       "      <td>-0.02</td>\n",
       "      <td>0.01</td>\n",
       "      <td>-0.97</td>\n",
       "      <td>164.95</td>\n",
       "      <td>-2.95</td>\n",
       "      <td>-0.84</td>\n",
       "      <td>-0.13</td>\n",
       "      <td>-0.03</td>\n",
       "      <td>-0.03</td>\n",
       "      <td>3.94</td>\n",
       "      <td>-0.46</td>\n",
       "      <td>3.66</td>\n",
       "      <td>3.81</td>\n",
       "      <td>0.18</td>\n",
       "      <td>0.04</td>\n",
       "      <td>0.95</td>\n",
       "      <td>8</td>\n",
       "    </tr>\n",
       "    <tr>\n",
       "      <th>5751</th>\n",
       "      <td>73.161000</td>\n",
       "      <td>2.0</td>\n",
       "      <td>-0.712</td>\n",
       "      <td>-0.51</td>\n",
       "      <td>0.01</td>\n",
       "      <td>0.48</td>\n",
       "      <td>321.36</td>\n",
       "      <td>28.74</td>\n",
       "      <td>56.53</td>\n",
       "      <td>-0.11</td>\n",
       "      <td>-0.05</td>\n",
       "      <td>0.04</td>\n",
       "      <td>3.96</td>\n",
       "      <td>-8.09</td>\n",
       "      <td>-9.16</td>\n",
       "      <td>16.02</td>\n",
       "      <td>-0.61</td>\n",
       "      <td>0.71</td>\n",
       "      <td>0.53</td>\n",
       "      <td>8</td>\n",
       "    </tr>\n",
       "    <tr>\n",
       "      <th>5752</th>\n",
       "      <td>73.202000</td>\n",
       "      <td>7.0</td>\n",
       "      <td>-0.942</td>\n",
       "      <td>-0.02</td>\n",
       "      <td>0.15</td>\n",
       "      <td>-0.30</td>\n",
       "      <td>49.90</td>\n",
       "      <td>-17.04</td>\n",
       "      <td>-3.54</td>\n",
       "      <td>0.03</td>\n",
       "      <td>-0.01</td>\n",
       "      <td>-0.00</td>\n",
       "      <td>0.00</td>\n",
       "      <td>-1.07</td>\n",
       "      <td>0.15</td>\n",
       "      <td>-1.83</td>\n",
       "      <td>0.32</td>\n",
       "      <td>-0.07</td>\n",
       "      <td>0.94</td>\n",
       "      <td>8</td>\n",
       "    </tr>\n",
       "    <tr>\n",
       "      <th>5753</th>\n",
       "      <td>73.204000</td>\n",
       "      <td>4.0</td>\n",
       "      <td>-0.824</td>\n",
       "      <td>0.30</td>\n",
       "      <td>-0.10</td>\n",
       "      <td>0.47</td>\n",
       "      <td>316.80</td>\n",
       "      <td>-6.82</td>\n",
       "      <td>-36.18</td>\n",
       "      <td>-0.04</td>\n",
       "      <td>0.06</td>\n",
       "      <td>0.19</td>\n",
       "      <td>3.81</td>\n",
       "      <td>20.75</td>\n",
       "      <td>-6.10</td>\n",
       "      <td>-125.12</td>\n",
       "      <td>0.14</td>\n",
       "      <td>-0.77</td>\n",
       "      <td>0.92</td>\n",
       "      <td>8</td>\n",
       "    </tr>\n",
       "    <tr>\n",
       "      <th>5754</th>\n",
       "      <td>73.208000</td>\n",
       "      <td>5.0</td>\n",
       "      <td>0.939</td>\n",
       "      <td>0.15</td>\n",
       "      <td>0.11</td>\n",
       "      <td>0.29</td>\n",
       "      <td>49.22</td>\n",
       "      <td>6.96</td>\n",
       "      <td>20.66</td>\n",
       "      <td>0.10</td>\n",
       "      <td>0.25</td>\n",
       "      <td>0.24</td>\n",
       "      <td>4.07</td>\n",
       "      <td>77.36</td>\n",
       "      <td>-8.70</td>\n",
       "      <td>-54.17</td>\n",
       "      <td>-0.20</td>\n",
       "      <td>0.18</td>\n",
       "      <td>1.25</td>\n",
       "      <td>8</td>\n",
       "    </tr>\n",
       "    <tr>\n",
       "      <th>5755</th>\n",
       "      <td>73.210000</td>\n",
       "      <td>6.0</td>\n",
       "      <td>0.961</td>\n",
       "      <td>-0.08</td>\n",
       "      <td>-0.11</td>\n",
       "      <td>-0.24</td>\n",
       "      <td>346.58</td>\n",
       "      <td>-14.42</td>\n",
       "      <td>-6.46</td>\n",
       "      <td>-0.01</td>\n",
       "      <td>0.03</td>\n",
       "      <td>0.02</td>\n",
       "      <td>3.83</td>\n",
       "      <td>0.61</td>\n",
       "      <td>-3.81</td>\n",
       "      <td>2.75</td>\n",
       "      <td>0.24</td>\n",
       "      <td>-0.15</td>\n",
       "      <td>0.99</td>\n",
       "      <td>8</td>\n",
       "    </tr>\n",
       "  </tbody>\n",
       "</table>\n",
       "<p>4648486 rows × 20 columns</p>\n",
       "</div>"
      ],
      "text/plain": [
       "        TimeSec  Sensor  Quatx  Quaty  Quatz  Quat0  Heading  Pitch   Roll  \\\n",
       "0      0.084153     0.0  0.123   0.16   0.02   0.98   179.07 -17.82   4.61   \n",
       "1      0.085894     6.0 -0.989   0.01   0.14   0.05     8.60 -16.39  -0.61   \n",
       "2      0.141330     5.0  0.883   0.04   0.22   0.41    67.19  20.47  15.59   \n",
       "3      0.143030     1.0 -0.085  -0.01  -0.00  -1.00   184.33  -1.08   0.42   \n",
       "4      0.146700     4.0  0.939  -0.05   0.21  -0.27   340.02  21.90 -12.92   \n",
       "5      0.148200     7.0  0.982   0.07  -0.10   0.14    29.52 -12.75   6.73   \n",
       "6      0.173360     2.0  0.848   0.05   0.03  -0.53   310.46   5.53   3.27   \n",
       "7      0.174930     3.0  0.803  -0.10   0.02   0.59    85.78   8.44  -8.34   \n",
       "8      0.184940     0.0  0.122   0.16   0.02   0.98   179.09 -17.74   4.57   \n",
       "9      0.186950     6.0 -0.989   0.01   0.14   0.05     8.60 -16.40  -0.60   \n",
       "10     0.243240     5.0  0.884   0.04   0.22   0.41    66.99  20.42  15.52   \n",
       "11     0.244820     1.0 -0.086  -0.01  -0.00  -1.00   184.21  -1.00   0.37   \n",
       "12     0.248400     4.0  0.939  -0.05   0.21  -0.27   339.72  21.74 -13.14   \n",
       "13     0.250260     7.0  0.982   0.07  -0.10   0.14    29.49 -12.77   6.74   \n",
       "14     0.267410     2.0  0.851   0.05   0.03  -0.52   311.02   5.53   3.11   \n",
       "15     0.269510     3.0  0.804  -0.10   0.02   0.59    85.60   8.58  -8.31   \n",
       "16     0.284870     0.0  0.121   0.16   0.02   0.98   179.27 -17.60   4.66   \n",
       "17     0.286520     6.0 -0.989   0.01   0.14   0.05     8.60 -16.24  -0.64   \n",
       "18     0.344230     5.0  0.884   0.04   0.22   0.41    66.85  20.52  15.35   \n",
       "19     0.345870     1.0 -0.085  -0.01  -0.00  -1.00   184.29  -1.00   0.37   \n",
       "20     0.349700     4.0  0.938  -0.05   0.21  -0.27   339.69  21.75 -13.36   \n",
       "21     0.351960     7.0  0.982   0.07  -0.10   0.14    29.47 -12.69   6.78   \n",
       "22     0.370240     2.0  0.852   0.05   0.03  -0.52   311.30   5.52   3.12   \n",
       "23     0.371880     3.0  0.803  -0.10   0.02   0.59    85.71   8.70  -8.32   \n",
       "24     0.385270     0.0  0.120   0.16   0.02   0.98   179.35 -17.51   4.78   \n",
       "25     0.387060     6.0 -0.989   0.01   0.14   0.05     8.70 -16.22  -0.67   \n",
       "26     0.442460     5.0  0.885   0.04   0.22   0.41    66.58  20.84  15.15   \n",
       "27     0.444010     1.0 -0.084  -0.01  -0.00  -1.00   184.36  -1.17   0.34   \n",
       "28     0.449220     4.0  0.938  -0.05   0.21  -0.27   339.81  21.93 -13.32   \n",
       "29     0.451170     7.0  0.982   0.07  -0.10   0.14    29.51 -12.66   6.80   \n",
       "...         ...     ...    ...    ...    ...    ...      ...    ...    ...   \n",
       "5726  72.839000     0.0 -0.250  -0.03   0.02  -0.97   165.15  -3.76  -0.99   \n",
       "5727  72.840000     2.0 -0.772  -0.39  -0.04   0.50   317.62  26.76  38.77   \n",
       "5728  72.902000     7.0 -0.941  -0.02   0.15  -0.30    50.39 -16.97  -3.32   \n",
       "5729  72.904000     4.0 -0.919   0.18  -0.12   0.33   333.16   6.19 -24.39   \n",
       "5730  72.908000     5.0  0.926   0.10   0.10   0.35    56.38   6.28  14.46   \n",
       "5731  72.910000     6.0  0.960  -0.08  -0.11  -0.25   346.03 -14.04  -6.23   \n",
       "5732  72.951000     1.0 -0.065  -0.02  -0.04  -1.00   186.52  -2.07   4.42   \n",
       "5733  72.953000     3.0 -0.600   0.37  -0.17  -0.69   104.76  45.61 -16.91   \n",
       "5734  72.957000     0.0 -0.250  -0.03   0.02  -0.97   165.05  -3.71  -0.96   \n",
       "5735  72.959000     2.0 -0.735  -0.47  -0.02   0.49   320.19  29.06  49.70   \n",
       "5736  72.982000     7.0 -0.941  -0.02   0.15  -0.30    50.29 -16.98  -3.36   \n",
       "5737  72.983000     4.0 -0.900   0.23  -0.13   0.35   330.94   3.92 -30.47   \n",
       "5738  72.988000     5.0  0.927   0.10   0.10   0.35    55.98   6.35  14.99   \n",
       "5739  72.990000     6.0  0.960  -0.08  -0.11  -0.24   346.24 -14.05  -6.25   \n",
       "5740  73.051000     1.0 -0.066  -0.02  -0.04  -1.00   186.38  -1.84   4.54   \n",
       "5741  73.055000     3.0 -0.586   0.41  -0.17  -0.68   102.00  49.11 -22.34   \n",
       "5742  73.059000     0.0 -0.251  -0.03   0.01  -0.97   165.01  -3.43  -0.88   \n",
       "5743  73.061000     2.0 -0.712  -0.51  -0.01   0.49   321.77  30.66  55.40   \n",
       "5744  73.082000     7.0 -0.941  -0.02   0.15  -0.30    50.22 -17.03  -3.51   \n",
       "5745  73.083000     4.0 -0.844   0.30  -0.12   0.43   321.26  -3.36 -37.43   \n",
       "5746  73.087000     5.0  0.927   0.11   0.10   0.34    55.59   6.28  15.92   \n",
       "5747  73.089000     6.0  0.960  -0.08  -0.11  -0.24   346.31 -14.14  -6.29   \n",
       "5748  73.153000     1.0 -0.068  -0.02  -0.04  -1.00   186.14  -1.70   4.63   \n",
       "5749  73.155000     3.0 -0.576   0.43  -0.15  -0.68   101.65  49.07 -25.63   \n",
       "5750  73.159000     0.0 -0.251  -0.02   0.01  -0.97   164.95  -2.95  -0.84   \n",
       "5751  73.161000     2.0 -0.712  -0.51   0.01   0.48   321.36  28.74  56.53   \n",
       "5752  73.202000     7.0 -0.942  -0.02   0.15  -0.30    49.90 -17.04  -3.54   \n",
       "5753  73.204000     4.0 -0.824   0.30  -0.10   0.47   316.80  -6.82 -36.18   \n",
       "5754  73.208000     5.0  0.939   0.15   0.11   0.29    49.22   6.96  20.66   \n",
       "5755  73.210000     6.0  0.961  -0.08  -0.11  -0.24   346.58 -14.42  -6.46   \n",
       "\n",
       "      LinAccx  LinAccy  LinAccz  Vbat   Accx   Accy    Accz  Gyrox  Gyroy  \\\n",
       "0        0.10    -0.00    -0.00  3.92   0.15  -0.61    0.00   0.21   0.05   \n",
       "1       -0.04     0.00    -0.00  3.81   0.15   0.00   -0.15   0.25  -0.02   \n",
       "2        0.01     0.00     0.02  3.87   0.00  -1.68   -2.29  -0.34   0.25   \n",
       "3        0.02    -0.01    -0.00  3.91   0.31   0.00   -0.15  -0.01  -0.01   \n",
       "4       -0.04    -0.00     0.01  3.79  -2.59   0.00   -2.14  -0.41  -0.23   \n",
       "5       -0.03     0.01    -0.01  0.00   0.00   0.31    0.61   0.18   0.12   \n",
       "6       -0.05    -0.02     0.00  3.95  -0.31  -1.07    0.76  -0.13   0.02   \n",
       "7       -0.01     0.02    -0.00  3.80  -0.92   2.29   -2.59  -0.16  -0.14   \n",
       "8        0.10     0.01    -0.00  3.92   0.61   0.61    0.76   0.21   0.06   \n",
       "9       -0.06     0.00    -0.00  3.81  -0.15   0.15   -0.31   0.23  -0.01   \n",
       "10       0.01     0.02     0.03  3.87  -0.31   0.00   -0.31  -0.37   0.24   \n",
       "11       0.02     0.00    -0.00  3.91   0.00   1.07    0.00   0.00   0.00   \n",
       "12      -0.04    -0.01     0.00  3.79  -0.31  -0.92    1.37  -0.40  -0.22   \n",
       "13      -0.06     0.01    -0.00  0.00   0.00   0.15   -0.31   0.16   0.12   \n",
       "14      -0.04    -0.02    -0.01  3.95  -1.68   0.00    7.93  -0.13   0.04   \n",
       "15      -0.01     0.01     0.00  3.80   1.83   1.37    0.46  -0.17  -0.13   \n",
       "16       0.10    -0.00     0.00  3.92   1.07   2.75    0.00   0.21   0.05   \n",
       "17      -0.06     0.00     0.00  3.81   0.00   0.46    0.46   0.23  -0.02   \n",
       "18       0.01     0.00     0.01  3.87  -1.37   0.31   -3.20  -0.35   0.24   \n",
       "19       0.02    -0.00     0.00  3.91   0.00  -1.22    0.92   0.00   0.00   \n",
       "20      -0.04     0.00     0.01  3.79  -0.76   0.00    0.31  -0.40  -0.24   \n",
       "21      -0.04     0.00    -0.00  0.00   0.15   0.00    0.92   0.19   0.12   \n",
       "22      -0.05    -0.02     0.01  3.95  -1.53  -0.31    2.14  -0.13   0.02   \n",
       "23      -0.01     0.01     0.00  3.80   0.31   0.00    3.20  -0.16  -0.14   \n",
       "24       0.11     0.00    -0.01  3.92   0.76   0.00    0.61   0.20   0.05   \n",
       "25      -0.05     0.00     0.00  3.81   0.15   0.00    1.37   0.23  -0.02   \n",
       "26       0.03    -0.01     0.01  3.87  -1.68   1.53    6.26  -0.33   0.25   \n",
       "27       0.01    -0.01    -0.00  3.91   0.31  -3.66    2.59   0.01  -0.00   \n",
       "28      -0.03     0.01     0.01  3.79  -0.46   1.83    4.58  -0.40  -0.24   \n",
       "29      -0.05     0.00    -0.00  0.00   0.00   0.00    0.00   0.17   0.13   \n",
       "...       ...      ...      ...   ...    ...    ...     ...    ...    ...   \n",
       "5726    -0.11     0.00     0.00  3.94   0.00   0.92   -0.92   0.17   0.04   \n",
       "5727     0.05     0.02     0.02  3.96  99.49  36.01   29.91  -0.42   0.61   \n",
       "5728     0.05    -0.01    -0.00  0.00  -0.61   0.00   -0.61   0.33  -0.08   \n",
       "5729    -0.37     0.02     0.25  3.81 -17.24 -33.11   34.03  -0.47  -0.73   \n",
       "5730    -0.02     0.01     0.01  4.07   4.12   0.46    5.04  -0.13   0.27   \n",
       "5731    -0.01     0.01     0.01  3.83   0.00  -1.37    1.37   0.24  -0.12   \n",
       "5732     0.03     0.01     0.00  3.91   0.31   0.15   -1.37   0.01   0.08   \n",
       "5733    -0.04    -0.05    -0.09  3.82 -31.74  62.56  -13.73  -0.61  -0.16   \n",
       "5734    -0.12     0.00    -0.01  3.94   0.15   3.05   -0.76   0.16   0.04   \n",
       "5735    -0.06     0.06    -0.07  3.96  66.38  27.92  -32.65  -0.44   0.55   \n",
       "5736     0.05    -0.00    -0.01  0.00  -1.22   0.61   -1.37   0.33  -0.08   \n",
       "5737    -0.01     0.09    -0.34  3.81 -81.48 -12.36  -78.43  -0.01  -0.37   \n",
       "5738     0.00     0.03    -0.01  4.07   7.48   0.31    3.36  -0.13   0.23   \n",
       "5739     0.03    -0.01     0.01  3.83  -0.76   1.07    1.68   0.27  -0.08   \n",
       "5740     0.02     0.00     0.00  3.91   0.92   0.46   -2.59   0.01   0.08   \n",
       "5741     0.03    -0.01    -0.14  3.82 -31.43  14.04  -19.23  -0.65  -0.27   \n",
       "5742    -0.12     0.02     0.03  3.94  -0.46   3.66   -0.92   0.16   0.05   \n",
       "5743     0.01     0.04    -0.17  3.96   9.61   1.98   23.50  -0.39   0.60   \n",
       "5744     0.05    -0.00    -0.01  0.00  -2.14  -0.15   -2.75   0.33  -0.08   \n",
       "5745    -0.25    -0.10    -0.16  3.81 -28.84   1.22   -7.48  -0.18  -0.51   \n",
       "5746    -0.01     0.01     0.18  4.07  25.48 -10.53  -37.54  -0.15   0.32   \n",
       "5747     0.02     0.01    -0.02  3.83  -1.07  -1.53    1.37   0.26  -0.11   \n",
       "5748     0.00    -0.00     0.02  3.91   0.76   2.44   -3.36   0.03   0.08   \n",
       "5749    -0.04     0.08    -0.00  3.82 -13.58  -3.05   -0.46  -0.82  -0.24   \n",
       "5750    -0.13    -0.03    -0.03  3.94  -0.46   3.66    3.81   0.18   0.04   \n",
       "5751    -0.11    -0.05     0.04  3.96  -8.09  -9.16   16.02  -0.61   0.71   \n",
       "5752     0.03    -0.01    -0.00  0.00  -1.07   0.15   -1.83   0.32  -0.07   \n",
       "5753    -0.04     0.06     0.19  3.81  20.75  -6.10 -125.12   0.14  -0.77   \n",
       "5754     0.10     0.25     0.24  4.07  77.36  -8.70  -54.17  -0.20   0.18   \n",
       "5755    -0.01     0.03     0.02  3.83   0.61  -3.81    2.75   0.24  -0.15   \n",
       "\n",
       "      Gyroz  activity  \n",
       "0      0.98         7  \n",
       "1      0.97         7  \n",
       "2      0.92         7  \n",
       "3      1.00         7  \n",
       "4      0.89         7  \n",
       "5      0.97         7  \n",
       "6      1.00         7  \n",
       "7      0.97         7  \n",
       "8      0.98         7  \n",
       "9      0.97         7  \n",
       "10     0.94         7  \n",
       "11     1.00         7  \n",
       "12     0.89         7  \n",
       "13     0.98         7  \n",
       "14     0.98         7  \n",
       "15     0.98         7  \n",
       "16     0.98         7  \n",
       "17     0.98         7  \n",
       "18     0.91         7  \n",
       "19     1.00         7  \n",
       "20     0.89         7  \n",
       "21     0.97         7  \n",
       "22     1.00         7  \n",
       "23     0.98         7  \n",
       "24     0.98         7  \n",
       "25     0.97         7  \n",
       "26     0.92         7  \n",
       "27     1.00         7  \n",
       "28     0.90         7  \n",
       "29     0.97         7  \n",
       "...     ...       ...  \n",
       "5726   0.99         8  \n",
       "5727   0.70         8  \n",
       "5728   0.94         8  \n",
       "5729   1.01         8  \n",
       "5730   0.97         8  \n",
       "5731   0.98         8  \n",
       "5732   1.00         8  \n",
       "5733   0.65         8  \n",
       "5734   0.98         8  \n",
       "5735   0.59         8  \n",
       "5736   0.94         8  \n",
       "5737   0.54         8  \n",
       "5738   0.96         8  \n",
       "5739   0.97         8  \n",
       "5740   1.00         8  \n",
       "5741   0.52         8  \n",
       "5742   1.01         8  \n",
       "5743   0.42         8  \n",
       "5744   0.93         8  \n",
       "5745   0.62         8  \n",
       "5746   1.14         8  \n",
       "5747   0.94         8  \n",
       "5748   1.01         8  \n",
       "5749   0.56         8  \n",
       "5750   0.95         8  \n",
       "5751   0.53         8  \n",
       "5752   0.94         8  \n",
       "5753   0.92         8  \n",
       "5754   1.25         8  \n",
       "5755   0.99         8  \n",
       "\n",
       "[4648486 rows x 20 columns]"
      ]
     },
     "execution_count": 87,
     "metadata": {},
     "output_type": "execute_result"
    }
   ],
   "source": [
    "# the correct dataset should have 986091 rows and 20 columns\n",
    "data_df = pd.concat(frame).dropna()\n",
    "data_df"
   ]
  },
  {
   "cell_type": "code",
   "execution_count": 88,
   "metadata": {},
   "outputs": [],
   "source": [
    "# result_df = alex_data_df\n",
    "# result_df\n",
    "result_df = data_df"
   ]
  },
  {
   "cell_type": "code",
   "execution_count": 89,
   "metadata": {},
   "outputs": [],
   "source": [
    "# # the sensor label index range from 0 to 7 \n",
    "# sensor_data = []\n",
    "# for i in range(0, 8):\n",
    "#     df = alex_data_df.where(alex_data_df['Sensor'] == i).dropna()\n",
    "#     sensor_data.append(df)\n",
    "# result_df = pd.concat(sensor_data).reset_index(drop=True)\n",
    "# result_df"
   ]
  },
  {
   "cell_type": "markdown",
   "metadata": {},
   "source": [
    "---\n",
    "# Data processing and deep learning model"
   ]
  },
  {
   "cell_type": "markdown",
   "metadata": {},
   "source": [
    "### Hyperparameter\n",
    "window_size: The number of timesteps in one window (e.g. how many rows in one window).\n",
    "\n",
    "channel: The number of features in one window. Similar to image channels (RGB).\n",
    "\n",
    "batch_size: The numebr of windows in one batch.\n",
    "\n",
    "learning_rate: How fast the model learns."
   ]
  },
  {
   "cell_type": "code",
   "execution_count": 90,
   "metadata": {},
   "outputs": [],
   "source": [
    "window_size = 45\n",
    "channel = 1\n",
    "batch_size = 32\n",
    "learning_rate = 0.001"
   ]
  },
  {
   "cell_type": "code",
   "execution_count": 91,
   "metadata": {},
   "outputs": [],
   "source": [
    "# Process original dataset, create windows (window_size samples(rows), about 1 second)\n",
    "data = []\n",
    "window = 1\n",
    "while window*window_size < len(result_df):\n",
    "    data_window = result_df[(window - 1)*window_size:window*window_size]\n",
    "    data.append(data_window.values)\n",
    "    window += 1\n",
    "#data"
   ]
  },
  {
   "cell_type": "code",
   "execution_count": 92,
   "metadata": {},
   "outputs": [
    {
     "data": {
      "text/plain": [
       "103299"
      ]
     },
     "execution_count": 92,
     "metadata": {},
     "output_type": "execute_result"
    }
   ],
   "source": [
    "len(data)"
   ]
  },
  {
   "cell_type": "code",
   "execution_count": 93,
   "metadata": {},
   "outputs": [
    {
     "name": "stdout",
     "output_type": "stream",
     "text": [
      "data contains different activities! Window droped\n",
      "data contains different activities! Window droped\n",
      "data contains different activities! Window droped\n",
      "data contains different activities! Window droped\n",
      "data contains different activities! Window droped\n",
      "data contains different activities! Window droped\n",
      "data contains different activities! Window droped\n",
      "data contains different activities! Window droped\n",
      "data contains different activities! Window droped\n",
      "data contains different activities! Window droped\n",
      "data contains different activities! Window droped\n",
      "data contains different activities! Window droped\n",
      "data contains different activities! Window droped\n",
      "data contains different activities! Window droped\n",
      "data contains different activities! Window droped\n",
      "data contains different activities! Window droped\n",
      "data contains different activities! Window droped\n",
      "data contains different activities! Window droped\n",
      "data contains different activities! Window droped\n",
      "data contains different activities! Window droped\n",
      "data contains different activities! Window droped\n",
      "data contains different activities! Window droped\n",
      "data contains different activities! Window droped\n",
      "data contains different activities! Window droped\n",
      "data contains different activities! Window droped\n",
      "data contains different activities! Window droped\n",
      "data contains different activities! Window droped\n",
      "data contains different activities! Window droped\n",
      "data contains different activities! Window droped\n",
      "data contains different activities! Window droped\n",
      "data contains different activities! Window droped\n",
      "data contains different activities! Window droped\n",
      "data contains different activities! Window droped\n",
      "data contains different activities! Window droped\n",
      "data contains different activities! Window droped\n",
      "data contains different activities! Window droped\n",
      "data contains different activities! Window droped\n",
      "data contains different activities! Window droped\n",
      "data contains different activities! Window droped\n",
      "data contains different activities! Window droped\n",
      "data contains different activities! Window droped\n",
      "data contains different activities! Window droped\n",
      "data contains different activities! Window droped\n",
      "data contains different activities! Window droped\n",
      "data contains different activities! Window droped\n",
      "data contains different activities! Window droped\n",
      "data contains different activities! Window droped\n",
      "data contains different activities! Window droped\n",
      "data contains different activities! Window droped\n",
      "data contains different activities! Window droped\n",
      "data contains different activities! Window droped\n",
      "data contains different activities! Window droped\n",
      "data contains different activities! Window droped\n",
      "data contains different activities! Window droped\n",
      "data contains different activities! Window droped\n",
      "data contains different activities! Window droped\n",
      "data contains different activities! Window droped\n",
      "data contains different activities! Window droped\n",
      "data contains different activities! Window droped\n",
      "data contains different activities! Window droped\n",
      "data contains different activities! Window droped\n",
      "data contains different activities! Window droped\n",
      "data contains different activities! Window droped\n",
      "data contains different activities! Window droped\n",
      "data contains different activities! Window droped\n",
      "data contains different activities! Window droped\n",
      "data contains different activities! Window droped\n",
      "data contains different activities! Window droped\n",
      "data contains different activities! Window droped\n",
      "data contains different activities! Window droped\n",
      "data contains different activities! Window droped\n",
      "data contains different activities! Window droped\n",
      "data contains different activities! Window droped\n",
      "data contains different activities! Window droped\n",
      "data contains different activities! Window droped\n",
      "data contains different activities! Window droped\n",
      "data contains different activities! Window droped\n",
      "data contains different activities! Window droped\n",
      "data contains different activities! Window droped\n",
      "data contains different activities! Window droped\n",
      "data contains different activities! Window droped\n",
      "data contains different activities! Window droped\n",
      "data contains different activities! Window droped\n",
      "data contains different activities! Window droped\n",
      "data contains different activities! Window droped\n",
      "data contains different activities! Window droped\n",
      "data contains different activities! Window droped\n",
      "data contains different activities! Window droped\n",
      "data contains different activities! Window droped\n",
      "data contains different activities! Window droped\n",
      "data contains different activities! Window droped\n",
      "data contains different activities! Window droped\n",
      "data contains different activities! Window droped\n",
      "data contains different activities! Window droped\n",
      "data contains different activities! Window droped\n",
      "data contains different activities! Window droped\n",
      "data contains different activities! Window droped\n",
      "data contains different activities! Window droped\n",
      "data contains different activities! Window droped\n",
      "data contains different activities! Window droped\n",
      "data contains different activities! Window droped\n",
      "data contains different activities! Window droped\n",
      "data contains different activities! Window droped\n",
      "data contains different activities! Window droped\n",
      "data contains different activities! Window droped\n",
      "data contains different activities! Window droped\n",
      "data contains different activities! Window droped\n",
      "data contains different activities! Window droped\n",
      "data contains different activities! Window droped\n",
      "data contains different activities! Window droped\n",
      "data contains different activities! Window droped\n",
      "data contains different activities! Window droped\n",
      "data contains different activities! Window droped\n",
      "data contains different activities! Window droped\n",
      "data contains different activities! Window droped\n",
      "data contains different activities! Window droped\n",
      "data contains different activities! Window droped\n",
      "data contains different activities! Window droped\n",
      "data contains different activities! Window droped\n",
      "data contains different activities! Window droped\n",
      "data contains different activities! Window droped\n",
      "data contains different activities! Window droped\n",
      "data contains different activities! Window droped\n",
      "data contains different activities! Window droped\n",
      "data contains different activities! Window droped\n",
      "data contains different activities! Window droped\n",
      "data contains different activities! Window droped\n",
      "data contains different activities! Window droped\n",
      "data contains different activities! Window droped\n",
      "data contains different activities! Window droped\n",
      "data contains different activities! Window droped\n",
      "data contains different activities! Window droped\n",
      "data contains different activities! Window droped\n",
      "data contains different activities! Window droped\n",
      "data contains different activities! Window droped\n",
      "data contains different activities! Window droped\n",
      "data contains different activities! Window droped\n",
      "data contains different activities! Window droped\n",
      "data contains different activities! Window droped\n",
      "data contains different activities! Window droped\n",
      "data contains different activities! Window droped\n",
      "data contains different activities! Window droped\n",
      "data contains different activities! Window droped\n",
      "data contains different activities! Window droped\n",
      "data contains different activities! Window droped\n",
      "data contains different activities! Window droped\n",
      "data contains different activities! Window droped\n",
      "data contains different activities! Window droped\n",
      "data contains different activities! Window droped\n",
      "data contains different activities! Window droped\n",
      "data contains different activities! Window droped\n",
      "data contains different activities! Window droped\n",
      "data contains different activities! Window droped\n",
      "data contains different activities! Window droped\n",
      "data contains different activities! Window droped\n",
      "data contains different activities! Window droped\n",
      "data contains different activities! Window droped\n",
      "data contains different activities! Window droped\n",
      "data contains different activities! Window droped\n",
      "data contains different activities! Window droped\n",
      "data contains different activities! Window droped\n",
      "data contains different activities! Window droped\n",
      "data contains different activities! Window droped\n"
     ]
    },
    {
     "name": "stdout",
     "output_type": "stream",
     "text": [
      "data contains different activities! Window droped\n",
      "data contains different activities! Window droped\n",
      "data contains different activities! Window droped\n",
      "data contains different activities! Window droped\n",
      "data contains different activities! Window droped\n",
      "data contains different activities! Window droped\n",
      "data contains different activities! Window droped\n",
      "data contains different activities! Window droped\n",
      "data contains different activities! Window droped\n",
      "data contains different activities! Window droped\n",
      "data contains different activities! Window droped\n",
      "data contains different activities! Window droped\n",
      "data contains different activities! Window droped\n",
      "data contains different activities! Window droped\n",
      "data contains different activities! Window droped\n",
      "data contains different activities! Window droped\n",
      "data contains different activities! Window droped\n",
      "data contains different activities! Window droped\n",
      "data contains different activities! Window droped\n",
      "data contains different activities! Window droped\n",
      "data contains different activities! Window droped\n",
      "data contains different activities! Window droped\n",
      "data contains different activities! Window droped\n",
      "data contains different activities! Window droped\n",
      "data contains different activities! Window droped\n",
      "data contains different activities! Window droped\n",
      "data contains different activities! Window droped\n",
      "data contains different activities! Window droped\n",
      "data contains different activities! Window droped\n",
      "data contains different activities! Window droped\n",
      "data contains different activities! Window droped\n",
      "data contains different activities! Window droped\n",
      "data contains different activities! Window droped\n",
      "data contains different activities! Window droped\n",
      "data contains different activities! Window droped\n",
      "data contains different activities! Window droped\n",
      "data contains different activities! Window droped\n",
      "data contains different activities! Window droped\n",
      "data contains different activities! Window droped\n"
     ]
    }
   ],
   "source": [
    "# delete window if multiple activities and sensors presents\n",
    "cleaned_data = []\n",
    "for i in data:\n",
    "    previous_activity = -1\n",
    "    previous_sensor = -1\n",
    "    for j in i:\n",
    "        current_activity = j[19]\n",
    "        current_sensor = j[1]\n",
    "        if (previous_activity != -1) and (current_activity != previous_activity):\n",
    "            print(\"data contains different activities! Window droped\")\n",
    "            break\n",
    "#         elif (previous_sensor != -1) and (current_sensor != previous_sensor):\n",
    "#             print(\"data contains different sensors! Window droped\")\n",
    "#             break\n",
    "        else:\n",
    "            previous_activity = current_activity\n",
    "            previous_sensor = current_sensor\n",
    "    else:\n",
    "        cleaned_data.append(i)"
   ]
  },
  {
   "cell_type": "code",
   "execution_count": 94,
   "metadata": {},
   "outputs": [
    {
     "data": {
      "text/plain": [
       "103097"
      ]
     },
     "execution_count": 94,
     "metadata": {},
     "output_type": "execute_result"
    }
   ],
   "source": [
    "len(cleaned_data)"
   ]
  },
  {
   "cell_type": "code",
   "execution_count": 95,
   "metadata": {},
   "outputs": [
    {
     "data": {
      "text/plain": [
       "(45, 20)"
      ]
     },
     "execution_count": 95,
     "metadata": {},
     "output_type": "execute_result"
    }
   ],
   "source": [
    "cleaned_data[0].shape"
   ]
  },
  {
   "cell_type": "code",
   "execution_count": 96,
   "metadata": {
    "scrolled": true
   },
   "outputs": [],
   "source": [
    "# shuffle the data\n",
    "seed(101)\n",
    "shuffle(cleaned_data)\n",
    "#cleaned_data"
   ]
  },
  {
   "cell_type": "code",
   "execution_count": 97,
   "metadata": {},
   "outputs": [],
   "source": [
    "# extract label from each window\n",
    "labels = []\n",
    "for i in cleaned_data:\n",
    "    label = i[0][19]\n",
    "    labels.append(label)\n",
    "labels = np.array(labels)\n",
    "#labels"
   ]
  },
  {
   "cell_type": "code",
   "execution_count": 98,
   "metadata": {},
   "outputs": [],
   "source": [
    "# extract features from each window\n",
    "features = []\n",
    "for i in cleaned_data:\n",
    "    new = np.delete(i, 19, 1)\n",
    "    features.append(new)\n",
    "features = np.array(features)\n",
    "#features"
   ]
  },
  {
   "cell_type": "code",
   "execution_count": 99,
   "metadata": {},
   "outputs": [
    {
     "data": {
      "text/plain": [
       "(45, 19)"
      ]
     },
     "execution_count": 99,
     "metadata": {},
     "output_type": "execute_result"
    }
   ],
   "source": [
    "features[0].shape"
   ]
  },
  {
   "cell_type": "code",
   "execution_count": 100,
   "metadata": {},
   "outputs": [
    {
     "data": {
      "text/html": [
       "<div>\n",
       "<style scoped>\n",
       "    .dataframe tbody tr th:only-of-type {\n",
       "        vertical-align: middle;\n",
       "    }\n",
       "\n",
       "    .dataframe tbody tr th {\n",
       "        vertical-align: top;\n",
       "    }\n",
       "\n",
       "    .dataframe thead th {\n",
       "        text-align: right;\n",
       "    }\n",
       "</style>\n",
       "<table border=\"1\" class=\"dataframe\">\n",
       "  <thead>\n",
       "    <tr style=\"text-align: right;\">\n",
       "      <th></th>\n",
       "      <th>features</th>\n",
       "      <th>labels</th>\n",
       "    </tr>\n",
       "  </thead>\n",
       "  <tbody>\n",
       "    <tr>\n",
       "      <th>0</th>\n",
       "      <td>[[81.764, 7.0, 0.754, -0.04, 0.02, 0.66, 96.03...</td>\n",
       "      <td>4.0</td>\n",
       "    </tr>\n",
       "    <tr>\n",
       "      <th>1</th>\n",
       "      <td>[[47.425, 1.0, 0.11699999999999999, 0.21, 0.04...</td>\n",
       "      <td>4.0</td>\n",
       "    </tr>\n",
       "    <tr>\n",
       "      <th>2</th>\n",
       "      <td>[[63.724, 7.0, 0.956, 0.1, -0.05, 0.27, 45.11,...</td>\n",
       "      <td>4.0</td>\n",
       "    </tr>\n",
       "    <tr>\n",
       "      <th>3</th>\n",
       "      <td>[[10.158999999999999, 0.0, -0.066, -0.08, -0.0...</td>\n",
       "      <td>4.0</td>\n",
       "    </tr>\n",
       "    <tr>\n",
       "      <th>4</th>\n",
       "      <td>[[95.052, 7.0, -0.971, -0.08, -0.21, -0.07, 24...</td>\n",
       "      <td>4.0</td>\n",
       "    </tr>\n",
       "    <tr>\n",
       "      <th>5</th>\n",
       "      <td>[[84.055, 6.0, -0.688, -0.07, 0.01, -0.72, 106...</td>\n",
       "      <td>4.0</td>\n",
       "    </tr>\n",
       "    <tr>\n",
       "      <th>6</th>\n",
       "      <td>[[4.9949, 0.0, -0.071, 0.15, 0.06, 0.98, 201.4...</td>\n",
       "      <td>3.0</td>\n",
       "    </tr>\n",
       "    <tr>\n",
       "      <th>7</th>\n",
       "      <td>[[88.772, 1.0, -0.026000000000000002, 0.1, -0....</td>\n",
       "      <td>4.0</td>\n",
       "    </tr>\n",
       "    <tr>\n",
       "      <th>8</th>\n",
       "      <td>[[88.524, 6.0, 0.9790000000000001, 0.0, 0.17, ...</td>\n",
       "      <td>4.0</td>\n",
       "    </tr>\n",
       "    <tr>\n",
       "      <th>9</th>\n",
       "      <td>[[54.29, 1.0, 0.027999999999999997, -0.08, -0....</td>\n",
       "      <td>4.0</td>\n",
       "    </tr>\n",
       "    <tr>\n",
       "      <th>10</th>\n",
       "      <td>[[70.393, 7.0, -0.47100000000000003, -0.08, 0....</td>\n",
       "      <td>9.0</td>\n",
       "    </tr>\n",
       "    <tr>\n",
       "      <th>11</th>\n",
       "      <td>[[31.969, 0.0, 0.41200000000000003, 0.22, -0.1...</td>\n",
       "      <td>1.0</td>\n",
       "    </tr>\n",
       "    <tr>\n",
       "      <th>12</th>\n",
       "      <td>[[45.233999999999995, 0.0, 0.759, 0.12, -0.05,...</td>\n",
       "      <td>0.0</td>\n",
       "    </tr>\n",
       "    <tr>\n",
       "      <th>13</th>\n",
       "      <td>[[34.906, 6.0, -0.893, -0.19, -0.35, -0.21, 51...</td>\n",
       "      <td>10.0</td>\n",
       "    </tr>\n",
       "    <tr>\n",
       "      <th>14</th>\n",
       "      <td>[[60.45399999999999, 3.0, 1.0, 0.0, 0.0, 0.0, ...</td>\n",
       "      <td>4.0</td>\n",
       "    </tr>\n",
       "    <tr>\n",
       "      <th>15</th>\n",
       "      <td>[[65.081, 1.0, 0.209, 0.14, -0.02, -0.97, 219....</td>\n",
       "      <td>4.0</td>\n",
       "    </tr>\n",
       "    <tr>\n",
       "      <th>16</th>\n",
       "      <td>[[86.25399999999999, 2.0, 0.057999999999999996...</td>\n",
       "      <td>13.0</td>\n",
       "    </tr>\n",
       "    <tr>\n",
       "      <th>17</th>\n",
       "      <td>[[20.991, 4.0, -0.9159999999999999, 0.15, -0.0...</td>\n",
       "      <td>4.0</td>\n",
       "    </tr>\n",
       "    <tr>\n",
       "      <th>18</th>\n",
       "      <td>[[289.46, 7.0, 0.9359999999999999, -0.0, -0.08...</td>\n",
       "      <td>13.0</td>\n",
       "    </tr>\n",
       "    <tr>\n",
       "      <th>19</th>\n",
       "      <td>[[80.632, 0.0, 0.129, -0.1, -0.03, -0.99, 208....</td>\n",
       "      <td>4.0</td>\n",
       "    </tr>\n",
       "    <tr>\n",
       "      <th>20</th>\n",
       "      <td>[[57.67100000000001, 7.0, 0.37799999999999995,...</td>\n",
       "      <td>6.0</td>\n",
       "    </tr>\n",
       "    <tr>\n",
       "      <th>21</th>\n",
       "      <td>[[114.72, 2.0, 0.925, 0.17, -0.08, -0.33, 334....</td>\n",
       "      <td>4.0</td>\n",
       "    </tr>\n",
       "    <tr>\n",
       "      <th>22</th>\n",
       "      <td>[[17.814, 7.0, -0.996, -0.08, -0.04, -0.0, 14....</td>\n",
       "      <td>4.0</td>\n",
       "    </tr>\n",
       "    <tr>\n",
       "      <th>23</th>\n",
       "      <td>[[72.615, 2.0, 0.682, -0.0, 0.08, -0.73, 280.0...</td>\n",
       "      <td>4.0</td>\n",
       "    </tr>\n",
       "    <tr>\n",
       "      <th>24</th>\n",
       "      <td>[[11.715, 3.0, 0.35700000000000004, 0.27, 0.89...</td>\n",
       "      <td>10.0</td>\n",
       "    </tr>\n",
       "    <tr>\n",
       "      <th>25</th>\n",
       "      <td>[[216.23, 4.0, -0.8490000000000001, 0.11, -0.1...</td>\n",
       "      <td>13.0</td>\n",
       "    </tr>\n",
       "    <tr>\n",
       "      <th>26</th>\n",
       "      <td>[[68.483, 7.0, -0.9470000000000001, -0.05, -0....</td>\n",
       "      <td>4.0</td>\n",
       "    </tr>\n",
       "    <tr>\n",
       "      <th>27</th>\n",
       "      <td>[[101.02, 1.0, 0.195, 0.13, -0.02, -0.97, 217....</td>\n",
       "      <td>4.0</td>\n",
       "    </tr>\n",
       "    <tr>\n",
       "      <th>28</th>\n",
       "      <td>[[92.7, 4.0, 0.951, -0.1, 0.23, -0.18, 348.7, ...</td>\n",
       "      <td>4.0</td>\n",
       "    </tr>\n",
       "    <tr>\n",
       "      <th>29</th>\n",
       "      <td>[[7.4371, 1.0, -0.025, -0.29, 0.02, 0.96, 197....</td>\n",
       "      <td>4.0</td>\n",
       "    </tr>\n",
       "    <tr>\n",
       "      <th>...</th>\n",
       "      <td>...</td>\n",
       "      <td>...</td>\n",
       "    </tr>\n",
       "    <tr>\n",
       "      <th>103067</th>\n",
       "      <td>[[51.126999999999995, 3.0, 0.594, 0.05, 0.07, ...</td>\n",
       "      <td>8.0</td>\n",
       "    </tr>\n",
       "    <tr>\n",
       "      <th>103068</th>\n",
       "      <td>[[56.574, 3.0, 0.344, 0.12, -0.07, -0.93, 235....</td>\n",
       "      <td>4.0</td>\n",
       "    </tr>\n",
       "    <tr>\n",
       "      <th>103069</th>\n",
       "      <td>[[109.52, 1.0, -0.129, -0.19, -0.02, -0.97, 17...</td>\n",
       "      <td>13.0</td>\n",
       "    </tr>\n",
       "    <tr>\n",
       "      <th>103070</th>\n",
       "      <td>[[13.933, 4.0, 0.319, -0.46, 0.83, -0.05, 258....</td>\n",
       "      <td>4.0</td>\n",
       "    </tr>\n",
       "    <tr>\n",
       "      <th>103071</th>\n",
       "      <td>[[66.633, 5.0, 0.853, 0.09, 0.2, 0.47, 74.76, ...</td>\n",
       "      <td>13.0</td>\n",
       "    </tr>\n",
       "    <tr>\n",
       "      <th>103072</th>\n",
       "      <td>[[33.649, 7.0, -0.945, -0.06, 0.04, -0.32, 51....</td>\n",
       "      <td>4.0</td>\n",
       "    </tr>\n",
       "    <tr>\n",
       "      <th>103073</th>\n",
       "      <td>[[48.674, 4.0, -0.956, 0.02, 0.04, 0.29, 340.4...</td>\n",
       "      <td>4.0</td>\n",
       "    </tr>\n",
       "    <tr>\n",
       "      <th>103074</th>\n",
       "      <td>[[86.559, 3.0, -0.8690000000000001, 0.02, 0.0,...</td>\n",
       "      <td>4.0</td>\n",
       "    </tr>\n",
       "    <tr>\n",
       "      <th>103075</th>\n",
       "      <td>[[265.97, 5.0, 0.6829999999999999, 0.38, 0.26,...</td>\n",
       "      <td>4.0</td>\n",
       "    </tr>\n",
       "    <tr>\n",
       "      <th>103076</th>\n",
       "      <td>[[294.07, 5.0, 0.889, 0.05, 0.12, 0.44, 67.48,...</td>\n",
       "      <td>13.0</td>\n",
       "    </tr>\n",
       "    <tr>\n",
       "      <th>103077</th>\n",
       "      <td>[[41.111000000000004, 7.0, -0.937, -0.02, -0.2...</td>\n",
       "      <td>13.0</td>\n",
       "    </tr>\n",
       "    <tr>\n",
       "      <th>103078</th>\n",
       "      <td>[[92.87899999999999, 3.0, 0.5870000000000001, ...</td>\n",
       "      <td>4.0</td>\n",
       "    </tr>\n",
       "    <tr>\n",
       "      <th>103079</th>\n",
       "      <td>[[35.629, 2.0, -0.691, 0.01, -0.24, -0.68, 106...</td>\n",
       "      <td>7.0</td>\n",
       "    </tr>\n",
       "    <tr>\n",
       "      <th>103080</th>\n",
       "      <td>[[40.399, 1.0, 0.514, 0.48, -0.52, 0.49, 185.3...</td>\n",
       "      <td>3.0</td>\n",
       "    </tr>\n",
       "    <tr>\n",
       "      <th>103081</th>\n",
       "      <td>[[81.281, 0.0, 0.11800000000000001, 0.14, 0.04...</td>\n",
       "      <td>4.0</td>\n",
       "    </tr>\n",
       "    <tr>\n",
       "      <th>103082</th>\n",
       "      <td>[[14.555, 2.0, -0.033, 0.11, 0.18, -0.98, 187....</td>\n",
       "      <td>3.0</td>\n",
       "    </tr>\n",
       "    <tr>\n",
       "      <th>103083</th>\n",
       "      <td>[[135.7, 7.0, -0.978, -0.01, 0.13, 0.16, 354.5...</td>\n",
       "      <td>13.0</td>\n",
       "    </tr>\n",
       "    <tr>\n",
       "      <th>103084</th>\n",
       "      <td>[[28.872, 2.0, -0.7959999999999999, -0.32, -0....</td>\n",
       "      <td>0.0</td>\n",
       "    </tr>\n",
       "    <tr>\n",
       "      <th>103085</th>\n",
       "      <td>[[17.407, 7.0, -0.92, -0.14, -0.3, -0.21, 46.6...</td>\n",
       "      <td>4.0</td>\n",
       "    </tr>\n",
       "    <tr>\n",
       "      <th>103086</th>\n",
       "      <td>[[24.715999999999998, 5.0, -0.7190000000000001...</td>\n",
       "      <td>2.0</td>\n",
       "    </tr>\n",
       "    <tr>\n",
       "      <th>103087</th>\n",
       "      <td>[[61.42100000000001, 6.0, -0.9620000000000001,...</td>\n",
       "      <td>4.0</td>\n",
       "    </tr>\n",
       "    <tr>\n",
       "      <th>103088</th>\n",
       "      <td>[[246.56, 7.0, 0.9640000000000001, -0.0, -0.06...</td>\n",
       "      <td>4.0</td>\n",
       "    </tr>\n",
       "    <tr>\n",
       "      <th>103089</th>\n",
       "      <td>[[40.614000000000004, 6.0, -0.993, 0.03, 0.1, ...</td>\n",
       "      <td>4.0</td>\n",
       "    </tr>\n",
       "    <tr>\n",
       "      <th>103090</th>\n",
       "      <td>[[76.514, 0.0, 0.08800000000000001, 0.01, -0.0...</td>\n",
       "      <td>4.0</td>\n",
       "    </tr>\n",
       "    <tr>\n",
       "      <th>103091</th>\n",
       "      <td>[[44.597, 0.0, 0.083, 0.1, -0.04, -0.99, 204.1...</td>\n",
       "      <td>10.0</td>\n",
       "    </tr>\n",
       "    <tr>\n",
       "      <th>103092</th>\n",
       "      <td>[[46.974, 2.0, -0.7829999999999999, -0.55, 0.1...</td>\n",
       "      <td>13.0</td>\n",
       "    </tr>\n",
       "    <tr>\n",
       "      <th>103093</th>\n",
       "      <td>[[43.027, 2.0, -0.5770000000000001, -0.04, -0....</td>\n",
       "      <td>13.0</td>\n",
       "    </tr>\n",
       "    <tr>\n",
       "      <th>103094</th>\n",
       "      <td>[[208.08, 2.0, 0.882, 0.46, 0.03, -0.09, 6.44,...</td>\n",
       "      <td>13.0</td>\n",
       "    </tr>\n",
       "    <tr>\n",
       "      <th>103095</th>\n",
       "      <td>[[144.7, 7.0, 0.922, 0.01, -0.09, -0.38, 329.3...</td>\n",
       "      <td>13.0</td>\n",
       "    </tr>\n",
       "    <tr>\n",
       "      <th>103096</th>\n",
       "      <td>[[69.958, 6.0, 0.963, 0.04, 0.23, 0.13, 31.0, ...</td>\n",
       "      <td>4.0</td>\n",
       "    </tr>\n",
       "  </tbody>\n",
       "</table>\n",
       "<p>103097 rows × 2 columns</p>\n",
       "</div>"
      ],
      "text/plain": [
       "                                                 features  labels\n",
       "0       [[81.764, 7.0, 0.754, -0.04, 0.02, 0.66, 96.03...     4.0\n",
       "1       [[47.425, 1.0, 0.11699999999999999, 0.21, 0.04...     4.0\n",
       "2       [[63.724, 7.0, 0.956, 0.1, -0.05, 0.27, 45.11,...     4.0\n",
       "3       [[10.158999999999999, 0.0, -0.066, -0.08, -0.0...     4.0\n",
       "4       [[95.052, 7.0, -0.971, -0.08, -0.21, -0.07, 24...     4.0\n",
       "5       [[84.055, 6.0, -0.688, -0.07, 0.01, -0.72, 106...     4.0\n",
       "6       [[4.9949, 0.0, -0.071, 0.15, 0.06, 0.98, 201.4...     3.0\n",
       "7       [[88.772, 1.0, -0.026000000000000002, 0.1, -0....     4.0\n",
       "8       [[88.524, 6.0, 0.9790000000000001, 0.0, 0.17, ...     4.0\n",
       "9       [[54.29, 1.0, 0.027999999999999997, -0.08, -0....     4.0\n",
       "10      [[70.393, 7.0, -0.47100000000000003, -0.08, 0....     9.0\n",
       "11      [[31.969, 0.0, 0.41200000000000003, 0.22, -0.1...     1.0\n",
       "12      [[45.233999999999995, 0.0, 0.759, 0.12, -0.05,...     0.0\n",
       "13      [[34.906, 6.0, -0.893, -0.19, -0.35, -0.21, 51...    10.0\n",
       "14      [[60.45399999999999, 3.0, 1.0, 0.0, 0.0, 0.0, ...     4.0\n",
       "15      [[65.081, 1.0, 0.209, 0.14, -0.02, -0.97, 219....     4.0\n",
       "16      [[86.25399999999999, 2.0, 0.057999999999999996...    13.0\n",
       "17      [[20.991, 4.0, -0.9159999999999999, 0.15, -0.0...     4.0\n",
       "18      [[289.46, 7.0, 0.9359999999999999, -0.0, -0.08...    13.0\n",
       "19      [[80.632, 0.0, 0.129, -0.1, -0.03, -0.99, 208....     4.0\n",
       "20      [[57.67100000000001, 7.0, 0.37799999999999995,...     6.0\n",
       "21      [[114.72, 2.0, 0.925, 0.17, -0.08, -0.33, 334....     4.0\n",
       "22      [[17.814, 7.0, -0.996, -0.08, -0.04, -0.0, 14....     4.0\n",
       "23      [[72.615, 2.0, 0.682, -0.0, 0.08, -0.73, 280.0...     4.0\n",
       "24      [[11.715, 3.0, 0.35700000000000004, 0.27, 0.89...    10.0\n",
       "25      [[216.23, 4.0, -0.8490000000000001, 0.11, -0.1...    13.0\n",
       "26      [[68.483, 7.0, -0.9470000000000001, -0.05, -0....     4.0\n",
       "27      [[101.02, 1.0, 0.195, 0.13, -0.02, -0.97, 217....     4.0\n",
       "28      [[92.7, 4.0, 0.951, -0.1, 0.23, -0.18, 348.7, ...     4.0\n",
       "29      [[7.4371, 1.0, -0.025, -0.29, 0.02, 0.96, 197....     4.0\n",
       "...                                                   ...     ...\n",
       "103067  [[51.126999999999995, 3.0, 0.594, 0.05, 0.07, ...     8.0\n",
       "103068  [[56.574, 3.0, 0.344, 0.12, -0.07, -0.93, 235....     4.0\n",
       "103069  [[109.52, 1.0, -0.129, -0.19, -0.02, -0.97, 17...    13.0\n",
       "103070  [[13.933, 4.0, 0.319, -0.46, 0.83, -0.05, 258....     4.0\n",
       "103071  [[66.633, 5.0, 0.853, 0.09, 0.2, 0.47, 74.76, ...    13.0\n",
       "103072  [[33.649, 7.0, -0.945, -0.06, 0.04, -0.32, 51....     4.0\n",
       "103073  [[48.674, 4.0, -0.956, 0.02, 0.04, 0.29, 340.4...     4.0\n",
       "103074  [[86.559, 3.0, -0.8690000000000001, 0.02, 0.0,...     4.0\n",
       "103075  [[265.97, 5.0, 0.6829999999999999, 0.38, 0.26,...     4.0\n",
       "103076  [[294.07, 5.0, 0.889, 0.05, 0.12, 0.44, 67.48,...    13.0\n",
       "103077  [[41.111000000000004, 7.0, -0.937, -0.02, -0.2...    13.0\n",
       "103078  [[92.87899999999999, 3.0, 0.5870000000000001, ...     4.0\n",
       "103079  [[35.629, 2.0, -0.691, 0.01, -0.24, -0.68, 106...     7.0\n",
       "103080  [[40.399, 1.0, 0.514, 0.48, -0.52, 0.49, 185.3...     3.0\n",
       "103081  [[81.281, 0.0, 0.11800000000000001, 0.14, 0.04...     4.0\n",
       "103082  [[14.555, 2.0, -0.033, 0.11, 0.18, -0.98, 187....     3.0\n",
       "103083  [[135.7, 7.0, -0.978, -0.01, 0.13, 0.16, 354.5...    13.0\n",
       "103084  [[28.872, 2.0, -0.7959999999999999, -0.32, -0....     0.0\n",
       "103085  [[17.407, 7.0, -0.92, -0.14, -0.3, -0.21, 46.6...     4.0\n",
       "103086  [[24.715999999999998, 5.0, -0.7190000000000001...     2.0\n",
       "103087  [[61.42100000000001, 6.0, -0.9620000000000001,...     4.0\n",
       "103088  [[246.56, 7.0, 0.9640000000000001, -0.0, -0.06...     4.0\n",
       "103089  [[40.614000000000004, 6.0, -0.993, 0.03, 0.1, ...     4.0\n",
       "103090  [[76.514, 0.0, 0.08800000000000001, 0.01, -0.0...     4.0\n",
       "103091  [[44.597, 0.0, 0.083, 0.1, -0.04, -0.99, 204.1...    10.0\n",
       "103092  [[46.974, 2.0, -0.7829999999999999, -0.55, 0.1...    13.0\n",
       "103093  [[43.027, 2.0, -0.5770000000000001, -0.04, -0....    13.0\n",
       "103094  [[208.08, 2.0, 0.882, 0.46, 0.03, -0.09, 6.44,...    13.0\n",
       "103095  [[144.7, 7.0, 0.922, 0.01, -0.09, -0.38, 329.3...    13.0\n",
       "103096  [[69.958, 6.0, 0.963, 0.04, 0.23, 0.13, 31.0, ...     4.0\n",
       "\n",
       "[103097 rows x 2 columns]"
      ]
     },
     "execution_count": 100,
     "metadata": {},
     "output_type": "execute_result"
    }
   ],
   "source": [
    "# combine the features and labels\n",
    "k = list(zip(features, labels))\n",
    "activity_data = pd.DataFrame(k)\n",
    "activity_data.columns = ['features', 'labels']\n",
    "activity_data"
   ]
  },
  {
   "cell_type": "code",
   "execution_count": 101,
   "metadata": {},
   "outputs": [],
   "source": [
    "# check the size of activity. The final output of neural net \n",
    "# has to have max_index + 1 output\n",
    "max_index = activity_data['labels'].max()\n",
    "label_size = int(max_index + 1)"
   ]
  },
  {
   "cell_type": "markdown",
   "metadata": {},
   "source": [
    "---\n",
    "## Load data"
   ]
  },
  {
   "cell_type": "code",
   "execution_count": 102,
   "metadata": {},
   "outputs": [
    {
     "name": "stdout",
     "output_type": "stream",
     "text": [
      "CUDA is available! Training on GPU.\n"
     ]
    },
    {
     "data": {
      "text/plain": [
       "0"
      ]
     },
     "execution_count": 102,
     "metadata": {},
     "output_type": "execute_result"
    }
   ],
   "source": [
    "# check if CUDA is available\n",
    "train_on_gpu = torch.cuda.is_available()\n",
    "if train_on_gpu:\n",
    "    print(\"CUDA is available! Training on GPU.\")\n",
    "else:\n",
    "    print(\"CUDA is not available. Training on CPU...\")\n",
    "torch.cuda.current_device()"
   ]
  },
  {
   "cell_type": "code",
   "execution_count": 103,
   "metadata": {},
   "outputs": [],
   "source": [
    "# split the data to test, validation, and train\n",
    "valid_size = 0.2\n",
    "test_size = 0.2\n",
    "activity_data.columns = [\"features\", \"labels\"]\n",
    "activity_data_train = activity_data[:int(len(activity_data)*(1-valid_size-test_size))]\n",
    "activity_data_valid = activity_data[int(len(activity_data)*(1-valid_size-test_size)):int(len(activity_data)*(1-test_size))]\n",
    "activity_data_test = activity_data[int(len(activity_data)*(1-test_size)):]\n",
    "# activity_data_train.to_csv(\"./activity_data_train.csv\", encoding='utf-8-sig')\n",
    "# activity_data_valid.to_csv(\"./activity_data_valid.csv\", encoding='utf-8-sig')\n",
    "# activity_data_train.to_csv(\"./activity_data_test.csv\", encoding='utf-8-sig')"
   ]
  },
  {
   "cell_type": "code",
   "execution_count": 104,
   "metadata": {},
   "outputs": [],
   "source": [
    "# define our dataset in pytorch\n",
    "class DatasetSpineTrack(Dataset):\n",
    "    \n",
    "    def __init__(self, file, transform=None):\n",
    "        #self.data = pd.read_csv(file_path)\n",
    "        self.data = file\n",
    "        self.transform = transform\n",
    "        \n",
    "    def __len__(self):\n",
    "        return len(self.data)\n",
    "    \n",
    "    def __getitem__(self, index):\n",
    "        # load image as ndarray type (Height * Width * Channels)\n",
    "        # be carefull for converting dtype to np.uint8 [Unsigned integer (0 to 255)]\n",
    "        # in this example, i don't use ToTensor() method of torchvision.transforms\n",
    "        # so you can convert numpy ndarray shape to tensor in PyTorch (H, W, C) --> (C, H, W)\n",
    "        \n",
    "        features = torch.tensor(self.data[\"features\"].iloc[index])\n",
    "        features = features.view(channel, window_size, 19) \n",
    "        labels = torch.tensor(self.data[\"labels\"].iloc[index], dtype=torch.long)\n",
    "        #print(labels.type())\n",
    "        \n",
    "#         if self.transform is not None:\n",
    "#             image = self.transform(image)\n",
    "            \n",
    "        return features, labels"
   ]
  },
  {
   "cell_type": "code",
   "execution_count": 105,
   "metadata": {},
   "outputs": [],
   "source": [
    "# construct training and testing dataset in csv\n",
    "# train_dataset = DatasetSpineTrack(\"./activity_data_train.csv\")\n",
    "# valid_dataset = DatasetSpineTrack(\"./activity_data_valid.csv\")\n",
    "# test_dataset = DatasetSpineTrack(\"./activity_data_test.csv\")\n",
    "train_dataset = DatasetSpineTrack(activity_data_train)\n",
    "valid_dataset = DatasetSpineTrack(activity_data_valid)\n",
    "test_dataset = DatasetSpineTrack(activity_data_test)\n",
    "feature, label = train_dataset.__getitem__(0)\n",
    "#feature\n",
    "#label"
   ]
  },
  {
   "cell_type": "code",
   "execution_count": 106,
   "metadata": {},
   "outputs": [],
   "source": [
    "# load data\n",
    "trainloader = DataLoader(train_dataset, batch_size=batch_size, shuffle=True)\n",
    "validloader = DataLoader(valid_dataset, batch_size=batch_size, shuffle=True)\n",
    "testloader = DataLoader(test_dataset, batch_size=batch_size, shuffle=True)"
   ]
  },
  {
   "cell_type": "markdown",
   "metadata": {},
   "source": [
    "---\n",
    "## Network Architechture"
   ]
  },
  {
   "cell_type": "code",
   "execution_count": 111,
   "metadata": {},
   "outputs": [],
   "source": [
    "train_on_gpu = False"
   ]
  },
  {
   "cell_type": "code",
   "execution_count": 112,
   "metadata": {},
   "outputs": [
    {
     "name": "stdout",
     "output_type": "stream",
     "text": [
      "ResNet(\n",
      "  (conv1): Conv2d(1, 64, kernel_size=(7, 7), stride=(2, 2), padding=(3, 3), bias=False)\n",
      "  (bn1): BatchNorm2d(64, eps=1e-05, momentum=0.1, affine=True, track_running_stats=True)\n",
      "  (relu): ReLU(inplace)\n",
      "  (maxpool): MaxPool2d(kernel_size=3, stride=2, padding=1, dilation=1, ceil_mode=False)\n",
      "  (layer1): Sequential(\n",
      "    (0): BasicBlock(\n",
      "      (conv1): Conv2d(64, 64, kernel_size=(3, 3), stride=(1, 1), padding=(1, 1), bias=False)\n",
      "      (bn1): BatchNorm2d(64, eps=1e-05, momentum=0.1, affine=True, track_running_stats=True)\n",
      "      (relu): ReLU(inplace)\n",
      "      (conv2): Conv2d(64, 64, kernel_size=(3, 3), stride=(1, 1), padding=(1, 1), bias=False)\n",
      "      (bn2): BatchNorm2d(64, eps=1e-05, momentum=0.1, affine=True, track_running_stats=True)\n",
      "    )\n",
      "    (1): BasicBlock(\n",
      "      (conv1): Conv2d(64, 64, kernel_size=(3, 3), stride=(1, 1), padding=(1, 1), bias=False)\n",
      "      (bn1): BatchNorm2d(64, eps=1e-05, momentum=0.1, affine=True, track_running_stats=True)\n",
      "      (relu): ReLU(inplace)\n",
      "      (conv2): Conv2d(64, 64, kernel_size=(3, 3), stride=(1, 1), padding=(1, 1), bias=False)\n",
      "      (bn2): BatchNorm2d(64, eps=1e-05, momentum=0.1, affine=True, track_running_stats=True)\n",
      "    )\n",
      "  )\n",
      "  (layer2): Sequential(\n",
      "    (0): BasicBlock(\n",
      "      (conv1): Conv2d(64, 128, kernel_size=(3, 3), stride=(2, 2), padding=(1, 1), bias=False)\n",
      "      (bn1): BatchNorm2d(128, eps=1e-05, momentum=0.1, affine=True, track_running_stats=True)\n",
      "      (relu): ReLU(inplace)\n",
      "      (conv2): Conv2d(128, 128, kernel_size=(3, 3), stride=(1, 1), padding=(1, 1), bias=False)\n",
      "      (bn2): BatchNorm2d(128, eps=1e-05, momentum=0.1, affine=True, track_running_stats=True)\n",
      "      (downsample): Sequential(\n",
      "        (0): Conv2d(64, 128, kernel_size=(1, 1), stride=(2, 2), bias=False)\n",
      "        (1): BatchNorm2d(128, eps=1e-05, momentum=0.1, affine=True, track_running_stats=True)\n",
      "      )\n",
      "    )\n",
      "    (1): BasicBlock(\n",
      "      (conv1): Conv2d(128, 128, kernel_size=(3, 3), stride=(1, 1), padding=(1, 1), bias=False)\n",
      "      (bn1): BatchNorm2d(128, eps=1e-05, momentum=0.1, affine=True, track_running_stats=True)\n",
      "      (relu): ReLU(inplace)\n",
      "      (conv2): Conv2d(128, 128, kernel_size=(3, 3), stride=(1, 1), padding=(1, 1), bias=False)\n",
      "      (bn2): BatchNorm2d(128, eps=1e-05, momentum=0.1, affine=True, track_running_stats=True)\n",
      "    )\n",
      "  )\n",
      "  (layer3): Sequential(\n",
      "    (0): BasicBlock(\n",
      "      (conv1): Conv2d(128, 256, kernel_size=(3, 3), stride=(2, 2), padding=(1, 1), bias=False)\n",
      "      (bn1): BatchNorm2d(256, eps=1e-05, momentum=0.1, affine=True, track_running_stats=True)\n",
      "      (relu): ReLU(inplace)\n",
      "      (conv2): Conv2d(256, 256, kernel_size=(3, 3), stride=(1, 1), padding=(1, 1), bias=False)\n",
      "      (bn2): BatchNorm2d(256, eps=1e-05, momentum=0.1, affine=True, track_running_stats=True)\n",
      "      (downsample): Sequential(\n",
      "        (0): Conv2d(128, 256, kernel_size=(1, 1), stride=(2, 2), bias=False)\n",
      "        (1): BatchNorm2d(256, eps=1e-05, momentum=0.1, affine=True, track_running_stats=True)\n",
      "      )\n",
      "    )\n",
      "    (1): BasicBlock(\n",
      "      (conv1): Conv2d(256, 256, kernel_size=(3, 3), stride=(1, 1), padding=(1, 1), bias=False)\n",
      "      (bn1): BatchNorm2d(256, eps=1e-05, momentum=0.1, affine=True, track_running_stats=True)\n",
      "      (relu): ReLU(inplace)\n",
      "      (conv2): Conv2d(256, 256, kernel_size=(3, 3), stride=(1, 1), padding=(1, 1), bias=False)\n",
      "      (bn2): BatchNorm2d(256, eps=1e-05, momentum=0.1, affine=True, track_running_stats=True)\n",
      "    )\n",
      "  )\n",
      "  (layer4): Sequential(\n",
      "    (0): BasicBlock(\n",
      "      (conv1): Conv2d(256, 512, kernel_size=(3, 3), stride=(2, 2), padding=(1, 1), bias=False)\n",
      "      (bn1): BatchNorm2d(512, eps=1e-05, momentum=0.1, affine=True, track_running_stats=True)\n",
      "      (relu): ReLU(inplace)\n",
      "      (conv2): Conv2d(512, 512, kernel_size=(3, 3), stride=(1, 1), padding=(1, 1), bias=False)\n",
      "      (bn2): BatchNorm2d(512, eps=1e-05, momentum=0.1, affine=True, track_running_stats=True)\n",
      "      (downsample): Sequential(\n",
      "        (0): Conv2d(256, 512, kernel_size=(1, 1), stride=(2, 2), bias=False)\n",
      "        (1): BatchNorm2d(512, eps=1e-05, momentum=0.1, affine=True, track_running_stats=True)\n",
      "      )\n",
      "    )\n",
      "    (1): BasicBlock(\n",
      "      (conv1): Conv2d(512, 512, kernel_size=(3, 3), stride=(1, 1), padding=(1, 1), bias=False)\n",
      "      (bn1): BatchNorm2d(512, eps=1e-05, momentum=0.1, affine=True, track_running_stats=True)\n",
      "      (relu): ReLU(inplace)\n",
      "      (conv2): Conv2d(512, 512, kernel_size=(3, 3), stride=(1, 1), padding=(1, 1), bias=False)\n",
      "      (bn2): BatchNorm2d(512, eps=1e-05, momentum=0.1, affine=True, track_running_stats=True)\n",
      "    )\n",
      "  )\n",
      "  (avgpool): AdaptiveAvgPool2d(output_size=(1, 1))\n",
      "  (fc): Linear(in_features=512, out_features=15, bias=True)\n",
      "  (dropout): Dropout(p=0.5)\n",
      ")\n"
     ]
    }
   ],
   "source": [
    "model = models.resnet18(pretrained=False)\n",
    "# window_size channels\n",
    "# model.conv1 = torch.nn.Conv2d(window_size, batch_size, kernel_size=(7, 7), stride=(2, 2), padding=(3, 3), bias=False)\n",
    "model.conv1 = torch.nn.Conv2d(channel, 64, kernel_size=(7, 7), stride=(2, 2), padding=(3, 3), bias=False)\n",
    "model.fc = torch.nn.Linear(512, label_size, bias=True)\n",
    "model.add_module(\"dropout\", torch.nn.Dropout(p=0.5))\n",
    "model = model.double()\n",
    "\n",
    "# move tensors to GPU is CUDA is available\n",
    "if train_on_gpu:\n",
    "    model.cuda()\n",
    "print(model)"
   ]
  },
  {
   "cell_type": "markdown",
   "metadata": {},
   "source": [
    "---\n",
    "## Training the Network\n",
    "\n",
    "Remember to look at how the training and validation loss decreases over time; if the validation loss ever increases it indicates possible overfitting."
   ]
  },
  {
   "cell_type": "code",
   "execution_count": 110,
   "metadata": {},
   "outputs": [
    {
     "name": "stdout",
     "output_type": "stream",
     "text": [
      "Epoch: 1 \tTraining Loss: 1.032725 \tValidation Loss: 0.814508\n",
      "Validation loss decreased (inf --> 0.814508).  Saving model ...\n",
      "Epoch: 2 \tTraining Loss: 0.769921 \tValidation Loss: 0.726410\n",
      "Validation loss decreased (0.814508 --> 0.726410).  Saving model ...\n",
      "Epoch: 3 \tTraining Loss: 0.639482 \tValidation Loss: 0.634240\n",
      "Validation loss decreased (0.726410 --> 0.634240).  Saving model ...\n",
      "Epoch: 4 \tTraining Loss: 0.550996 \tValidation Loss: 0.587119\n",
      "Validation loss decreased (0.634240 --> 0.587119).  Saving model ...\n",
      "Epoch: 5 \tTraining Loss: 0.487467 \tValidation Loss: 4.810807\n",
      "Epoch: 6 \tTraining Loss: 0.435296 \tValidation Loss: 0.533793\n",
      "Validation loss decreased (0.587119 --> 0.533793).  Saving model ...\n",
      "Epoch: 7 \tTraining Loss: 0.392114 \tValidation Loss: 0.619762\n",
      "Epoch: 8 \tTraining Loss: 0.354208 \tValidation Loss: 0.439763\n",
      "Validation loss decreased (0.533793 --> 0.439763).  Saving model ...\n",
      "Epoch: 9 \tTraining Loss: 0.321316 \tValidation Loss: 0.568901\n",
      "Epoch: 10 \tTraining Loss: 0.294866 \tValidation Loss: 0.409219\n",
      "Validation loss decreased (0.439763 --> 0.409219).  Saving model ...\n",
      "Epoch: 11 \tTraining Loss: 0.259204 \tValidation Loss: 0.372218\n",
      "Validation loss decreased (0.409219 --> 0.372218).  Saving model ...\n",
      "Epoch: 12 \tTraining Loss: 0.235578 \tValidation Loss: 0.401161\n",
      "Epoch: 13 \tTraining Loss: 0.210822 \tValidation Loss: 0.316628\n",
      "Validation loss decreased (0.372218 --> 0.316628).  Saving model ...\n",
      "Epoch: 14 \tTraining Loss: 0.194817 \tValidation Loss: 0.369080\n",
      "Epoch: 15 \tTraining Loss: 0.175157 \tValidation Loss: 0.341586\n",
      "Epoch: 16 \tTraining Loss: 0.162815 \tValidation Loss: 0.332316\n",
      "Epoch: 17 \tTraining Loss: 0.144617 \tValidation Loss: 0.351437\n",
      "Epoch: 18 \tTraining Loss: 0.135487 \tValidation Loss: 0.371583\n",
      "Epoch: 19 \tTraining Loss: 0.125377 \tValidation Loss: 0.347153\n",
      "Epoch: 20 \tTraining Loss: 0.119319 \tValidation Loss: 0.335710\n",
      "Epoch: 21 \tTraining Loss: 0.107631 \tValidation Loss: 0.360613\n",
      "Epoch: 22 \tTraining Loss: 0.105698 \tValidation Loss: 0.328106\n",
      "Epoch: 23 \tTraining Loss: 0.093642 \tValidation Loss: 0.310107\n",
      "Validation loss decreased (0.316628 --> 0.310107).  Saving model ...\n",
      "Epoch: 24 \tTraining Loss: 0.088842 \tValidation Loss: 0.329411\n",
      "Epoch: 25 \tTraining Loss: 0.083809 \tValidation Loss: 0.325375\n",
      "Epoch: 26 \tTraining Loss: 0.082899 \tValidation Loss: 0.359737\n",
      "Epoch: 27 \tTraining Loss: 0.073642 \tValidation Loss: 0.320962\n",
      "Epoch: 28 \tTraining Loss: 0.072875 \tValidation Loss: 0.373855\n",
      "Epoch: 29 \tTraining Loss: 0.067947 \tValidation Loss: 0.311584\n",
      "Epoch: 30 \tTraining Loss: 0.064259 \tValidation Loss: 0.341462\n",
      "Epoch: 31 \tTraining Loss: 0.068572 \tValidation Loss: 0.349140\n",
      "Epoch: 32 \tTraining Loss: 0.061564 \tValidation Loss: 0.282234\n",
      "Validation loss decreased (0.310107 --> 0.282234).  Saving model ...\n",
      "Epoch: 33 \tTraining Loss: 0.054489 \tValidation Loss: 0.326677\n",
      "Epoch: 34 \tTraining Loss: 0.055731 \tValidation Loss: 0.344043\n",
      "Epoch: 35 \tTraining Loss: 0.056396 \tValidation Loss: 0.333814\n",
      "Epoch: 36 \tTraining Loss: 0.053323 \tValidation Loss: 0.319038\n",
      "Epoch: 37 \tTraining Loss: 0.048218 \tValidation Loss: 0.377355\n",
      "Epoch: 38 \tTraining Loss: 0.050398 \tValidation Loss: 0.401353\n",
      "Epoch: 39 \tTraining Loss: 0.046763 \tValidation Loss: 0.350039\n",
      "Epoch: 40 \tTraining Loss: 0.047038 \tValidation Loss: 0.365806\n",
      "Epoch: 41 \tTraining Loss: 0.043764 \tValidation Loss: 0.338526\n",
      "Epoch: 42 \tTraining Loss: 0.045151 \tValidation Loss: 0.344110\n",
      "Epoch: 43 \tTraining Loss: 0.046700 \tValidation Loss: 0.369333\n",
      "Epoch: 44 \tTraining Loss: 0.041482 \tValidation Loss: 7.165083\n",
      "Epoch: 45 \tTraining Loss: 0.040560 \tValidation Loss: 0.320530\n",
      "Epoch: 46 \tTraining Loss: 0.039103 \tValidation Loss: 0.426849\n",
      "Epoch: 47 \tTraining Loss: 0.042562 \tValidation Loss: 0.339640\n",
      "Epoch: 48 \tTraining Loss: 0.039129 \tValidation Loss: 0.439284\n",
      "Epoch: 49 \tTraining Loss: 0.041183 \tValidation Loss: 0.340490\n",
      "Epoch: 50 \tTraining Loss: 0.036058 \tValidation Loss: 9.390626\n",
      "Training time: 547 min 49 sec\n"
     ]
    }
   ],
   "source": [
    "import time\n",
    "start_time = time.time()\n",
    "\n",
    "criterion = nn.CrossEntropyLoss()\n",
    "#criterion = nn.NLLLoss()\n",
    "optimizer = optim.Adam(model.parameters(), lr=learning_rate)\n",
    "\n",
    "# number of epochs to train the model\n",
    "n_epochs = 50\n",
    "\n",
    "valid_loss_min = np.Inf # track change in validation loss\n",
    "\n",
    "for epoch in range(1, n_epochs+1):\n",
    "\n",
    "    # keep track of training and validation loss\n",
    "    train_loss = 0.0\n",
    "    valid_loss = 0.0\n",
    "    \n",
    "    ###################\n",
    "    # train the model #\n",
    "    ###################\n",
    "    model.train()\n",
    "    for features, labels in trainloader:\n",
    "        # move tensors to GPU if CUDA is available\n",
    "        if train_on_gpu:\n",
    "            features, labels = features.cuda(), labels.cuda()\n",
    "        # clear the gradients of all optimized variables\n",
    "        optimizer.zero_grad()\n",
    "        # forward pass: compute predicted outputs by passing inputs to the model\n",
    "        output = model(features)\n",
    "        # calculate the batch loss\n",
    "        loss = criterion(output, labels)\n",
    "        # backward pass: compute gradient of the loss with respect to model parameters\n",
    "        loss.backward()\n",
    "        # perform a single optimization step (parameter update)\n",
    "        optimizer.step()\n",
    "        # update training loss\n",
    "        train_loss += loss.item()*features.size(0)\n",
    "        \n",
    "    ######################    \n",
    "    # validate the model #\n",
    "    ######################\n",
    "    model.eval()\n",
    "    for features, labels in validloader:\n",
    "        # move tensors to GPU if CUDA is available\n",
    "        if train_on_gpu:\n",
    "            features, labels = features.cuda(), labels.cuda()\n",
    "        # forward pass: compute predicted outputs by passing inputs to the model\n",
    "        output = model(features)\n",
    "        # calculate the batch loss\n",
    "        loss = criterion(output, labels)\n",
    "        # update average validation loss \n",
    "        valid_loss += loss.item()*features.size(0)\n",
    "    \n",
    "    # calculate average losses\n",
    "    train_loss = train_loss/len(trainloader.sampler)\n",
    "    valid_loss = valid_loss/len(validloader.sampler)\n",
    "        \n",
    "    # print training/validation statistics \n",
    "    print('Epoch: {} \\tTraining Loss: {:.6f} \\tValidation Loss: {:.6f}'.format(\n",
    "        epoch, train_loss, valid_loss))\n",
    "    \n",
    "    # save model if validation loss has decreased\n",
    "    if valid_loss <= valid_loss_min:\n",
    "        print('Validation loss decreased ({:.6f} --> {:.6f}).  Saving model ...'.format(\n",
    "        valid_loss_min,\n",
    "        valid_loss))\n",
    "        torch.save(model.state_dict(), 'model_Spinetrack_data.pt')\n",
    "        valid_loss_min = valid_loss\n",
    "\n",
    "# output running time\n",
    "running_time = time.time() - start_time\n",
    "sec = running_time % 60\n",
    "miniute = running_time / 60\n",
    "print(\"Training time: {} min {} sec\".format(int(miniute), int(sec)))"
   ]
  },
  {
   "cell_type": "markdown",
   "metadata": {},
   "source": [
    "###  Load the Model with the Lowest Validation Loss"
   ]
  },
  {
   "cell_type": "code",
   "execution_count": 113,
   "metadata": {},
   "outputs": [
    {
     "data": {
      "text/plain": [
       "IncompatibleKeys(missing_keys=[], unexpected_keys=[])"
      ]
     },
     "execution_count": 113,
     "metadata": {},
     "output_type": "execute_result"
    }
   ],
   "source": [
    "model.load_state_dict(torch.load('model_Spinetrack_data.pt'))"
   ]
  },
  {
   "cell_type": "markdown",
   "metadata": {},
   "source": [
    "---\n",
    "## Test the Trained Network\n",
    "\n",
    "Test your trained model on previously unseen data! A \"good\" result will be a result that gets more than 70% accuracy on these test data."
   ]
  },
  {
   "cell_type": "code",
   "execution_count": 116,
   "metadata": {},
   "outputs": [],
   "source": [
    "# Release all the GPU memory cache that can be freed\n",
    "torch.cuda.empty_cache() "
   ]
  },
  {
   "cell_type": "markdown",
   "metadata": {},
   "source": [
    "### Overall accuracy and each class accuracy"
   ]
  },
  {
   "cell_type": "code",
   "execution_count": 114,
   "metadata": {},
   "outputs": [
    {
     "name": "stdout",
     "output_type": "stream",
     "text": [
      "Test Loss: 0.267971\n",
      "\n",
      "Test Accuracy of Pulling_OneH: 79% (535/671)\n",
      "Test Accuracy of Overhead: 94% (603/637)\n",
      "Test Accuracy of Pulling: 88% (311/350)\n",
      "Test Accuracy of Sitting: 91% (311/339)\n",
      "Test Accuracy of Lifting: 95% (10291/10809)\n",
      "Test Accuracy of Crawling: 91% (287/313)\n",
      "Test Accuracy of Standing: 99% (272/274)\n",
      "Test Accuracy of Carrying: 92% (742/802)\n",
      "Test Accuracy of Walking: 92% (351/380)\n",
      "Test Accuracy of Pushing: 85% (563/655)\n",
      "Test Accuracy of Reaching: 95% (976/1024)\n",
      "Test Accuracy of Static_Stoop: 94% (329/350)\n",
      "Test Accuracy of Kneeling: 90% (283/313)\n",
      "Test Accuracy of Lifting_OneH: 93% (3129/3357)\n",
      "Test Accuracy of Crouching: 66% (231/346)\n",
      "\n",
      "Test Accuracy (Overall): 93% (19214/20620)\n"
     ]
    }
   ],
   "source": [
    "# track test loss\n",
    "test_loss = 0.0\n",
    "class_correct = list(0. for i in range(len(index_dict)))\n",
    "class_total = list(0. for i in range(len(index_dict)))\n",
    "\n",
    "criterion = nn.CrossEntropyLoss()\n",
    "#criterion = nn.NLLLoss()\n",
    "optimizer = optim.Adam(model.parameters(), lr=0.003)\n",
    "\n",
    "model.eval()\n",
    "torch.no_grad()\n",
    "# iterate over test data\n",
    "for features, labels in testloader:\n",
    "    # move tensors to GPU if CUDA is available\n",
    "    if train_on_gpu:\n",
    "        features, labels = features.cuda(), labels.cuda()\n",
    "    # forward pass: compute predicted outputs by passing inputs to the model\n",
    "    output = model(features)\n",
    "    # calculate the batch loss\n",
    "    loss = criterion(output, labels)\n",
    "    # update test loss \n",
    "    test_loss += loss.item()*features.size(0)\n",
    "    # convert output probabilities to predicted class\n",
    "    _, pred = torch.max(output, 1)    \n",
    "    # compare predictions to true label\n",
    "    correct_tensor = pred.eq(labels.data.view_as(pred))\n",
    "    correct = np.squeeze(correct_tensor.numpy()) if not train_on_gpu else np.squeeze(correct_tensor.cpu().numpy())\n",
    "    # calculate test accuracy for each object class\n",
    "    for i in range(batch_size):\n",
    "        try:\n",
    "            label = labels.data[i]\n",
    "            class_correct[label] += correct[i].item()\n",
    "            class_total[label] += 1\n",
    "        except:\n",
    "            pass\n",
    "\n",
    "# average test loss\n",
    "test_loss = test_loss/len(testloader.dataset)\n",
    "print('Test Loss: {:.6f}\\n'.format(test_loss))\n",
    "\n",
    "for i in range(len(index_dict)):\n",
    "    if class_total[i] > 0:\n",
    "        print('Test Accuracy of %5s: %2d%% (%2d/%2d)' % (\n",
    "            list(index_dict.keys())[i], 100 * class_correct[i] / class_total[i],\n",
    "            np.sum(class_correct[i]), np.sum(class_total[i])))\n",
    "    else:\n",
    "        print('Test Accuracy of %5s: N/A (no training examples)' % (list(index_dict.keys())[i]))\n",
    "\n",
    "print('\\nTest Accuracy (Overall): %2d%% (%2d/%2d)' % (\n",
    "    100. * np.sum(class_correct) / np.sum(class_total),\n",
    "    np.sum(class_correct), np.sum(class_total)))"
   ]
  },
  {
   "cell_type": "markdown",
   "metadata": {},
   "source": [
    "### Overall accuracy (different calculation method)"
   ]
  },
  {
   "cell_type": "code",
   "execution_count": 118,
   "metadata": {},
   "outputs": [
    {
     "ename": "RuntimeError",
     "evalue": "CUDA out of memory. Tried to allocate 20.00 MiB (GPU 0; 4.00 GiB total capacity; 2.92 GiB already allocated; 15.19 MiB free; 13.71 MiB cached)",
     "output_type": "error",
     "traceback": [
      "\u001b[1;31m---------------------------------------------------------------------------\u001b[0m",
      "\u001b[1;31mRuntimeError\u001b[0m                              Traceback (most recent call last)",
      "\u001b[1;32m<ipython-input-118-8f1997b81984>\u001b[0m in \u001b[0;36m<module>\u001b[1;34m\u001b[0m\n\u001b[0;32m      6\u001b[0m     \u001b[1;32mif\u001b[0m \u001b[0mtrain_on_gpu\u001b[0m\u001b[1;33m:\u001b[0m\u001b[1;33m\u001b[0m\u001b[1;33m\u001b[0m\u001b[0m\n\u001b[0;32m      7\u001b[0m         \u001b[0mfeatures\u001b[0m\u001b[1;33m,\u001b[0m \u001b[0mlabels\u001b[0m \u001b[1;33m=\u001b[0m \u001b[0mfeatures\u001b[0m\u001b[1;33m.\u001b[0m\u001b[0mcuda\u001b[0m\u001b[1;33m(\u001b[0m\u001b[1;33m)\u001b[0m\u001b[1;33m,\u001b[0m \u001b[0mlabels\u001b[0m\u001b[1;33m.\u001b[0m\u001b[0mcuda\u001b[0m\u001b[1;33m(\u001b[0m\u001b[1;33m)\u001b[0m\u001b[1;33m\u001b[0m\u001b[1;33m\u001b[0m\u001b[0m\n\u001b[1;32m----> 8\u001b[1;33m     \u001b[0mloss\u001b[0m \u001b[1;33m=\u001b[0m \u001b[0mmodel\u001b[0m\u001b[1;33m(\u001b[0m\u001b[0mfeatures\u001b[0m\u001b[1;33m)\u001b[0m\u001b[1;33m\u001b[0m\u001b[1;33m\u001b[0m\u001b[0m\n\u001b[0m\u001b[0;32m      9\u001b[0m     \u001b[0mtest_loss\u001b[0m \u001b[1;33m+=\u001b[0m \u001b[0mcriterion\u001b[0m\u001b[1;33m(\u001b[0m\u001b[0mloss\u001b[0m\u001b[1;33m,\u001b[0m \u001b[0mlabels\u001b[0m\u001b[1;33m)\u001b[0m\u001b[1;33m\u001b[0m\u001b[1;33m\u001b[0m\u001b[0m\n\u001b[0;32m     10\u001b[0m \u001b[1;33m\u001b[0m\u001b[0m\n",
      "\u001b[1;32m~\\Anaconda3\\lib\\site-packages\\torch\\nn\\modules\\module.py\u001b[0m in \u001b[0;36m__call__\u001b[1;34m(self, *input, **kwargs)\u001b[0m\n\u001b[0;32m    491\u001b[0m             \u001b[0mresult\u001b[0m \u001b[1;33m=\u001b[0m \u001b[0mself\u001b[0m\u001b[1;33m.\u001b[0m\u001b[0m_slow_forward\u001b[0m\u001b[1;33m(\u001b[0m\u001b[1;33m*\u001b[0m\u001b[0minput\u001b[0m\u001b[1;33m,\u001b[0m \u001b[1;33m**\u001b[0m\u001b[0mkwargs\u001b[0m\u001b[1;33m)\u001b[0m\u001b[1;33m\u001b[0m\u001b[1;33m\u001b[0m\u001b[0m\n\u001b[0;32m    492\u001b[0m         \u001b[1;32melse\u001b[0m\u001b[1;33m:\u001b[0m\u001b[1;33m\u001b[0m\u001b[1;33m\u001b[0m\u001b[0m\n\u001b[1;32m--> 493\u001b[1;33m             \u001b[0mresult\u001b[0m \u001b[1;33m=\u001b[0m \u001b[0mself\u001b[0m\u001b[1;33m.\u001b[0m\u001b[0mforward\u001b[0m\u001b[1;33m(\u001b[0m\u001b[1;33m*\u001b[0m\u001b[0minput\u001b[0m\u001b[1;33m,\u001b[0m \u001b[1;33m**\u001b[0m\u001b[0mkwargs\u001b[0m\u001b[1;33m)\u001b[0m\u001b[1;33m\u001b[0m\u001b[1;33m\u001b[0m\u001b[0m\n\u001b[0m\u001b[0;32m    494\u001b[0m         \u001b[1;32mfor\u001b[0m \u001b[0mhook\u001b[0m \u001b[1;32min\u001b[0m \u001b[0mself\u001b[0m\u001b[1;33m.\u001b[0m\u001b[0m_forward_hooks\u001b[0m\u001b[1;33m.\u001b[0m\u001b[0mvalues\u001b[0m\u001b[1;33m(\u001b[0m\u001b[1;33m)\u001b[0m\u001b[1;33m:\u001b[0m\u001b[1;33m\u001b[0m\u001b[1;33m\u001b[0m\u001b[0m\n\u001b[0;32m    495\u001b[0m             \u001b[0mhook_result\u001b[0m \u001b[1;33m=\u001b[0m \u001b[0mhook\u001b[0m\u001b[1;33m(\u001b[0m\u001b[0mself\u001b[0m\u001b[1;33m,\u001b[0m \u001b[0minput\u001b[0m\u001b[1;33m,\u001b[0m \u001b[0mresult\u001b[0m\u001b[1;33m)\u001b[0m\u001b[1;33m\u001b[0m\u001b[1;33m\u001b[0m\u001b[0m\n",
      "\u001b[1;32m~\\Anaconda3\\lib\\site-packages\\torchvision\\models\\resnet.py\u001b[0m in \u001b[0;36mforward\u001b[1;34m(self, x)\u001b[0m\n\u001b[0;32m    190\u001b[0m \u001b[1;33m\u001b[0m\u001b[0m\n\u001b[0;32m    191\u001b[0m     \u001b[1;32mdef\u001b[0m \u001b[0mforward\u001b[0m\u001b[1;33m(\u001b[0m\u001b[0mself\u001b[0m\u001b[1;33m,\u001b[0m \u001b[0mx\u001b[0m\u001b[1;33m)\u001b[0m\u001b[1;33m:\u001b[0m\u001b[1;33m\u001b[0m\u001b[1;33m\u001b[0m\u001b[0m\n\u001b[1;32m--> 192\u001b[1;33m         \u001b[0mx\u001b[0m \u001b[1;33m=\u001b[0m \u001b[0mself\u001b[0m\u001b[1;33m.\u001b[0m\u001b[0mconv1\u001b[0m\u001b[1;33m(\u001b[0m\u001b[0mx\u001b[0m\u001b[1;33m)\u001b[0m\u001b[1;33m\u001b[0m\u001b[1;33m\u001b[0m\u001b[0m\n\u001b[0m\u001b[0;32m    193\u001b[0m         \u001b[0mx\u001b[0m \u001b[1;33m=\u001b[0m \u001b[0mself\u001b[0m\u001b[1;33m.\u001b[0m\u001b[0mbn1\u001b[0m\u001b[1;33m(\u001b[0m\u001b[0mx\u001b[0m\u001b[1;33m)\u001b[0m\u001b[1;33m\u001b[0m\u001b[1;33m\u001b[0m\u001b[0m\n\u001b[0;32m    194\u001b[0m         \u001b[0mx\u001b[0m \u001b[1;33m=\u001b[0m \u001b[0mself\u001b[0m\u001b[1;33m.\u001b[0m\u001b[0mrelu\u001b[0m\u001b[1;33m(\u001b[0m\u001b[0mx\u001b[0m\u001b[1;33m)\u001b[0m\u001b[1;33m\u001b[0m\u001b[1;33m\u001b[0m\u001b[0m\n",
      "\u001b[1;32m~\\Anaconda3\\lib\\site-packages\\torch\\nn\\modules\\module.py\u001b[0m in \u001b[0;36m__call__\u001b[1;34m(self, *input, **kwargs)\u001b[0m\n\u001b[0;32m    491\u001b[0m             \u001b[0mresult\u001b[0m \u001b[1;33m=\u001b[0m \u001b[0mself\u001b[0m\u001b[1;33m.\u001b[0m\u001b[0m_slow_forward\u001b[0m\u001b[1;33m(\u001b[0m\u001b[1;33m*\u001b[0m\u001b[0minput\u001b[0m\u001b[1;33m,\u001b[0m \u001b[1;33m**\u001b[0m\u001b[0mkwargs\u001b[0m\u001b[1;33m)\u001b[0m\u001b[1;33m\u001b[0m\u001b[1;33m\u001b[0m\u001b[0m\n\u001b[0;32m    492\u001b[0m         \u001b[1;32melse\u001b[0m\u001b[1;33m:\u001b[0m\u001b[1;33m\u001b[0m\u001b[1;33m\u001b[0m\u001b[0m\n\u001b[1;32m--> 493\u001b[1;33m             \u001b[0mresult\u001b[0m \u001b[1;33m=\u001b[0m \u001b[0mself\u001b[0m\u001b[1;33m.\u001b[0m\u001b[0mforward\u001b[0m\u001b[1;33m(\u001b[0m\u001b[1;33m*\u001b[0m\u001b[0minput\u001b[0m\u001b[1;33m,\u001b[0m \u001b[1;33m**\u001b[0m\u001b[0mkwargs\u001b[0m\u001b[1;33m)\u001b[0m\u001b[1;33m\u001b[0m\u001b[1;33m\u001b[0m\u001b[0m\n\u001b[0m\u001b[0;32m    494\u001b[0m         \u001b[1;32mfor\u001b[0m \u001b[0mhook\u001b[0m \u001b[1;32min\u001b[0m \u001b[0mself\u001b[0m\u001b[1;33m.\u001b[0m\u001b[0m_forward_hooks\u001b[0m\u001b[1;33m.\u001b[0m\u001b[0mvalues\u001b[0m\u001b[1;33m(\u001b[0m\u001b[1;33m)\u001b[0m\u001b[1;33m:\u001b[0m\u001b[1;33m\u001b[0m\u001b[1;33m\u001b[0m\u001b[0m\n\u001b[0;32m    495\u001b[0m             \u001b[0mhook_result\u001b[0m \u001b[1;33m=\u001b[0m \u001b[0mhook\u001b[0m\u001b[1;33m(\u001b[0m\u001b[0mself\u001b[0m\u001b[1;33m,\u001b[0m \u001b[0minput\u001b[0m\u001b[1;33m,\u001b[0m \u001b[0mresult\u001b[0m\u001b[1;33m)\u001b[0m\u001b[1;33m\u001b[0m\u001b[1;33m\u001b[0m\u001b[0m\n",
      "\u001b[1;32m~\\Anaconda3\\lib\\site-packages\\torch\\nn\\modules\\conv.py\u001b[0m in \u001b[0;36mforward\u001b[1;34m(self, input)\u001b[0m\n\u001b[0;32m    336\u001b[0m                             _pair(0), self.dilation, self.groups)\n\u001b[0;32m    337\u001b[0m         return F.conv2d(input, self.weight, self.bias, self.stride,\n\u001b[1;32m--> 338\u001b[1;33m                         self.padding, self.dilation, self.groups)\n\u001b[0m\u001b[0;32m    339\u001b[0m \u001b[1;33m\u001b[0m\u001b[0m\n\u001b[0;32m    340\u001b[0m \u001b[1;33m\u001b[0m\u001b[0m\n",
      "\u001b[1;31mRuntimeError\u001b[0m: CUDA out of memory. Tried to allocate 20.00 MiB (GPU 0; 4.00 GiB total capacity; 2.92 GiB already allocated; 15.19 MiB free; 13.71 MiB cached)"
     ]
    }
   ],
   "source": [
    "# Turn off gradients for validation, saves memory and computations\n",
    "torch.no_grad()\n",
    "accuracy = 0\n",
    "for features, labels in testloader:\n",
    "    # move tensors to GPU if CUDA is available\n",
    "    if train_on_gpu:\n",
    "        features, labels = features.cuda(), labels.cuda()\n",
    "    loss = model(features)\n",
    "    test_loss += criterion(loss, labels)\n",
    "\n",
    "#     ps = torch.exp(loss)\n",
    "    top_p, top_class = loss.topk(1, dim=1)\n",
    "    equals = top_class == labels.view(*top_class.shape)\n",
    "    accuracy += torch.mean(equals.type(torch.FloatTensor))\n",
    "print(\"Test Accuracy: {:.3f}\".format(accuracy/len(testloader)))"
   ]
  },
  {
   "cell_type": "code",
   "execution_count": null,
   "metadata": {},
   "outputs": [],
   "source": [
    "# TODO: Figure out pulling_OneH"
   ]
  },
  {
   "cell_type": "code",
   "execution_count": null,
   "metadata": {},
   "outputs": [],
   "source": []
  },
  {
   "cell_type": "code",
   "execution_count": null,
   "metadata": {},
   "outputs": [],
   "source": []
  }
 ],
 "metadata": {
  "kernelspec": {
   "display_name": "Python 3",
   "language": "python",
   "name": "python3"
  },
  "language_info": {
   "codemirror_mode": {
    "name": "ipython",
    "version": 3
   },
   "file_extension": ".py",
   "mimetype": "text/x-python",
   "name": "python",
   "nbconvert_exporter": "python",
   "pygments_lexer": "ipython3",
   "version": "3.7.3"
  }
 },
 "nbformat": 4,
 "nbformat_minor": 2
}
